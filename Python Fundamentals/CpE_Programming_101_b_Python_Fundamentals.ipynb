{
 "cells": [
  {
   "cell_type": "markdown",
   "metadata": {
    "colab_type": "text",
    "id": "view-in-github"
   },
   "source": [
    "<a href=\"https://colab.research.google.com/github/RovilSurioJr/Numerical-Methods/blob/master/Python%20Fundamentals/CpE_Programming_101_b_Python_Fundamentals.ipynb\" target=\"_parent\"><img src=\"https://colab.research.google.com/assets/colab-badge.svg\" alt=\"Open In Colab\"/></a>"
   ]
  },
  {
   "cell_type": "markdown",
   "metadata": {
    "id": "QnAdk8hy7Bl9"
   },
   "source": [
    "# Welcome to Python Fundamentals\n",
    "*by R.J. Surio ©2021*\n",
    "\r\n",
    "In this module, we are going to establish or review our skills in Python programming. In this notebook we are going to cover:\r\n",
    "* Variables and Data Types \r\n",
    "* Operations\r\n",
    "* Input and Output Operations\r\n",
    "* Logic Control\r\n",
    "* Iterables\r\n",
    "* Functions"
   ]
  },
  {
   "cell_type": "markdown",
   "metadata": {
    "id": "T6ABRAjTT1Ta"
   },
   "source": [
    "## Variable and Data Types"
   ]
  },
  {
   "cell_type": "markdown",
   "metadata": {},
   "source": [
    "### Discussion :\n",
    "\n",
    "A variable is something like a container in programming that holds data of different types. It is needed because data needs to have a place to become accessible throughout the process or logic being implemented to solve problems. The different Python built-in data types are shown below [1].\n",
    "\n",
    "![image](https://media.geeksforgeeks.org/wp-content/uploads/20191023173512/Python-data-structure.jpg)\n",
    "\n"
   ]
  },
  {
   "cell_type": "markdown",
   "metadata": {},
   "source": [
    "### Examples"
   ]
  },
  {
   "cell_type": "code",
   "execution_count": 1,
   "metadata": {
    "id": "G8JI3DTZ616F"
   },
   "outputs": [],
   "source": [
    "x = 1\r\n",
    "a,b = 0, -1"
   ]
  },
  {
   "cell_type": "code",
   "execution_count": 2,
   "metadata": {
    "id": "QLT9rz2dUJ95"
   },
   "outputs": [
    {
     "data": {
      "text/plain": [
       "int"
      ]
     },
     "execution_count": 2,
     "metadata": {},
     "output_type": "execute_result"
    }
   ],
   "source": [
    "type(x)"
   ]
  },
  {
   "cell_type": "code",
   "execution_count": 3,
   "metadata": {
    "id": "TR_rvX4SUWqx"
   },
   "outputs": [
    {
     "data": {
      "text/plain": [
       "float"
      ]
     },
     "execution_count": 3,
     "metadata": {},
     "output_type": "execute_result"
    }
   ],
   "source": [
    "y = 1.0\r\n",
    "type(y)"
   ]
  },
  {
   "cell_type": "code",
   "execution_count": 4,
   "metadata": {
    "id": "FqV2upOiXcnC"
   },
   "outputs": [
    {
     "data": {
      "text/plain": [
       "float"
      ]
     },
     "execution_count": 4,
     "metadata": {},
     "output_type": "execute_result"
    }
   ],
   "source": [
    "x = float(x)\r\n",
    "type(x)"
   ]
  },
  {
   "cell_type": "code",
   "execution_count": 5,
   "metadata": {
    "id": "2tuyqwmyXiDb"
   },
   "outputs": [
    {
     "data": {
      "text/plain": [
       "str"
      ]
     },
     "execution_count": 5,
     "metadata": {},
     "output_type": "execute_result"
    }
   ],
   "source": [
    "s,t,u = \"0\", '1', 'one'\r\n",
    "type(s)"
   ]
  },
  {
   "cell_type": "code",
   "execution_count": 6,
   "metadata": {
    "id": "6JwWqHx3XlmB"
   },
   "outputs": [
    {
     "data": {
      "text/plain": [
       "0"
      ]
     },
     "execution_count": 6,
     "metadata": {},
     "output_type": "execute_result"
    }
   ],
   "source": [
    "s_int = int(s)\r\n",
    "s_int"
   ]
  },
  {
   "cell_type": "markdown",
   "metadata": {
    "id": "9RgPwQR4YVG5"
   },
   "source": [
    "## Operations \n",
    "\n"
   ]
  },
  {
   "cell_type": "markdown",
   "metadata": {
    "id": "mvoS_zuJYbsg"
   },
   "source": [
    "### Arithmetic"
   ]
  },
  {
   "cell_type": "markdown",
   "metadata": {},
   "source": [
    "### Discussion :\n",
    "\n",
    "Arithmetic operators are used to perform the basic mathematical operations used with numerical values [2].\n",
    "\n",
    "![image](https://cdn.educba.com/academy/wp-content/uploads/2020/01/Arithmetic-Operators-in-Python-3.jpg)"
   ]
  },
  {
   "cell_type": "markdown",
   "metadata": {},
   "source": [
    "### Examples"
   ]
  },
  {
   "cell_type": "code",
   "execution_count": 7,
   "metadata": {
    "id": "DSjUO0KcYoE-"
   },
   "outputs": [],
   "source": [
    "a,b,c,d = 2.0, -0.5, 0, -32"
   ]
  },
  {
   "cell_type": "code",
   "execution_count": 8,
   "metadata": {
    "id": "o_kk0XFzYX9o"
   },
   "outputs": [
    {
     "data": {
      "text/plain": [
       "1.5"
      ]
     },
     "execution_count": 8,
     "metadata": {},
     "output_type": "execute_result"
    }
   ],
   "source": [
    "### Addition\r\n",
    "S = a+b\r\n",
    "S"
   ]
  },
  {
   "cell_type": "code",
   "execution_count": 9,
   "metadata": {
    "id": "TC5oFq3MY4jk"
   },
   "outputs": [
    {
     "data": {
      "text/plain": [
       "31.5"
      ]
     },
     "execution_count": 9,
     "metadata": {},
     "output_type": "execute_result"
    }
   ],
   "source": [
    "### Subtraction\r\n",
    "D = b-d\r\n",
    "D"
   ]
  },
  {
   "cell_type": "code",
   "execution_count": 10,
   "metadata": {
    "id": "j0bGayj5Y9wr"
   },
   "outputs": [
    {
     "data": {
      "text/plain": [
       "-64.0"
      ]
     },
     "execution_count": 10,
     "metadata": {},
     "output_type": "execute_result"
    }
   ],
   "source": [
    "### Multiplication\r\n",
    "P = a*d\r\n",
    "P"
   ]
  },
  {
   "cell_type": "code",
   "execution_count": 11,
   "metadata": {
    "id": "FnMWmq5LZLEU"
   },
   "outputs": [
    {
     "data": {
      "text/plain": [
       "0.0"
      ]
     },
     "execution_count": 11,
     "metadata": {},
     "output_type": "execute_result"
    }
   ],
   "source": [
    "### Division\r\n",
    "Q = c/a\r\n",
    "Q"
   ]
  },
  {
   "cell_type": "code",
   "execution_count": 12,
   "metadata": {
    "id": "cQeVcFIWZd8o"
   },
   "outputs": [
    {
     "data": {
      "text/plain": [
       "-4.0"
      ]
     },
     "execution_count": 12,
     "metadata": {},
     "output_type": "execute_result"
    }
   ],
   "source": [
    "### Floor Division\r\n",
    "Fq = a//b\r\n",
    "Fq"
   ]
  },
  {
   "cell_type": "code",
   "execution_count": 13,
   "metadata": {
    "id": "YLaUu6APZSzR"
   },
   "outputs": [
    {
     "data": {
      "text/plain": [
       "0.7071067811865476"
      ]
     },
     "execution_count": 13,
     "metadata": {},
     "output_type": "execute_result"
    }
   ],
   "source": [
    "### Exponentiation\r\n",
    "E = a**b\r\n",
    "E"
   ]
  },
  {
   "cell_type": "code",
   "execution_count": 14,
   "metadata": {
    "id": "uf_0sf4CZ1JT"
   },
   "outputs": [
    {
     "data": {
      "text/plain": [
       "0.0"
      ]
     },
     "execution_count": 14,
     "metadata": {},
     "output_type": "execute_result"
    }
   ],
   "source": [
    "### Modulo\r\n",
    "mod = d%a\r\n",
    "mod"
   ]
  },
  {
   "cell_type": "markdown",
   "metadata": {
    "id": "afyWvb1ZaJJ6"
   },
   "source": [
    "### Assignment Operations"
   ]
  },
  {
   "cell_type": "markdown",
   "metadata": {},
   "source": [
    "### Discussion :\n",
    "\n",
    "These are used to assign values to any variables [2].\n",
    "\n",
    "![image](https://cdn.educba.com/academy/wp-content/uploads/2020/01/assignment-operator-in-python.jpg)"
   ]
  },
  {
   "cell_type": "markdown",
   "metadata": {},
   "source": [
    "### Examples"
   ]
  },
  {
   "cell_type": "code",
   "execution_count": 15,
   "metadata": {
    "id": "rMZ8r4WhanaE"
   },
   "outputs": [],
   "source": [
    "G, H, J, K = 0, 100, 2, 2"
   ]
  },
  {
   "cell_type": "code",
   "execution_count": 16,
   "metadata": {
    "id": "IX0EbJ8RaMih"
   },
   "outputs": [
    {
     "data": {
      "text/plain": [
       "2.0"
      ]
     },
     "execution_count": 16,
     "metadata": {},
     "output_type": "execute_result"
    }
   ],
   "source": [
    "G += a\r\n",
    "G"
   ]
  },
  {
   "cell_type": "code",
   "execution_count": 17,
   "metadata": {
    "id": "aIj4hA-JaRA0"
   },
   "outputs": [],
   "source": [
    "H -= d"
   ]
  },
  {
   "cell_type": "code",
   "execution_count": 18,
   "metadata": {
    "id": "vuuDbAbNaXgS"
   },
   "outputs": [
    {
     "data": {
      "text/plain": [
       "4"
      ]
     },
     "execution_count": 18,
     "metadata": {},
     "output_type": "execute_result"
    }
   ],
   "source": [
    "J *= 2\r\n",
    "J"
   ]
  },
  {
   "cell_type": "code",
   "execution_count": 19,
   "metadata": {
    "id": "sGVXGduUaeAj"
   },
   "outputs": [
    {
     "data": {
      "text/plain": [
       "4"
      ]
     },
     "execution_count": 19,
     "metadata": {},
     "output_type": "execute_result"
    }
   ],
   "source": [
    "K **= 2\r\n",
    "K"
   ]
  },
  {
   "cell_type": "markdown",
   "metadata": {
    "id": "UGXuqhVNbW7R"
   },
   "source": [
    "### Comparators"
   ]
  },
  {
   "cell_type": "markdown",
   "metadata": {},
   "source": [
    "### Discussion :\n",
    "\n",
    "Comparators are used to make comparison of 2 values [2].\n",
    "\n",
    "![image](https://cdn.educba.com/academy/wp-content/uploads/2019/09/Python-Comparison-Operators-1.png)"
   ]
  },
  {
   "cell_type": "markdown",
   "metadata": {},
   "source": [
    "### Examples"
   ]
  },
  {
   "cell_type": "code",
   "execution_count": 20,
   "metadata": {
    "id": "Oj9xLaEaYeuY"
   },
   "outputs": [],
   "source": [
    "res_1, res_2, res_3 = 1, 2.0, \"1\"\r\n",
    "true_val = 1.0"
   ]
  },
  {
   "cell_type": "code",
   "execution_count": 21,
   "metadata": {
    "id": "GEXm6RSsbA8Q"
   },
   "outputs": [
    {
     "data": {
      "text/plain": [
       "True"
      ]
     },
     "execution_count": 21,
     "metadata": {},
     "output_type": "execute_result"
    }
   ],
   "source": [
    "## Equality\r\n",
    "res_1 == true_val"
   ]
  },
  {
   "cell_type": "code",
   "execution_count": 22,
   "metadata": {
    "id": "SdHk_b58bZhD"
   },
   "outputs": [
    {
     "data": {
      "text/plain": [
       "True"
      ]
     },
     "execution_count": 22,
     "metadata": {},
     "output_type": "execute_result"
    }
   ],
   "source": [
    "## Non-equality\r\n",
    "res_2 != true_val"
   ]
  },
  {
   "cell_type": "code",
   "execution_count": 23,
   "metadata": {
    "id": "EnA4q50JbQB5"
   },
   "outputs": [
    {
     "data": {
      "text/plain": [
       "False"
      ]
     },
     "execution_count": 23,
     "metadata": {},
     "output_type": "execute_result"
    }
   ],
   "source": [
    "## Inequality\r\n",
    "t1 = res_1 > res_2\r\n",
    "t2 = res_1 < res_2/2\r\n",
    "t3 = res_1 >= res_2/2\r\n",
    "t4 = res_1 <= res_2  \r\n",
    "t1"
   ]
  },
  {
   "cell_type": "markdown",
   "metadata": {
    "id": "9WkfdvbfcC1Y"
   },
   "source": [
    "### Logical"
   ]
  },
  {
   "cell_type": "markdown",
   "metadata": {},
   "source": [
    "### Discussion :\n",
    "\n",
    "Logical operators help to have better program control flow or logic design [3]. The AND, OR, and, NOT are logical operators.\n",
    "\n",
    "![image](https://cdn.educba.com/academy/wp-content/uploads/2020/01/Logical-Operators-in-Python.jpg)"
   ]
  },
  {
   "cell_type": "markdown",
   "metadata": {},
   "source": [
    "### Examples"
   ]
  },
  {
   "cell_type": "code",
   "execution_count": 24,
   "metadata": {},
   "outputs": [
    {
     "name": "stdout",
     "output_type": "stream",
     "text": [
      "yey\n"
     ]
    }
   ],
   "source": [
    "if 3+1 and 2 + 2 == 4:\n",
    "    print(\"yey\")"
   ]
  },
  {
   "cell_type": "code",
   "execution_count": 25,
   "metadata": {
    "id": "cYVG6YeNb-Gz"
   },
   "outputs": [
    {
     "data": {
      "text/plain": [
       "True"
      ]
     },
     "execution_count": 25,
     "metadata": {},
     "output_type": "execute_result"
    }
   ],
   "source": [
    "res_1 == true_val"
   ]
  },
  {
   "cell_type": "code",
   "execution_count": 26,
   "metadata": {
    "id": "rLe6hpkHcN-z"
   },
   "outputs": [
    {
     "data": {
      "text/plain": [
       "False"
      ]
     },
     "execution_count": 26,
     "metadata": {},
     "output_type": "execute_result"
    }
   ],
   "source": [
    "res_1 is true_val"
   ]
  },
  {
   "cell_type": "code",
   "execution_count": 27,
   "metadata": {
    "id": "tr5qxHQmcO-C"
   },
   "outputs": [
    {
     "data": {
      "text/plain": [
       "True"
      ]
     },
     "execution_count": 27,
     "metadata": {},
     "output_type": "execute_result"
    }
   ],
   "source": [
    "res_1 is not true_val"
   ]
  },
  {
   "cell_type": "code",
   "execution_count": 28,
   "metadata": {
    "id": "3GU72N-Gcslz"
   },
   "outputs": [
    {
     "data": {
      "text/plain": [
       "False"
      ]
     },
     "execution_count": 28,
     "metadata": {},
     "output_type": "execute_result"
    }
   ],
   "source": [
    "p, q = True, False\r\n",
    "conj = p and q\r\n",
    "conj"
   ]
  },
  {
   "cell_type": "code",
   "execution_count": 29,
   "metadata": {
    "id": "ihMxcT6KcvQj"
   },
   "outputs": [
    {
     "data": {
      "text/plain": [
       "True"
      ]
     },
     "execution_count": 29,
     "metadata": {},
     "output_type": "execute_result"
    }
   ],
   "source": [
    "p, q = True, False\r\n",
    "disj = p or q\r\n",
    "disj"
   ]
  },
  {
   "cell_type": "code",
   "execution_count": 30,
   "metadata": {
    "id": "T-QfmeYgcyGQ"
   },
   "outputs": [
    {
     "data": {
      "text/plain": [
       "True"
      ]
     },
     "execution_count": 30,
     "metadata": {},
     "output_type": "execute_result"
    }
   ],
   "source": [
    "p, q = True, False\r\n",
    "nand = not(p and q)\r\n",
    "nand"
   ]
  },
  {
   "cell_type": "code",
   "execution_count": 31,
   "metadata": {
    "id": "2HL7SlVbc10k"
   },
   "outputs": [
    {
     "data": {
      "text/plain": [
       "True"
      ]
     },
     "execution_count": 31,
     "metadata": {},
     "output_type": "execute_result"
    }
   ],
   "source": [
    "p, q = True, False\r\n",
    "xor = (not p and q) or (p and not q)\r\n",
    "xor"
   ]
  },
  {
   "cell_type": "markdown",
   "metadata": {
    "id": "AQx4DKafYffJ"
   },
   "source": [
    "### Identity"
   ]
  },
  {
   "cell_type": "markdown",
   "metadata": {},
   "source": [
    "### Discussion :\n",
    "\n",
    "There are two identity operators and the first one is 'Is'. This is used to return a 'true' or 'false' values as result to check if the location of 2 objects in memory are the same. The second one is the 'Is not' which works in opposite way of the first operator. This will return 'true' if the object is not in the same memory location else 'false' [4].\n",
    "\n",
    "![image](https://cdn.educba.com/academy/wp-content/uploads/2020/01/Identity-Operators-in-Python.jpg)"
   ]
  },
  {
   "cell_type": "markdown",
   "metadata": {},
   "source": [
    "### Examples"
   ]
  },
  {
   "cell_type": "code",
   "execution_count": 32,
   "metadata": {},
   "outputs": [
    {
     "name": "stdout",
     "output_type": "stream",
     "text": [
      "ofcourse megumin is not roxy!\n"
     ]
    }
   ],
   "source": [
    "megumin = \"waifu\"\n",
    "roxy = \"also waifu\"\n",
    "\n",
    "if megumin is roxy:\n",
    "    print(\"what do you mean\")\n",
    "    \n",
    "else: #Represents 'false'\n",
    "    print(\"ofcourse megumin is not roxy!\")"
   ]
  },
  {
   "cell_type": "code",
   "execution_count": 33,
   "metadata": {},
   "outputs": [
    {
     "name": "stdout",
     "output_type": "stream",
     "text": [
      "tho they are both waifu!\n"
     ]
    }
   ],
   "source": [
    "if megumin is not roxy: #Represents 'true'\n",
    "    print(\"tho they are both waifu!\")\n",
    "    \n",
    "else: \n",
    "    print(\"ofcourse megumin is not roxy!\")"
   ]
  },
  {
   "cell_type": "markdown",
   "metadata": {},
   "source": [
    "### I/O"
   ]
  },
  {
   "cell_type": "markdown",
   "metadata": {},
   "source": [
    "### Discussion :\n",
    "\n",
    "Input and output is one of the fundamental operations of a computer. In other words, it is the read and write of data. For the examples below, it shows how Python gets the input of the user and store in a specific memory location and it's being access using the assigned variables of it.\n",
    "\n",
    "![image](https://cdn.educba.com/academy/wp-content/uploads/2020/02/Python-User-Input.jpg)"
   ]
  },
  {
   "cell_type": "markdown",
   "metadata": {},
   "source": [
    "### Examples"
   ]
  },
  {
   "cell_type": "code",
   "execution_count": null,
   "metadata": {
    "id": "Q-DVERG5Yk9w"
   },
   "outputs": [],
   "source": [
    "print(\"Hello World\")"
   ]
  },
  {
   "cell_type": "code",
   "execution_count": null,
   "metadata": {
    "id": "fS5wN51beSVF"
   },
   "outputs": [],
   "source": [
    "cnt = 1"
   ]
  },
  {
   "cell_type": "code",
   "execution_count": null,
   "metadata": {
    "id": "hKNaUXmdZdUo"
   },
   "outputs": [],
   "source": [
    "string = \"Hello World\"\r\n",
    "print(string, \", Current run count is:\", cnt)\r\n",
    "cnt += 1"
   ]
  },
  {
   "cell_type": "code",
   "execution_count": 4,
   "metadata": {
    "id": "15_WdzEZcOVX"
   },
   "outputs": [
    {
     "name": "stdout",
     "output_type": "stream",
     "text": [
      "Hello World, Current count is: 2\n"
     ]
    }
   ],
   "source": [
    "print(f\"{string}, Current count is: {cnt}\")"
   ]
  },
  {
   "cell_type": "code",
   "execution_count": 5,
   "metadata": {
    "id": "5m9XtFOPcOXo"
   },
   "outputs": [
    {
     "name": "stdout",
     "output_type": "stream",
     "text": [
      "Hello , your semestral grade is: 82.24356465746123\n"
     ]
    }
   ],
   "source": [
    "sem_grade = 82.243564657461234\r\n",
    "name = \"\"\r\n",
    "print(\"Hello {}, your semestral grade is: {}\".format(name, sem_grade))"
   ]
  },
  {
   "cell_type": "code",
   "execution_count": 6,
   "metadata": {
    "id": "SMJx6bTnfdgZ"
   },
   "outputs": [
    {
     "name": "stdout",
     "output_type": "stream",
     "text": [
      "The weights of your semestral grades are:\n",
      "\t30.00% for Prelims\n",
      "\t30.00% for Midterms, and\n",
      "\t40.00% for Finals.\n"
     ]
    }
   ],
   "source": [
    "w_pg, w_mg, w_fg = 0.3, 0.3, 0.4\r\n",
    "print(\"The weights of your semestral grades are:\\\r\n",
    "\\n\\t{:.2%} for Prelims\\\r\n",
    "\\n\\t{:.2%} for Midterms, and\\\r\n",
    "\\n\\t{:.2%} for Finals.\".format(w_pg, w_mg, w_fg))"
   ]
  },
  {
   "cell_type": "code",
   "execution_count": 8,
   "metadata": {
    "id": "Ob2I_zR3jAcZ"
   },
   "outputs": [
    {
     "name": "stdin",
     "output_type": "stream",
     "text": [
      "enter a number:  \n"
     ]
    },
    {
     "data": {
      "text/plain": [
       "''"
      ]
     },
     "execution_count": 8,
     "metadata": {},
     "output_type": "execute_result"
    }
   ],
   "source": [
    "x = input(\"enter a number: \")\r\n",
    "x"
   ]
  },
  {
   "cell_type": "code",
   "execution_count": null,
   "metadata": {
    "id": "T7ODFfcMh9Pg"
   },
   "outputs": [
    {
     "name": "stdin",
     "output_type": "stream",
     "text": [
      "Kimi no nawa:  \n",
      "Enter prelim grade:  \n"
     ]
    }
   ],
   "source": [
    "name = input(\"Kimi no nawa: \")\r\n",
    "pg = input(\"Enter prelim grade: \")\r\n",
    "mg = input(\"Enter midterm grade: \")\r\n",
    "fg = input(\"Enter finals grade: \")\r\n",
    "sem_grade = None\r\n",
    "print(\"Hello {}, your semestral grade is: {}\".format(name, sem_grade))"
   ]
  },
  {
   "cell_type": "markdown",
   "metadata": {
    "id": "i0g3EothhvqL"
   },
   "source": [
    "# Looping Statements"
   ]
  },
  {
   "cell_type": "markdown",
   "metadata": {},
   "source": [
    "### Discussion :\n",
    "\n",
    "Looping statements is a concept in Python programming that allows repeating a line of code such as printing of string or execution of function for the number of times specified. The while loops are used to execute something until a certain condition is met and the for loops is used for executing something until it reached the end of the specified range of values [5].\n",
    "\n",
    "![image](https://cdn.educba.com/academy/wp-content/uploads/2019/09/Loops-in-Python.png)"
   ]
  },
  {
   "cell_type": "markdown",
   "metadata": {},
   "source": [
    "### Examples"
   ]
  },
  {
   "cell_type": "markdown",
   "metadata": {
    "id": "j4w90VAIjcFJ"
   },
   "source": [
    "## While"
   ]
  },
  {
   "cell_type": "code",
   "execution_count": 34,
   "metadata": {
    "id": "4vtSrBPThlse"
   },
   "outputs": [
    {
     "name": "stdout",
     "output_type": "stream",
     "text": [
      "0\t|\t10\n",
      "1\t|\t10\n",
      "2\t|\t10\n",
      "3\t|\t10\n",
      "4\t|\t10\n",
      "5\t|\t10\n",
      "6\t|\t10\n",
      "7\t|\t10\n",
      "8\t|\t10\n",
      "9\t|\t10\n",
      "10\t|\t10\n"
     ]
    }
   ],
   "source": [
    "## while loops\r\n",
    "i, j = 0, 10\r\n",
    "while(i<=j):\r\n",
    "    print(f\"{i}\\t|\\t{j}\")\r\n",
    "    i+=1"
   ]
  },
  {
   "cell_type": "markdown",
   "metadata": {
    "id": "Qz6AH6jRjfUg"
   },
   "source": [
    "## For"
   ]
  },
  {
   "cell_type": "code",
   "execution_count": 35,
   "metadata": {
    "id": "q0DUwfRkjZY7"
   },
   "outputs": [
    {
     "name": "stdout",
     "output_type": "stream",
     "text": [
      "0\n",
      "1\n",
      "2\n",
      "3\n",
      "4\n",
      "5\n",
      "6\n",
      "7\n",
      "8\n",
      "9\n"
     ]
    }
   ],
   "source": [
    "# for(int i=0; i<10; i++){\r\n",
    "# printf(i)\r\n",
    "# }\r\n",
    "\r\n",
    "i=0\r\n",
    "for i in range(10):\r\n",
    "    print(i)"
   ]
  },
  {
   "cell_type": "code",
   "execution_count": 36,
   "metadata": {
    "id": "zaM--lUhjiUg"
   },
   "outputs": [
    {
     "name": "stdout",
     "output_type": "stream",
     "text": [
      "Now Playing:\n",
      "\n"
     ]
    }
   ],
   "source": [
    "playlist = []\r\n",
    "print('Now Playing:\\n')\r\n",
    "for song in playlist:\r\n",
    "    print(song)"
   ]
  },
  {
   "cell_type": "markdown",
   "metadata": {
    "id": "N6jTqTZojnSg"
   },
   "source": [
    "# Flow Control"
   ]
  },
  {
   "cell_type": "markdown",
   "metadata": {
    "id": "uhnsV2CijrWQ"
   },
   "source": [
    "## Conditional Statements"
   ]
  },
  {
   "cell_type": "markdown",
   "metadata": {},
   "source": [
    "### Discussion :\n",
    "\n",
    "Conditional statements are used to run a specific line of code if a certain condition met and it is very useful in controlling the flow of the code [6].\n",
    "\n",
    "![image](https://cdn.educba.com/academy/wp-content/uploads/2020/03/Conditional-Statements-in-Python.jpg)"
   ]
  },
  {
   "cell_type": "markdown",
   "metadata": {},
   "source": [
    "### Examples"
   ]
  },
  {
   "cell_type": "code",
   "execution_count": 37,
   "metadata": {
    "id": "seJplrJojmTg"
   },
   "outputs": [
    {
     "name": "stdout",
     "output_type": "stream",
     "text": [
      "Yey\n",
      "Hip hip\n"
     ]
    }
   ],
   "source": [
    "numeral1, numeral2 = 12, 12\r\n",
    "if(numeral1 == numeral2):\r\n",
    "    print(\"Yey\")\r\n",
    "elif(numeral1>numeral2):\r\n",
    "    print(\"Hoho\")\r\n",
    "else:\r\n",
    "    print(\"Aww\")\r\n",
    "print(\"Hip hip\")"
   ]
  },
  {
   "cell_type": "markdown",
   "metadata": {
    "id": "tlnG1OKilNLo"
   },
   "source": [
    "# Functions"
   ]
  },
  {
   "cell_type": "markdown",
   "metadata": {},
   "source": [
    "### Discussion :\n",
    "\n",
    "Functions in Python programming have a lot of use and one of these is to organize your code because a specific line block of code can be inside a function and it will just run if that function was called. For me, I find it very useful especially in object oriented programming with Python."
   ]
  },
  {
   "cell_type": "markdown",
   "metadata": {},
   "source": [
    "### Examples"
   ]
  },
  {
   "cell_type": "code",
   "execution_count": 38,
   "metadata": {
    "id": "1iMUEipnlUKY"
   },
   "outputs": [],
   "source": [
    "# void DeleteUser(int userid){\r\n",
    "#     delete(userid);\r\n",
    "# }\r\n",
    "\r\n",
    "def delete_user (userid):\r\n",
    "    print(\"Successfully deleted user: {}\".format(userid))\r\n",
    "    \r\n",
    "def delete_all_users ():\r\n",
    "    print(\"Successfully deleted all users\")"
   ]
  },
  {
   "cell_type": "code",
   "execution_count": 39,
   "metadata": {
    "id": "v_TkrftylUEA"
   },
   "outputs": [
    {
     "name": "stdout",
     "output_type": "stream",
     "text": [
      "Successfully deleted user: 0\n",
      "Successfully deleted all users\n"
     ]
    }
   ],
   "source": [
    "userid = 0\r\n",
    "delete_user(0)\r\n",
    "delete_all_users()"
   ]
  },
  {
   "cell_type": "code",
   "execution_count": 40,
   "metadata": {
    "id": "M0ffjw31lT8Y"
   },
   "outputs": [],
   "source": [
    "def add(addend1, addend2):\r\n",
    "    return addend1 + addend2\r\n",
    "\r\n",
    "def power_of_base2(exponent):\r\n",
    "    return 2**exponent"
   ]
  },
  {
   "cell_type": "markdown",
   "metadata": {
    "id": "2_tDT01oFEGQ"
   },
   "source": [
    "### Lambda Functions"
   ]
  },
  {
   "cell_type": "markdown",
   "metadata": {},
   "source": [
    "### Discussion :\n",
    "\n",
    "Lambda functions are also known as anonymous functions and this is very useful in optimizing code because this function that contains specific instructions can be used inside a certain code block without needing to declare or create an actual function. The two examples below are the comparison of using the lambda function and a normal function with a declaration."
   ]
  },
  {
   "cell_type": "markdown",
   "metadata": {},
   "source": [
    "### Examples"
   ]
  },
  {
   "cell_type": "code",
   "execution_count": 41,
   "metadata": {
    "id": "tmmBNW9pFg-4"
   },
   "outputs": [],
   "source": [
    "x = 4"
   ]
  },
  {
   "cell_type": "code",
   "execution_count": 42,
   "metadata": {
    "id": "_9KYzCrIFCpI"
   },
   "outputs": [
    {
     "data": {
      "text/plain": [
       "31"
      ]
     },
     "execution_count": 42,
     "metadata": {},
     "output_type": "execute_result"
    }
   ],
   "source": [
    "def f(x):\r\n",
    "  return 2*(x*x)-1\r\n",
    "f(x)"
   ]
  },
  {
   "cell_type": "code",
   "execution_count": 43,
   "metadata": {
    "id": "a2uwKwqFFafn"
   },
   "outputs": [
    {
     "name": "stdout",
     "output_type": "stream",
     "text": [
      "31\n"
     ]
    }
   ],
   "source": [
    "g = lambda x: 2*(x*x)-1\r\n",
    "print(g(x))"
   ]
  },
  {
   "cell_type": "markdown",
   "metadata": {},
   "source": [
    "### Activity"
   ]
  },
  {
   "cell_type": "code",
   "execution_count": null,
   "metadata": {
    "id": "Rjm9RFrGlMgA"
   },
   "outputs": [
    {
     "name": "stdout",
     "output_type": "stream",
     "text": [
      "Grade calculator\n",
      "Menu\n",
      "1. Add your details minna\n",
      "2. Compute for your semestral grade\n"
     ]
    }
   ],
   "source": [
    "'''\n",
    "Create a grade calculator that computes for the semestral grade of a course.\n",
    "Students could type their names, the name of the course, then their prelim,\n",
    "midterm, and final grade.\n",
    "The program should print the semestral grade in 2 decimal points and should\n",
    "display the following emojis depending on the situation:\n",
    "happy - when grade is greater than 70.00\n",
    "laughing - when grade is exactly 70.00\n",
    "sad - when grade is below 70.00\n",
    "'''\n",
    "happy, lol, sad = \"\\U0001F600\",\"\\U0001F923\",\"\\U0001F619\" \n",
    "\n",
    "class Menu:\n",
    "   def __init__(self): # Method for main menu\n",
    "       print(\"Grade calculator\")\n",
    "       print(\"Menu\")\n",
    "       print(\"1. Add your details minna\")\n",
    "       print(\"2. Compute for your semestral grade\")\n",
    "\n",
    "class Student_details:\n",
    "    \n",
    "    def __init__(self): # Initializer\n",
    "        \"\"\" Instance Variables\"\"\"\n",
    "        \n",
    "        self.student_name = \"Default text\"\n",
    "        self.course = \"Default text\"\n",
    "        self.pg = \"Default text\"\n",
    "        self.mg = \"Default text\"\n",
    "        self.fg = \"Default text\"\n",
    "\n",
    "    def set_student_details(self): # Method for the inputs\n",
    "        self.student_name = input(\"Enter your name: \")\n",
    "        self.course = input(\"Enter your course: \")\n",
    "        self.pg = float(input(\"Enter prelim grade: \"))\n",
    "        self.mg = float(input(\"Enter midterm grade: \"))\n",
    "        self.fg = float(input(\"Enter finals grade: \"))\n",
    "\n",
    "class Operations:\n",
    "    \n",
    "    def __init__(self): \n",
    "        self.student_lists = list()\n",
    "\n",
    "    def add_student(self):\n",
    "       stud_details = Student_details() # Creation of object/instantiation\n",
    "       stud_details.set_student_details() # Calling the method \"set_student_details()\"\n",
    "       self.student_lists.append(stud_details) # appending the object to the list\n",
    "\n",
    "    def compute(self):\n",
    "        w_pg, w_mg, w_fg = 0.3, 0.3, 0.4\n",
    "        for grade in self.student_lists: # Accessing the grade attribute \n",
    "            sem_grade = grade.pg*w_pg + grade.mg*w_mg + grade.fg*w_fg # Grade commputation\n",
    "        \n",
    "        print (\"Your semestral grade is:\",(round(sem_grade,2))) # rounding off to 2 decimals\n",
    "\n",
    "        if sem_grade > 70:\n",
    "            print(happy)\n",
    "\n",
    "        elif sem_grade == 70:\n",
    "            print(lol)\n",
    "\n",
    "        else:\n",
    "            print(sad)\n",
    "\n",
    "if __name__ == '__main__':\n",
    "   operation = Operations()\n",
    "   user_choice = \"1\"\n",
    "   while user_choice == \"1\":\n",
    "       menu = Menu()\n",
    "       user_choice = input(\"Input selected option: \")\n",
    "       if user_choice == \"1\":\n",
    "           operation.add_student() \n",
    "       elif user_choice == \"2\":\n",
    "           operation.compute()\n",
    "           \n",
    "       user_choice = input(\"Press 1 to Continue, Press 2 to Exit \")  "
   ]
  },
  {
   "cell_type": "markdown",
   "metadata": {},
   "source": [
    "### About code"
   ]
  },
  {
   "cell_type": "markdown",
   "metadata": {},
   "source": [
    "The grade calculator was created with Python operators, functions, and statements. Also, objecting oriented programming was used to have a better algorithm that allows storing of data into a data structure which is a list. Three classes were created that contain methods that have instructions to do something. The class Menu prints the features of the program while class student_details contains the instance variables and the method for getting the inputs of the user about the details of the student. The class Operations holds the functions for the computation of grade and the creation of objects which will be appended into a list afterward. Lastly, when the function for computation was called, it will print the grade of the student with two decimal accuracy and its corresponding emoji."
   ]
  },
  {
   "cell_type": "markdown",
   "metadata": {},
   "source": [
    "### References\n",
    "\n",
    "[1] W3 Schools (2021). [***W3 Schools: Python Data Types***](https://www.w3schools.com/python/python_datatypes.asp)\n",
    "\n",
    "[2] W3 Schools (2021). [***W3 Schools: Python Operators***](https://www.w3schools.com/python/python_operators.asp)\n",
    "\n",
    "[3] EDUCBA (2021). [***EDUCBA: Logical Operators in Python***](https://www.educba.com/logical-operators-in-python/?source=leftnav)\n",
    "\n",
    "[4] EDUCBA (2021). [***EDUCBA: Identity Operators in Python***](https://www.educba.com/identity-operators-in-python/?source=leftnav)\n",
    "\n",
    "[5] EDUCBA (2021). [***EDUCBA: Loops in Python***](https://www.educba.com/loops-in-python/?source=leftnav)\n",
    "\n",
    "[6] EDUCBA (2021). [***EDUCBA: Conditional statements in Python***](https://www.educba.com/conditional-statements-in-python/?source=leftnav)"
   ]
  }
 ],
 "metadata": {
  "colab": {
   "collapsed_sections": [],
   "include_colab_link": true,
   "name": "CpE Programming 101.b - Python Fundamentals",
   "provenance": []
  },
  "kernelspec": {
   "display_name": "Python 3",
   "language": "python",
   "name": "python3"
  },
  "language_info": {
   "codemirror_mode": {
    "name": "ipython",
    "version": 3
   },
   "file_extension": ".py",
   "mimetype": "text/x-python",
   "name": "python",
   "nbconvert_exporter": "python",
   "pygments_lexer": "ipython3",
   "version": "3.8.3"
  }
 },
 "nbformat": 4,
 "nbformat_minor": 4
}
