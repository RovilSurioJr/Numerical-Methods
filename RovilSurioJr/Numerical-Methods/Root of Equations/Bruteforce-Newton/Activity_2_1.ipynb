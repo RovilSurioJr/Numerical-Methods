{
  "nbformat": 4,
  "nbformat_minor": 0,
  "metadata": {
    "colab": {
      "name": "Activity 2.1",
      "provenance": [],
      "collapsed_sections": [],
      "toc_visible": true,
      "include_colab_link": true
    },
    "kernelspec": {
      "name": "python3",
      "display_name": "Python 3"
    }
  },
  "cells": [
    {
      "cell_type": "markdown",
      "metadata": {
        "id": "view-in-github",
        "colab_type": "text"
      },
      "source": [
        "<a href=\"https://colab.research.google.com/github/RovilSurioJr/Numerical-Methods/blob/master/RovilSurioJr/Numerical-Methods/Root%20of%20Equations/Bruteforce-Newton/Activity_2_1.ipynb\" target=\"_parent\"><img src=\"https://colab.research.google.com/assets/colab-badge.svg\" alt=\"Open In Colab\"/></a>"
      ]
    },
    {
      "cell_type": "markdown",
      "metadata": {
        "id": "SQwYd_clIG00"
      },
      "source": [
        "### Installing Lemon Package"
      ]
    },
    {
      "cell_type": "markdown",
      "metadata": {
        "id": "odcgp1KOHNEv"
      },
      "source": [
        "1.) Download the lemon package in the GitHub Repository provided. [***Lemon Package***](https://github.com/RovilSurioJr/Numerical-Methods/blob/master/Root%20of%20Equations/Bruteforce-Newton/lemon_package.7z)\r\n",
        " \r\n",
        "2.) Install the lemon package in the directory, Python\\Lib\\site-packages\r\n",
        " \r\n",
        "![image](https://raw.githubusercontent.com/RovilSurioJr/Numerical-Methods/master/Root%20of%20Equations/Images/directory.jpg)\r\n",
        "\r\n",
        "3.) Once the lemon package is installed, the lemon modules can now be used. \r\n",
        " \r\n",
        "4.) To find the roots using the lemon modules, open the Python IDLE first.\r\n",
        " \r\n",
        "![image](https://raw.githubusercontent.com/RovilSurioJr/Numerical-Methods/master/Root%20of%20Equations/Images/Python%20IDLE.jpg)\r\n",
        " \r\n"
      ]
    },
    {
      "cell_type": "markdown",
      "metadata": {
        "id": "3KJ74HyzNQms"
      },
      "source": [
        "## Using Brute Force (Iterative method)"
      ]
    },
    {
      "cell_type": "markdown",
      "metadata": {
        "id": "8OtKcCjxP7-V"
      },
      "source": [
        "1.)\tImport the necessary packages such as Numpy and lemon_package. Next is to create an equation using a function that the roots will be solved.  \r\n",
        "\r\n",
        "2.)\tThen declare the number of roots to be found and the number of iteration(epochs) and their starting values(h and s). \r\n",
        "\r\n",
        "![image](https://raw.githubusercontent.com/RovilSurioJr/Numerical-Methods/master/Root%20of%20Equations/Images/bruteforce/importing.jpg)\r\n",
        "\r\n",
        "3.)\tLastly, call the function and assign it to two variables. The function will return two values, the roots and the epoch where the root was last found.\r\n",
        "\r\n",
        "![image](https://raw.githubusercontent.com/RovilSurioJr/Numerical-Methods/master/Root%20of%20Equations/Images/bruteforce/using%20the%20module.jpg)"
      ]
    },
    {
      "cell_type": "markdown",
      "metadata": {
        "id": "3_EWqa68RY4z"
      },
      "source": [
        "## Using Brute Force (Interms of X)"
      ]
    },
    {
      "cell_type": "markdown",
      "metadata": {
        "id": "t-nus_UWRwJg"
      },
      "source": [
        "1.)\tRepeat step 1 in the Brute Force (Iterative method)\r\n",
        "\r\n",
        "2.)\tTransform the equation depending on the degree of the polynomial. Isolate each X to create transformed expressions of the equation. \r\n",
        "\r\n",
        "3.)\tAppend the transformed equations into a single list\r\n",
        "\r\n",
        "![image](https://raw.githubusercontent.com/RovilSurioJr/Numerical-Methods/master/Root%20of%20Equations/Images/bruteforce/functions.jpg)\r\n",
        "\r\n",
        "4.)\tDeclare the number of roots to be found and the number of iteration (epochs)\r\n",
        "\r\n",
        "5.)\tAssign the function to two variables and then call the function. The function will return the roots and the epoch where the root was last found.\r\n",
        "\r\n",
        "![image](https://raw.githubusercontent.com/RovilSurioJr/Numerical-Methods/master/Root%20of%20Equations/Images/bruteforce/final%20%20output.jpg)\r\n"
      ]
    },
    {
      "cell_type": "markdown",
      "metadata": {
        "id": "s3b_ZphuKzCr"
      },
      "source": [
        "## Using the Newton-Rhapson Method\r\n",
        "\r\n",
        "\r\n",
        "\r\n"
      ]
    },
    {
      "cell_type": "markdown",
      "metadata": {
        "id": "CnmzfpqwKvf-"
      },
      "source": [
        "1.) Import the method into the IDLE by typing \"from lemon_package import Newton-Rhapson\"\r\n",
        " \r\n",
        "![image](https://raw.githubusercontent.com/RovilSurioJr/Numerical-Methods/master/Root%20of%20Equations/Images/using%20method.jpg)\r\n",
        "\r\n",
        "2.) Provide a function where the root will be found and provide the necessary parameters of the newton-rhapson module. Lastly, call the newton-rhapson method to get the roots of the function provided.\r\n",
        " \r\n",
        "![image](https://raw.githubusercontent.com/RovilSurioJr/Numerical-Methods/master/Root%20of%20Equations/Images/example.jpg)\r\n",
        " "
      ]
    },
    {
      "cell_type": "markdown",
      "metadata": {
        "id": "Yxvukt2MWx9q"
      },
      "source": [
        "##Documentation of the Lemon Modules"
      ]
    },
    {
      "cell_type": "markdown",
      "metadata": {
        "id": "Z0vD9KEaW3at"
      },
      "source": [
        "To know more about the uses and syntax of the brute force and newton-rhapson module. Check its documentation in the link provided. [***Python Package Manual***](https://github.com/RovilSurioJr/Numerical-Methods/blob/master/Root%20of%20Equations/Lemon%20Package%20Manual/Lemon%20Package%20Manual.pdf)"
      ]
    },
    {
      "cell_type": "markdown",
      "metadata": {
        "id": "iAwi3HHeNo9x"
      },
      "source": [
        "##Activity 2.1"
      ]
    },
    {
      "cell_type": "code",
      "metadata": {
        "id": "SlmiT5SS2yDM"
      },
      "source": [
        "import numpy as np\r\n",
        "import matplotlib.pyplot as plt"
      ],
      "execution_count": null,
      "outputs": []
    },
    {
      "cell_type": "markdown",
      "metadata": {
        "id": "_S3LXYKh29sA"
      },
      "source": [
        "$$ x^3-6x^2+11x-6\r\n",
        "\\\\ _{\\text{(Polynomial Degree of 3)}}$$"
      ]
    },
    {
      "cell_type": "code",
      "metadata": {
        "colab": {
          "base_uri": "https://localhost:8080/",
          "height": 355
        },
        "id": "c2lUluL32-u_",
        "outputId": "02ec3705-ff5f-4e6f-fe14-6bff8f39cac7"
      },
      "source": [
        "def f(x): return x**3-6*x**2+11*x-6\r\n",
        "x0, x1, x2 = 1, 2, 3\r\n",
        "X = np.arange(-5,5,1,dtype=float)\r\n",
        "print(X[0:10])\r\n",
        "Y = f(X)\r\n",
        "print(Y[0:10])\r\n",
        "\r\n",
        "### Now let's plot the images against the pre-images\r\n",
        "plt.figure(figsize=(10,5))\r\n",
        "plt.plot(X,Y,color='dodgerblue')\r\n",
        "### Let's show the x and y axes of the graph\r\n",
        "plt.axhline(color='black')\r\n",
        "plt.axvline(color='black')\r\n",
        "plt.grid()\r\n",
        "### Now let's plot the roots of the equation\r\n",
        "plt.scatter([x0,x1,x2],[0,0,0], c='red', label='roots')\r\n",
        "\r\n",
        "plt.legend()\r\n",
        "plt.show()"
      ],
      "execution_count": null,
      "outputs": [
        {
          "output_type": "stream",
          "text": [
            "[-5. -4. -3. -2. -1.  0.  1.  2.  3.  4.]\n",
            "[-336. -210. -120.  -60.  -24.   -6.    0.    0.    0.    6.]\n"
          ],
          "name": "stdout"
        },
        {
          "output_type": "display_data",
          "data": {
            "image/png": "[encoded data removed]",
            "text/plain": [
              "<Figure size 720x360 with 1 Axes>"
            ]
          },
          "metadata": {
            "tags": [],
            "needs_background": "light"
          }
        }
      ]
    },
    {
      "cell_type": "markdown",
      "metadata": {
        "id": "pY9bhzY53Nr7"
      },
      "source": [
        "$$ x^4+0.4x^3-6.49x^2+7.244x-2.112\r\n",
        "\\\\ _{\\text{(Polynomial Degree of 4)}}$$"
      ]
    },
    {
      "cell_type": "code",
      "metadata": {
        "colab": {
          "base_uri": "https://localhost:8080/",
          "height": 373
        },
        "id": "QuDPLv_A3R83",
        "outputId": "445c3e72-1ed6-46e8-a7ce-6351047cebc8"
      },
      "source": [
        "def f(x): return x**4+0.4*x**3-6.49*x**2+7.244*x-2.112\r\n",
        "x0, x1, x2, x3 = -3.2, 1.2, 0.5, 1.1\r\n",
        "X = np.arange(-5,5,1,dtype=float)\r\n",
        "print(X)\r\n",
        "Y = f(X)\r\n",
        "print(Y)\r\n",
        "### Now let's plot the images against the pre-images\r\n",
        "plt.figure(figsize=(10,5))\r\n",
        "plt.plot(X,Y,color='dodgerblue')\r\n",
        "### Let's show the x and y axes of the graph\r\n",
        "plt.axhline(color='black')\r\n",
        "plt.axvline(color='black')\r\n",
        "plt.grid()\r\n",
        "### Now let's plot the roots of the equation\r\n",
        "plt.scatter([x0,x1,x2,x3],[0,0,0,0], c='red', label='roots')\r\n",
        "\r\n",
        "plt.legend()\r\n",
        "plt.show()"
      ],
      "execution_count": null,
      "outputs": [
        {
          "output_type": "stream",
          "text": [
            "[-5. -4. -3. -2. -1.  0.  1.  2.  3.  4.]\n",
            "[ 3.74418e+02  9.54720e+01 -1.20540e+01 -2.97600e+01 -1.52460e+01\n",
            " -2.11200e+00  4.20000e-02  5.61600e+00  5.30100e+01  2.04624e+02]\n"
          ],
          "name": "stdout"
        },
        {
          "output_type": "display_data",
          "data": {
            "image/png": "[encoded data removed]",
            "text/plain": [
              "<Figure size 720x360 with 1 Axes>"
            ]
          },
          "metadata": {
            "tags": [],
            "needs_background": "light"
          }
        }
      ]
    },
    {
      "cell_type": "markdown",
      "metadata": {
        "id": "EB-u52yU3a0_"
      },
      "source": [
        "$$ e^x + x - 4\r\n",
        "\\\\ _{\\text{(Transcendental function)}}$$"
      ]
    },
    {
      "cell_type": "code",
      "metadata": {
        "colab": {
          "base_uri": "https://localhost:8080/",
          "height": 373
        },
        "id": "y-zpTU0b3dHQ",
        "outputId": "14c74353-50bd-4e71-b66b-bc100f97c93d"
      },
      "source": [
        "func = lambda x: x +np.exp(x) - 4\r\n",
        "x0 = 1.074\r\n",
        "X = np.arange(-5,5,1,dtype=float)\r\n",
        "print(X)\r\n",
        "Y = f(X)\r\n",
        "print(Y)\r\n",
        "\r\n",
        "### Now let's plot the images against the pre-images\r\n",
        "plt.figure(figsize=(10,5))\r\n",
        "plt.plot(X,Y,color='dodgerblue')\r\n",
        "### Let's show the x and y axes of the graph\r\n",
        "plt.axhline(color='black')\r\n",
        "plt.axvline(color='black')\r\n",
        "plt.grid()\r\n",
        "### Now let's plot the roots of the equation\r\n",
        "plt.scatter([x0],[0], c='red', label='roots')\r\n",
        "\r\n",
        "plt.legend()\r\n",
        "plt.show()"
      ],
      "execution_count": null,
      "outputs": [
        {
          "output_type": "stream",
          "text": [
            "[-5. -4. -3. -2. -1.  0.  1.  2.  3.  4.]\n",
            "[ 3.74418e+02  9.54720e+01 -1.20540e+01 -2.97600e+01 -1.52460e+01\n",
            " -2.11200e+00  4.20000e-02  5.61600e+00  5.30100e+01  2.04624e+02]\n"
          ],
          "name": "stdout"
        },
        {
          "output_type": "display_data",
          "data": {
            "image/png": "[encoded data removed]",
            "text/plain": [
              "<Figure size 720x360 with 1 Axes>"
            ]
          },
          "metadata": {
            "tags": [],
            "needs_background": "light"
          }
        }
      ]
    },
    {
      "cell_type": "markdown",
      "metadata": {
        "id": "no20DHTR39Wr"
      },
      "source": [
        "$$ \\frac{sin(x)}{cos(x)}\r\n",
        "\\\\ _{\\text{(Transcendental function)}}$$"
      ]
    },
    {
      "cell_type": "code",
      "metadata": {
        "colab": {
          "base_uri": "https://localhost:8080/",
          "height": 373
        },
        "id": "B8kktpH_3702",
        "outputId": "2b2edafd-b990-4d11-8e53-899b7669b783"
      },
      "source": [
        "def f(x): return  np.sin(x)/np.cos(x)\r\n",
        "x0, x1, x2 = 0, 3.142, 6.283\r\n",
        "X = np.arange(-10,10,1,dtype=float)\r\n",
        "print(X[0:10])\r\n",
        "Y = f(X)\r\n",
        "print(Y[0:10])\r\n",
        "\r\n",
        "### Now let's plot the images against the pre-images\r\n",
        "plt.figure(figsize=(10,5))\r\n",
        "plt.plot(X,Y,color='dodgerblue')\r\n",
        "### Let's show the x and y axes of the graph\r\n",
        "plt.axhline(color='black')\r\n",
        "plt.axvline(color='black')\r\n",
        "plt.grid()\r\n",
        "### Now let's plot the roots of the equation\r\n",
        "plt.scatter([x0,x1,x2],[0,0,0], c='red', label='roots')\r\n",
        "\r\n",
        "plt.legend()\r\n",
        "plt.show()"
      ],
      "execution_count": null,
      "outputs": [
        {
          "output_type": "stream",
          "text": [
            "[-10.  -9.  -8.  -7.  -6.  -5.  -4.  -3.  -2.  -1.]\n",
            "[-0.64836083  0.45231566  6.79971146 -0.87144798  0.29100619  3.38051501\n",
            " -1.15782128  0.14254654  2.18503986 -1.55740772]\n"
          ],
          "name": "stdout"
        },
        {
          "output_type": "display_data",
          "data": {
            "image/png": "[encoded data removed]",
            "text/plain": [
              "<Figure size 720x360 with 1 Axes>"
            ]
          },
          "metadata": {
            "tags": [],
            "needs_background": "light"
          }
        }
      ]
    }
  ]
}