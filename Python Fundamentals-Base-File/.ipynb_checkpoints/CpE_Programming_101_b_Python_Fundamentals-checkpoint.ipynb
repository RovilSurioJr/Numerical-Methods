{
 "cells": [
  {
   "cell_type": "markdown",
   "metadata": {
    "colab_type": "text",
    "id": "view-in-github"
   },
   "source": [
    "<a href=\"https://colab.research.google.com/github/RovilSurioJr/Numerical-Methods/blob/master/Python%20Fundamentals/CpE_Programming_101_b_Python_Fundamentals.ipynb\" target=\"_parent\"><img src=\"https://colab.research.google.com/assets/colab-badge.svg\" alt=\"Open In Colab\"/></a>"
   ]
  },
  {
   "cell_type": "markdown",
   "metadata": {
    "id": "QnAdk8hy7Bl9"
   },
   "source": [
    "# Welcome to Python Fundamentals\r\n",
    "In this module, we are going to establish or review our skills in Python programming. In this notebook we are going to cover:\r\n",
    "* Variables and Data Types \r\n",
    "* Operations\r\n",
    "* Input and Output Operations\r\n",
    "* Logic Control\r\n",
    "* Iterables\r\n",
    "* Functions"
   ]
  },
  {
   "cell_type": "markdown",
   "metadata": {
    "id": "T6ABRAjTT1Ta"
   },
   "source": [
    "## Variable and Data Types"
   ]
  },
  {
   "cell_type": "code",
   "execution_count": null,
   "metadata": {
    "id": "G8JI3DTZ616F"
   },
   "outputs": [],
   "source": [
    "x = 1\r\n",
    "a,b = 0, -1"
   ]
  },
  {
   "cell_type": "code",
   "execution_count": null,
   "metadata": {
    "id": "QLT9rz2dUJ95"
   },
   "outputs": [],
   "source": [
    "type(x)"
   ]
  },
  {
   "cell_type": "code",
   "execution_count": null,
   "metadata": {
    "id": "TR_rvX4SUWqx"
   },
   "outputs": [],
   "source": [
    "y = 1.0\r\n",
    "type(y)"
   ]
  },
  {
   "cell_type": "code",
   "execution_count": null,
   "metadata": {
    "id": "FqV2upOiXcnC"
   },
   "outputs": [],
   "source": [
    "x = float(x)\r\n",
    "type(x)"
   ]
  },
  {
   "cell_type": "code",
   "execution_count": null,
   "metadata": {
    "id": "2tuyqwmyXiDb"
   },
   "outputs": [],
   "source": [
    "s,t,u = \"0\", '1', 'one'\r\n",
    "type(s)"
   ]
  },
  {
   "cell_type": "code",
   "execution_count": null,
   "metadata": {
    "id": "6JwWqHx3XlmB"
   },
   "outputs": [],
   "source": [
    "s_int = int(s)\r\n",
    "s_int"
   ]
  },
  {
   "cell_type": "markdown",
   "metadata": {
    "id": "9RgPwQR4YVG5"
   },
   "source": [
    "## Operations"
   ]
  },
  {
   "cell_type": "markdown",
   "metadata": {
    "id": "mvoS_zuJYbsg"
   },
   "source": [
    "### Arithmetic"
   ]
  },
  {
   "cell_type": "code",
   "execution_count": null,
   "metadata": {
    "id": "DSjUO0KcYoE-"
   },
   "outputs": [],
   "source": [
    "a,b,c,d = 2.0, -0.5, 0, -32"
   ]
  },
  {
   "cell_type": "code",
   "execution_count": null,
   "metadata": {
    "id": "o_kk0XFzYX9o"
   },
   "outputs": [],
   "source": [
    "### Addition\r\n",
    "S = a+b\r\n",
    "S"
   ]
  },
  {
   "cell_type": "code",
   "execution_count": null,
   "metadata": {
    "id": "TC5oFq3MY4jk"
   },
   "outputs": [],
   "source": [
    "### Subtraction\r\n",
    "D = b-d\r\n",
    "D"
   ]
  },
  {
   "cell_type": "code",
   "execution_count": null,
   "metadata": {
    "id": "j0bGayj5Y9wr"
   },
   "outputs": [],
   "source": [
    "### Multiplication\r\n",
    "P = a*d\r\n",
    "P"
   ]
  },
  {
   "cell_type": "code",
   "execution_count": null,
   "metadata": {
    "id": "FnMWmq5LZLEU"
   },
   "outputs": [],
   "source": [
    "### Division\r\n",
    "Q = c/a\r\n",
    "Q"
   ]
  },
  {
   "cell_type": "code",
   "execution_count": null,
   "metadata": {
    "id": "cQeVcFIWZd8o"
   },
   "outputs": [],
   "source": [
    "### Floor Division\r\n",
    "Fq = a//b\r\n",
    "Fq"
   ]
  },
  {
   "cell_type": "code",
   "execution_count": null,
   "metadata": {
    "id": "YLaUu6APZSzR"
   },
   "outputs": [],
   "source": [
    "### Exponentiation\r\n",
    "E = a**b\r\n",
    "E"
   ]
  },
  {
   "cell_type": "code",
   "execution_count": null,
   "metadata": {
    "id": "uf_0sf4CZ1JT"
   },
   "outputs": [],
   "source": [
    "### Modulo\r\n",
    "mod = d%a\r\n",
    "mod"
   ]
  },
  {
   "cell_type": "markdown",
   "metadata": {
    "id": "afyWvb1ZaJJ6"
   },
   "source": [
    "### Assignment Operations"
   ]
  },
  {
   "cell_type": "code",
   "execution_count": null,
   "metadata": {
    "id": "rMZ8r4WhanaE"
   },
   "outputs": [],
   "source": [
    "G, H, J, K = 0, 100, 2, 2"
   ]
  },
  {
   "cell_type": "code",
   "execution_count": null,
   "metadata": {
    "id": "IX0EbJ8RaMih"
   },
   "outputs": [],
   "source": [
    "G += a\r\n",
    "G"
   ]
  },
  {
   "cell_type": "code",
   "execution_count": null,
   "metadata": {
    "id": "aIj4hA-JaRA0"
   },
   "outputs": [],
   "source": [
    "H -= d"
   ]
  },
  {
   "cell_type": "code",
   "execution_count": null,
   "metadata": {
    "id": "vuuDbAbNaXgS"
   },
   "outputs": [],
   "source": [
    "J *= 2\r\n",
    "J"
   ]
  },
  {
   "cell_type": "code",
   "execution_count": null,
   "metadata": {
    "id": "sGVXGduUaeAj"
   },
   "outputs": [],
   "source": [
    "K **= 2\r\n",
    "K"
   ]
  },
  {
   "cell_type": "markdown",
   "metadata": {
    "id": "UGXuqhVNbW7R"
   },
   "source": [
    "### Comparators"
   ]
  },
  {
   "cell_type": "code",
   "execution_count": null,
   "metadata": {
    "id": "Oj9xLaEaYeuY"
   },
   "outputs": [],
   "source": [
    "res_1, res_2, res_3 = 1, 2.0, \"1\"\r\n",
    "true_val = 1.0"
   ]
  },
  {
   "cell_type": "code",
   "execution_count": null,
   "metadata": {
    "id": "GEXm6RSsbA8Q"
   },
   "outputs": [],
   "source": [
    "## Equality\r\n",
    "res_1 == true_val"
   ]
  },
  {
   "cell_type": "code",
   "execution_count": null,
   "metadata": {
    "id": "SdHk_b58bZhD"
   },
   "outputs": [],
   "source": [
    "## Non-equality\r\n",
    "res_2 != true_val"
   ]
  },
  {
   "cell_type": "code",
   "execution_count": null,
   "metadata": {
    "id": "EnA4q50JbQB5"
   },
   "outputs": [],
   "source": [
    "## Inequality\r\n",
    "t1 = res_1 > res_2\r\n",
    "t2 = res_1 < res_2/2\r\n",
    "t3 = res_1 >= res_2/2\r\n",
    "t4 = res_1 <= res_2  \r\n",
    "t1"
   ]
  },
  {
   "cell_type": "markdown",
   "metadata": {
    "id": "9WkfdvbfcC1Y"
   },
   "source": [
    "### Logical"
   ]
  },
  {
   "cell_type": "code",
   "execution_count": null,
   "metadata": {
    "id": "cYVG6YeNb-Gz"
   },
   "outputs": [],
   "source": [
    "res_1 == true_val"
   ]
  },
  {
   "cell_type": "code",
   "execution_count": null,
   "metadata": {
    "id": "rLe6hpkHcN-z"
   },
   "outputs": [],
   "source": [
    "res_1 is true_val"
   ]
  },
  {
   "cell_type": "code",
   "execution_count": null,
   "metadata": {
    "id": "tr5qxHQmcO-C"
   },
   "outputs": [],
   "source": [
    "res_1 is not true_val"
   ]
  },
  {
   "cell_type": "code",
   "execution_count": null,
   "metadata": {
    "id": "3GU72N-Gcslz"
   },
   "outputs": [],
   "source": [
    "p, q = True, False\r\n",
    "conj = p and q\r\n",
    "conj"
   ]
  },
  {
   "cell_type": "code",
   "execution_count": null,
   "metadata": {
    "id": "ihMxcT6KcvQj"
   },
   "outputs": [],
   "source": [
    "p, q = True, False\r\n",
    "disj = p or q\r\n",
    "disj"
   ]
  },
  {
   "cell_type": "code",
   "execution_count": null,
   "metadata": {
    "id": "T-QfmeYgcyGQ"
   },
   "outputs": [],
   "source": [
    "p, q = True, False\r\n",
    "nand = not(p and q)\r\n",
    "nand"
   ]
  },
  {
   "cell_type": "code",
   "execution_count": null,
   "metadata": {
    "id": "2HL7SlVbc10k"
   },
   "outputs": [],
   "source": [
    "p, q = True, False\r\n",
    "xor = (not p and q) or (p and not q)\r\n",
    "xor"
   ]
  },
  {
   "cell_type": "markdown",
   "metadata": {
    "id": "AQx4DKafYffJ"
   },
   "source": [
    "### I/O"
   ]
  },
  {
   "cell_type": "code",
   "execution_count": null,
   "metadata": {
    "id": "Q-DVERG5Yk9w"
   },
   "outputs": [],
   "source": [
    "print(\"Hello World\")"
   ]
  },
  {
   "cell_type": "code",
   "execution_count": null,
   "metadata": {
    "id": "fS5wN51beSVF"
   },
   "outputs": [],
   "source": [
    "cnt = 1"
   ]
  },
  {
   "cell_type": "code",
   "execution_count": null,
   "metadata": {
    "id": "hKNaUXmdZdUo"
   },
   "outputs": [],
   "source": [
    "string = \"Hello World\"\r\n",
    "print(string, \", Current run count is:\", cnt)\r\n",
    "cnt += 1"
   ]
  },
  {
   "cell_type": "code",
   "execution_count": null,
   "metadata": {
    "id": "15_WdzEZcOVX"
   },
   "outputs": [],
   "source": [
    "print(f\"{string}, Current count is: {cnt}\")"
   ]
  },
  {
   "cell_type": "code",
   "execution_count": null,
   "metadata": {
    "id": "5m9XtFOPcOXo"
   },
   "outputs": [],
   "source": [
    "sem_grade = 82.243564657461234\r\n",
    "name = \"\"\r\n",
    "print(\"Hello {}, your semestral grade is: {}\".format(name, sem_grade))"
   ]
  },
  {
   "cell_type": "code",
   "execution_count": null,
   "metadata": {
    "id": "SMJx6bTnfdgZ"
   },
   "outputs": [],
   "source": [
    "w_pg, w_mg, w_fg = 0.3, 0.3, 0.4\r\n",
    "print(\"The weights of your semestral grades are:\\\r\n",
    "\\n\\t{:.2%} for Prelims\\\r\n",
    "\\n\\t{:.2%} for Midterms, and\\\r\n",
    "\\n\\t{:.2%} for Finals.\".format(w_pg, w_mg, w_fg))"
   ]
  },
  {
   "cell_type": "code",
   "execution_count": null,
   "metadata": {
    "id": "Ob2I_zR3jAcZ"
   },
   "outputs": [],
   "source": [
    "x = input(\"enter a number: \")\r\n",
    "x"
   ]
  },
  {
   "cell_type": "code",
   "execution_count": null,
   "metadata": {
    "id": "T7ODFfcMh9Pg"
   },
   "outputs": [],
   "source": [
    "name = input(\"Kimi no nawa: \")\r\n",
    "pg = input(\"Enter prelim grade: \")\r\n",
    "mg = input(\"Enter midterm grade: \")\r\n",
    "fg = input(\"Enter finals grade: \")\r\n",
    "sem_grade = None\r\n",
    "print(\"Hello {}, your semestral grade is: {}\".format(name, sem_grade))"
   ]
  },
  {
   "cell_type": "markdown",
   "metadata": {
    "id": "i0g3EothhvqL"
   },
   "source": [
    "# Looping Statements"
   ]
  },
  {
   "cell_type": "markdown",
   "metadata": {
    "id": "j4w90VAIjcFJ"
   },
   "source": [
    "## While"
   ]
  },
  {
   "cell_type": "code",
   "execution_count": null,
   "metadata": {
    "id": "4vtSrBPThlse"
   },
   "outputs": [],
   "source": [
    "## while loops\r\n",
    "i, j = 0, 10\r\n",
    "while(i<=j):\r\n",
    "    print(f\"{i}\\t|\\t{j}\")\r\n",
    "    i+=1"
   ]
  },
  {
   "cell_type": "markdown",
   "metadata": {
    "id": "Qz6AH6jRjfUg"
   },
   "source": [
    "## For"
   ]
  },
  {
   "cell_type": "code",
   "execution_count": null,
   "metadata": {
    "id": "q0DUwfRkjZY7"
   },
   "outputs": [],
   "source": [
    "# for(int i=0; i<10; i++){\r\n",
    "# printf(i)\r\n",
    "# }\r\n",
    "\r\n",
    "i=0\r\n",
    "for i in range(10):\r\n",
    "    print(i)"
   ]
  },
  {
   "cell_type": "code",
   "execution_count": null,
   "metadata": {
    "id": "zaM--lUhjiUg"
   },
   "outputs": [],
   "source": [
    "playlist = []\r\n",
    "print('Now Playing:\\n')\r\n",
    "for song in playlist:\r\n",
    "    print(song)"
   ]
  },
  {
   "cell_type": "markdown",
   "metadata": {
    "id": "N6jTqTZojnSg"
   },
   "source": [
    "# Flow Control"
   ]
  },
  {
   "cell_type": "markdown",
   "metadata": {
    "id": "uhnsV2CijrWQ"
   },
   "source": [
    "## Condition Statements"
   ]
  },
  {
   "cell_type": "code",
   "execution_count": null,
   "metadata": {
    "id": "seJplrJojmTg"
   },
   "outputs": [],
   "source": [
    "numeral1, numeral2 = 12, 12\r\n",
    "if(numeral1 == numeral2):\r\n",
    "    print(\"Yey\")\r\n",
    "elif(numeral1>numeral2):\r\n",
    "    print(\"Hoho\")\r\n",
    "else:\r\n",
    "    print(\"Aww\")\r\n",
    "print(\"Hip hip\")"
   ]
  },
  {
   "cell_type": "markdown",
   "metadata": {
    "id": "tlnG1OKilNLo"
   },
   "source": [
    "# Functions"
   ]
  },
  {
   "cell_type": "code",
   "execution_count": null,
   "metadata": {
    "id": "1iMUEipnlUKY"
   },
   "outputs": [],
   "source": [
    "# void DeleteUser(int userid){\r\n",
    "#     delete(userid);\r\n",
    "# }\r\n",
    "\r\n",
    "def delete_user (userid):\r\n",
    "    print(\"Successfully deleted user: {}\".format(userid))\r\n",
    "    \r\n",
    "def delete_all_users ():\r\n",
    "    print(\"Successfully deleted all users\")"
   ]
  },
  {
   "cell_type": "code",
   "execution_count": null,
   "metadata": {
    "id": "v_TkrftylUEA"
   },
   "outputs": [],
   "source": [
    "userid = 0\r\n",
    "delete_user(0)\r\n",
    "delete_all_users()"
   ]
  },
  {
   "cell_type": "code",
   "execution_count": null,
   "metadata": {
    "id": "M0ffjw31lT8Y"
   },
   "outputs": [],
   "source": [
    "def add(addend1, addend2):\r\n",
    "    return addend1 + addend2\r\n",
    "\r\n",
    "def power_of_base2(exponent):\r\n",
    "    return 2**exponent"
   ]
  },
  {
   "cell_type": "markdown",
   "metadata": {
    "id": "2_tDT01oFEGQ"
   },
   "source": [
    "### Lambda Functions"
   ]
  },
  {
   "cell_type": "code",
   "execution_count": null,
   "metadata": {
    "id": "tmmBNW9pFg-4"
   },
   "outputs": [],
   "source": [
    "x = 4"
   ]
  },
  {
   "cell_type": "code",
   "execution_count": null,
   "metadata": {
    "id": "_9KYzCrIFCpI"
   },
   "outputs": [],
   "source": [
    "def f(x):\r\n",
    "  return 2*(x*x)-1\r\n",
    "f(x)"
   ]
  },
  {
   "cell_type": "code",
   "execution_count": null,
   "metadata": {
    "id": "a2uwKwqFFafn"
   },
   "outputs": [],
   "source": [
    "g = lambda x: 2*(x*x)-1\r\n",
    "print(g(x))"
   ]
  },
  {
   "cell_type": "code",
   "execution_count": null,
   "metadata": {
    "id": "Rjm9RFrGlMgA"
   },
   "outputs": [],
   "source": [
    "'''\n",
    "Create a grade calculator that computes for the semestral grade of a course.\n",
    "Students could type their names, the name of the course, then their prelim,\n",
    "midterm, and final grade.\n",
    "The program should print the semestral grade in 2 decimal points and should\n",
    "display the following emojis depending on the situation:\n",
    "happy - when grade is greater than 70.00\n",
    "laughing - when grade is exactly 70.00\n",
    "sad - when grade is below 70.00\n",
    "'''\n",
    "happy, lol, sad = \"\\U0001F600\",\"\\U0001F923\",\"\\U0001F619\" \n",
    "\n",
    "class Menu:\n",
    "   def __init__(self):\n",
    "       print(\"Grade calculator\")\n",
    "       print(\"Menu\")\n",
    "       print(\"1. Add your details minna\")\n",
    "       print(\"2. Compute for your semestral grade\")\n",
    "\n",
    "class Student_details:\n",
    "    \n",
    "    def __init__(self):\n",
    "        self.student_name = \"Default text\"\n",
    "        self.course = \"Default text\"\n",
    "        self.pg = \"Default text\"\n",
    "        self.mg = \"Default text\"\n",
    "        self.fg = \"Default text\"\n",
    "\n",
    "    def set_student_details(self):\n",
    "        self.student_name = input(\"Enter your name: \")\n",
    "        self.course = input(\"Enter your course: \")\n",
    "        self.pg = float(input(\"Enter prelim grade: \"))\n",
    "        self.mg = float(input(\"Enter midterm grade: \"))\n",
    "        self.fg = float(input(\"Enter finals grade: \"))\n",
    "\n",
    "class Operations:\n",
    "    \n",
    "    def __init__(self):\n",
    "        self.student_lists = list()\n",
    "\n",
    "    def add_student(self):\n",
    "       stud_details = Student_details()\n",
    "       stud_details.set_student_details()\n",
    "       self.student_lists.append(stud_details)\n",
    "\n",
    "    def compute(self):\n",
    "        w_pg, w_mg, w_fg = 0.3, 0.3, 0.4\n",
    "        for grade in self.student_lists:\n",
    "            sem_grade = grade.pg*w_pg + grade.mg*w_mg + grade.fg*w_fg\n",
    "\n",
    "        if sem_grade > 70:\n",
    "            print(happy)\n",
    "\n",
    "        elif sem_grade == 70:\n",
    "            print(lol)\n",
    "\n",
    "        else:\n",
    "            print(sad)\n",
    "\n",
    "if __name__ == '__main__':\n",
    "   operation = Operations()\n",
    "   user_choice = \"1\"\n",
    "   while user_choice == \"1\":\n",
    "       menu = Menu()\n",
    "       user_choice = input(\"Input selected option: \")\n",
    "       if user_choice == \"1\":\n",
    "           operation.add_student() \n",
    "       elif user_choice == \"2\":\n",
    "           operation.compute()\n",
    "           \n",
    "       user_choice = input(\"Press 1 to Continue, Press 2 to Exit \")  "
   ]
  }
 ],
 "metadata": {
  "colab": {
   "collapsed_sections": [],
   "include_colab_link": true,
   "name": "CpE Programming 101.b - Python Fundamentals",
   "provenance": []
  },
  "kernelspec": {
   "display_name": "Python 3",
   "language": "python",
   "name": "python3"
  },
  "language_info": {
   "codemirror_mode": {
    "name": "ipython",
    "version": 3
   },
   "file_extension": ".py",
   "mimetype": "text/x-python",
   "name": "python",
   "nbconvert_exporter": "python",
   "pygments_lexer": "ipython3",
   "version": "3.8.3"
  }
 },
 "nbformat": 4,
 "nbformat_minor": 4
}
