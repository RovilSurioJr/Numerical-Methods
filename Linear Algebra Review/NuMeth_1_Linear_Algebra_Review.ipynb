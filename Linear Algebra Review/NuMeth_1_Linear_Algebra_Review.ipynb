{
  "nbformat": 4,
  "nbformat_minor": 0,
  "metadata": {
    "colab": {
      "name": "NuMeth 1 - Linear Algebra Review",
      "provenance": [],
      "collapsed_sections": [],
      "toc_visible": true
    },
    "kernelspec": {
      "display_name": "Python 3",
      "language": "python",
      "name": "python3"
    },
    "language_info": {
      "codemirror_mode": {
        "name": "ipython",
        "version": 3
      },
      "file_extension": ".py",
      "mimetype": "text/x-python",
      "name": "python",
      "nbconvert_exporter": "python",
      "pygments_lexer": "ipython3",
      "version": "3.8.3"
    }
  },
  "cells": [
    {
      "cell_type": "markdown",
      "metadata": {
        "id": "CPi23qJFCw2L"
      },
      "source": [
        "# Welcome to Linear Algebra Review\n",
        "\n",
        "*by R.J. Surio ©2021*\n",
        "\n",
        "Linear Algebra is one of the fundamental mathematics for Artificial Intelligence Development and also Computer Vision. We will see the applications of Linear Algebra in advanced mathematical techniques such as optimization, vectorized programming, and matrix manipulation.\n",
        "\n",
        "In this module, we are going to review some of the useful equations needed in data science to refresh our skills in Python programming. We are going to cover:\n",
        "\n",
        "* Vectors\n",
        "* Operations with Vectors\n",
        "* Matrices\n",
        "* Tensors\n",
        "* Determinants\n",
        "* System of Linear Equations\n",
        "* Visualizing of Vectors\n",
        "* Modulus of a Vector\n",
        "* The Sigmoid function"
      ]
    },
    {
      "cell_type": "markdown",
      "metadata": {
        "id": "zfQWDrsEDzfi"
      },
      "source": [
        "## 1. Vectors\r\n",
        "NumPy or Numerical Python is a package or library that allows programmers to code and model computations and see them in action. You can check the [NumPy documentation](https://numpy.org/doc/stable/reference/index.html) on how to use their APIs.\r\n",
        "\r\n"
      ]
    },
    {
      "cell_type": "code",
      "metadata": {
        "id": "NyKiAJagCr23",
        "outputId": "2bc53933-ad6f-4fd8-e6d4-d0d426986e0e"
      },
      "source": [
        "## You can install NumPy in your local machine by doing the following line without the \"!\"\r\n",
        "!pip install numpy\r\n",
        "## But in Google Colab NumPy is already installed in your session.\r\n",
        "import numpy as np\r\n",
        "print(f'NumPy library version: {np.__version__}')"
      ],
      "execution_count": null,
      "outputs": [
        {
          "output_type": "stream",
          "text": [
            "Requirement already satisfied: numpy in d:\\anaconda\\lib\\site-packages (1.18.5)\n",
            "NumPy library version: 1.18.5\n"
          ],
          "name": "stdout"
        }
      ]
    },
    {
      "cell_type": "markdown",
      "metadata": {
        "id": "wr7iZs8-ECIh"
      },
      "source": [
        "### Defining Vectors, Matrices, and Tensors\r\n",
        "Vectors, Matrices, and Tensors are the fundamental objects in Linear Algebra programming. We'll be defining each of these objects specifically in the Computer Science/Engineering perspective since it would be much confusing if we consider their Physics and Pure Mathematics definitions."
      ]
    },
    {
      "cell_type": "markdown",
      "metadata": {
        "id": "hXyQT1GoEICC"
      },
      "source": [
        "#### <i>Scalars</i>\r\n",
        "Scalars are numerical entities that are represented by a single value. "
      ]
    },
    {
      "cell_type": "code",
      "metadata": {
        "id": "euMYAk53D96k",
        "outputId": "1c9fca05-d320-453b-f814-a26223cb6a16"
      },
      "source": [
        "x = np.array(8) # Example of scalar\n",
        "y= np.array(4)\n",
        "z= np.array(3)\n",
        "scalar = x+y+z\n",
        "scalar"
      ],
      "execution_count": null,
      "outputs": [
        {
          "output_type": "execute_result",
          "data": {
            "text/plain": [
              "15"
            ]
          },
          "metadata": {
            "tags": []
          },
          "execution_count": 132
        }
      ]
    },
    {
      "cell_type": "markdown",
      "metadata": {
        "id": "FJWsNnsnEKPR"
      },
      "source": [
        "#### *Vectors*\r\n",
        "Vectors are array of numerical values or scalars that would represent any feature space. Feature spaces or simply dimensions or the parameters of an equation or a function."
      ]
    },
    {
      "cell_type": "code",
      "metadata": {
        "id": "Y6kqO2sLEOY7",
        "outputId": "692dc23b-490b-4a8c-cf92-defc20394049"
      },
      "source": [
        "a = np.array([4,2,1]) # Collection of scalars therefore a vector\n",
        "a"
      ],
      "execution_count": null,
      "outputs": [
        {
          "output_type": "execute_result",
          "data": {
            "text/plain": [
              "array([4, 2, 1])"
            ]
          },
          "metadata": {
            "tags": []
          },
          "execution_count": 133
        }
      ]
    },
    {
      "cell_type": "markdown",
      "metadata": {
        "id": "UpTSGTl0EOqx"
      },
      "source": [
        "#### *Matrices*\r\n",
        "Matrices are array of vectors or a multi-dimensional array for features for an equation or function."
      ]
    },
    {
      "cell_type": "code",
      "metadata": {
        "id": "9RyugRXrEQab",
        "outputId": "3ccf805f-64ca-41ad-946e-42b5e848c062"
      },
      "source": [
        "b = np.array([\n",
        "    [3,1,1],\n",
        "    [4,5,6], # Collection of vectors\n",
        "    [2,2,4]\n",
        "])\n",
        "b\n",
        "\n",
        "# Accessing using index\n",
        "\n",
        "b[1] # Prints the 2nd vector\n",
        "b[1,0] # Prints the first element of 2nd vector\n"
      ],
      "execution_count": null,
      "outputs": [
        {
          "output_type": "execute_result",
          "data": {
            "text/plain": [
              "4"
            ]
          },
          "metadata": {
            "tags": []
          },
          "execution_count": 134
        }
      ]
    },
    {
      "cell_type": "markdown",
      "metadata": {
        "id": "7aHsGCpoEQ_h"
      },
      "source": [
        "#### *Tensors*\r\n",
        "Tensors are an array of matrices. Tensors have dimensions, tensors can have alternate names depending on what dimension they are in. 1D tensors can be considered as vectors, 2D tensors can be considered are matrices, and 3D onwards are called high dimensional tensors."
      ]
    },
    {
      "cell_type": "code",
      "metadata": {
        "id": "0LsB8OX7EWiJ",
        "outputId": "44e84424-a98d-43b4-d29f-ea0a67c66ae5"
      },
      "source": [
        " c = np.array([\n",
        "    [[3,1,1],[4,5,6],[2,2,4]], # Collection of matrices\n",
        "    [[4,1,5],[6,2,1],[5,1,1]]\n",
        "])\n",
        "    \n",
        "c\n",
        "c[1,0,2] # Accessing the 2nd matrix then the first vecter and its third element"
      ],
      "execution_count": null,
      "outputs": [
        {
          "output_type": "execute_result",
          "data": {
            "text/plain": [
              "5"
            ]
          },
          "metadata": {
            "tags": []
          },
          "execution_count": 135
        }
      ]
    },
    {
      "cell_type": "markdown",
      "metadata": {
        "id": "bpwgaV-mESxA"
      },
      "source": [
        "Here's a visual representation of the data types that we are going to use. <br>\r\n",
        "<img src=\"https://static.javatpoint.com/tutorial/pytorch/images/pytorch-tensors.png\">\r\n",
        "\r\n"
      ]
    },
    {
      "cell_type": "markdown",
      "metadata": {
        "id": "DuSXe7etEZPQ"
      },
      "source": [
        "### Describing Tensors\r\n",
        "\r\n",
        "Describing tensors is very important if we want to perform basic to advanced operations with them. The fundamental ways in describing tensors are knowing their shape, size, and dimensions.\r\n"
      ]
    },
    {
      "cell_type": "markdown",
      "metadata": {
        "id": "SwgpdKt9Em2J"
      },
      "source": [
        "#### *Shapes*\r\n",
        "The shape of a tensor tells us how many rows and columns are there in an axis.\r\n"
      ]
    },
    {
      "cell_type": "code",
      "metadata": {
        "id": "1_zIw1OsEluE",
        "outputId": "4b6f7bef-e64e-4246-c854-f8743058dae5"
      },
      "source": [
        "\"\"\" c = np.array([\n",
        "    [[3,1,1],[4,5,6],[2,2,4]], \n",
        "    [[4,1,5],[6,2,1],[5,1,1]]\n",
        "])\n",
        "    \"\"\" \n",
        "c.shape # To check the shape of the array"
      ],
      "execution_count": null,
      "outputs": [
        {
          "output_type": "execute_result",
          "data": {
            "text/plain": [
              "(2, 3, 3)"
            ]
          },
          "metadata": {
            "tags": []
          },
          "execution_count": 136
        }
      ]
    },
    {
      "cell_type": "markdown",
      "metadata": {
        "id": "8ApYwUyQEpmx"
      },
      "source": [
        "#### <i>Dimensions</i>\r\n",
        "In NumPy the dimension of a tensor is also called axes."
      ]
    },
    {
      "cell_type": "code",
      "metadata": {
        "id": "LCfMGIsrErwR",
        "outputId": "8f1b9199-5591-42f7-b3a5-ca3c35e7441b"
      },
      "source": [
        "c.ndim # To check the dimension of the array\n",
        "#b.ndim"
      ],
      "execution_count": null,
      "outputs": [
        {
          "output_type": "execute_result",
          "data": {
            "text/plain": [
              "3"
            ]
          },
          "metadata": {
            "tags": []
          },
          "execution_count": 137
        }
      ]
    },
    {
      "cell_type": "markdown",
      "metadata": {
        "id": "DbzQSFQ1EsPB"
      },
      "source": [
        "#### *Sizes*\r\n",
        "The size of a tensor/ vector/ matrix is simply the total number of elements in it."
      ]
    },
    {
      "cell_type": "code",
      "metadata": {
        "id": "H6HtwIRBEvUB",
        "outputId": "dea86ef4-053d-47eb-c178-1fe5f57f929c"
      },
      "source": [
        "d = np.array([c,c]) # A 4d-tensor\n",
        "d.size # To check the number of elements on the array"
      ],
      "execution_count": null,
      "outputs": [
        {
          "output_type": "execute_result",
          "data": {
            "text/plain": [
              "36"
            ]
          },
          "metadata": {
            "tags": []
          },
          "execution_count": 138
        }
      ]
    },
    {
      "cell_type": "code",
      "metadata": {
        "id": "bjI6eE5WkzUJ",
        "outputId": "6514b1ab-66c8-4e00-d2de-0e358febb663"
      },
      "source": [
        "d"
      ],
      "execution_count": null,
      "outputs": [
        {
          "output_type": "execute_result",
          "data": {
            "text/plain": [
              "array([[[[3, 1, 1],\n",
              "         [4, 5, 6],\n",
              "         [2, 2, 4]],\n",
              "\n",
              "        [[4, 1, 5],\n",
              "         [6, 2, 1],\n",
              "         [5, 1, 1]]],\n",
              "\n",
              "\n",
              "       [[[3, 1, 1],\n",
              "         [4, 5, 6],\n",
              "         [2, 2, 4]],\n",
              "\n",
              "        [[4, 1, 5],\n",
              "         [6, 2, 1],\n",
              "         [5, 1, 1]]]])"
            ]
          },
          "metadata": {
            "tags": []
          },
          "execution_count": 139
        }
      ]
    },
    {
      "cell_type": "markdown",
      "metadata": {
        "id": "bfLvsCCdEvzR"
      },
      "source": [
        "## Types of Matrices\r\n",
        "The notation and use of matrices are probably one of the fundamentals of modern computing. Matrices are also handy representations of complex equations or multiple inter-related equations from 2-dimensional equations to even hundreds and thousands of them.\r\n",
        "\r\n",
        "Let's say for example you have $A$ and $B$ as the system of equations.\r\n",
        "\r\n",
        "$$\r\n",
        "A = \\left\\{\r\n",
        "    \\begin{array}\\\\\r\n",
        "        x + y \\\\ \r\n",
        "        4x - 10y\r\n",
        "    \\end{array}\r\n",
        "\\right. \\\\\r\n",
        "B = \\left\\{\r\n",
        "    \\begin{array}\\\\\r\n",
        "        x+y+z \\\\ \r\n",
        "        3x -2y -z \\\\\r\n",
        "        -x + 4y +2z\r\n",
        "    \\end{array}\r\n",
        "\\right. $$\r\n",
        "\r\n",
        "We could see that $A$ is a system of 2 equations with 2 parameters. While $B$ is a system of 3 equations with 3 parameters. We can represent them as matrices as:\r\n",
        "\r\n",
        "$$\r\n",
        "A=\\begin{bmatrix} 1 & 1 \\\\ 4 & {-10}\\end{bmatrix} \\\\\r\n",
        "B=\\begin{bmatrix} 1 & 1 & 1 \\\\ 3 & -2 & -1 \\\\ -1 & 4 & 2\\end{bmatrix}\r\n",
        "$$\r\n",
        "\r\n",
        "We'll represent the system of linear equations as a matrix. The entities or numbers in matrices are called the elements of a matrix. These elements are arranged and ordered in rows and columns which form the list/array-like structure of matrices. And just like arrays, these elements are indexed according to their position with respect to their rows and columns. This can be represented just like the equation below. Whereas $A$ is a matrix consisting of elements denoted by $a_{i,j}$. Denoted by $i$ is the number of rows in the matrix while $j$ stands for the number of columns.<br>\r\n",
        "Do note that the $size$ of a matrix is $i\\times j$.\r\n",
        "$$A=\\begin{bmatrix}\r\n",
        "a_{(0,0)}&a_{(0,1)}&\\dots&a_{(0,j-1)}\\\\\r\n",
        "a_{(1,0)}&a_{(1,1)}&\\dots&a_{(1,j-1)}\\\\\r\n",
        "\\vdots&\\vdots&\\ddots&\\vdots&\\\\\r\n",
        "a_{(i-1,0)}&a_{(i-1,1)}&\\dots&a_{(i-1,j-1)}\r\n",
        "\\end{bmatrix}\r\n",
        "$$\r\n",
        "We already gone over some of the types of matrices as vectors but we'll further discuss them in this laboratory activity. Since you already know how to describe vectors using shape, dimensions and size attributes, we'll use them to analyze these matrices."
      ]
    },
    {
      "cell_type": "code",
      "metadata": {
        "id": "uICoQit6E06p"
      },
      "source": [
        "def describe_mat(matrix):\r\n",
        "    print(f'Matrix:\\n{matrix}\\n\\nShape:\\t{matrix.shape}\\nRank:\\t{matrix.ndim}\\n')"
      ],
      "execution_count": null,
      "outputs": []
    },
    {
      "cell_type": "markdown",
      "metadata": {
        "id": "Ig-gl-rSE-uq"
      },
      "source": [
        "### Matrices according to shape"
      ]
    },
    {
      "cell_type": "markdown",
      "metadata": {
        "id": "VHRtsc3fFBWw"
      },
      "source": [
        "#### *Row and Column Matrices*\r\n",
        "\r\n",
        "Row and column matrices are common in vector and matrix computations. They can also represent row and column spaces of a bigger vector space. Row and column matrices are represented by a single column or single row. So with that being, the shape of row matrices would be $1 \\times j$ and column matrices would be $i \\times 1$."
      ]
    },
    {
      "cell_type": "code",
      "metadata": {
        "id": "Ddc899xwFA7b",
        "outputId": "141c0dd7-4dc7-4319-8490-f06c3ac92317"
      },
      "source": [
        "## Declaring a Row Matrix\n",
        "\n",
        "f = np.array([[3,4,1]]) \n",
        "describe_mat(f) # The '1' in shape represents the row"
      ],
      "execution_count": null,
      "outputs": [
        {
          "output_type": "stream",
          "text": [
            "Matrix:\n",
            "[[3 4 1]]\n",
            "\n",
            "Shape:\t(1, 3)\n",
            "Rank:\t2\n",
            "\n"
          ],
          "name": "stdout"
        }
      ]
    },
    {
      "cell_type": "code",
      "metadata": {
        "id": "Y_7qozkmFHIj",
        "outputId": "a525c604-d490-4b39-bb11-53789571c23e"
      },
      "source": [
        "## Declaring a Column Matrix\n",
        "## Should have 1 element on each row\n",
        "\n",
        "col = np.array([ \n",
        "                [4],\n",
        "                [2],\n",
        "                [1]\n",
        "])\n",
        "\n",
        "describe_mat(col) # The '3' in shape represents rows while the '1' is the column"
      ],
      "execution_count": null,
      "outputs": [
        {
          "output_type": "stream",
          "text": [
            "Matrix:\n",
            "[[4]\n",
            " [2]\n",
            " [1]]\n",
            "\n",
            "Shape:\t(3, 1)\n",
            "Rank:\t2\n",
            "\n"
          ],
          "name": "stdout"
        }
      ]
    },
    {
      "cell_type": "markdown",
      "metadata": {
        "id": "B9v0LYERFK1a"
      },
      "source": [
        "#### <i>Square Matrices</i>\r\n",
        "Square matrices are matrices that have the same row and column sizes. We could say a matrix is square if $i = j$. We can tweak our matrix descriptor function to determine square matrices."
      ]
    },
    {
      "cell_type": "code",
      "metadata": {
        "id": "TjUWmKseFIkL",
        "outputId": "2e8b67e6-c879-4e26-c3f7-65a224da4704"
      },
      "source": [
        "## Square matrices only exist on rank 2 or 2nd dimension\n",
        "\n",
        "sq = np.array([\n",
        "    [3,4],\n",
        "    [1,2]\n",
        "])\n",
        "describe_mat(sq)"
      ],
      "execution_count": null,
      "outputs": [
        {
          "output_type": "stream",
          "text": [
            "Matrix:\n",
            "[[3 4]\n",
            " [1 2]]\n",
            "\n",
            "Shape:\t(2, 2)\n",
            "Rank:\t2\n",
            "\n"
          ],
          "name": "stdout"
        }
      ]
    },
    {
      "cell_type": "markdown",
      "metadata": {
        "id": "QLWp8IaxFQHJ"
      },
      "source": [
        "### Matrices according to element values"
      ]
    },
    {
      "cell_type": "markdown",
      "metadata": {
        "id": "YXYw9-pxFS8Z"
      },
      "source": [
        "#### <i>Empty Matrix</i>\r\n",
        "\r\n",
        "An empty Matrix is a matrix that has no elements. It is always a subspace of any vector or matrix."
      ]
    },
    {
      "cell_type": "code",
      "metadata": {
        "id": "xlO-lmVBFRNA",
        "outputId": "0d190420-968e-406c-ef4a-49b84dff1799"
      },
      "source": [
        "nul = np.empty((1,2)) # Empty declaration - has a small value considered as 0\n",
        "nul\n",
        "\n",
        "empt = np.array([],[]) # Nothing inside\n",
        "empt "
      ],
      "execution_count": null,
      "outputs": [
        {
          "output_type": "execute_result",
          "data": {
            "text/plain": [
              "array([], dtype=[])"
            ]
          },
          "metadata": {
            "tags": []
          },
          "execution_count": 144
        }
      ]
    },
    {
      "cell_type": "markdown",
      "metadata": {
        "id": "ofntAyNKFVkA"
      },
      "source": [
        "#### <i>Zero/Null Matrix</i>\r\n",
        "A zero matrix can be any rectangular matrix but with all elements having a value of 0. In most texts, the zero matrix is denoted as $\\emptyset$.<br>\r\n",
        "Check out: [`numpy.zeros`](https://numpy.org/doc/stable/reference/generated/numpy.zeros.html)"
      ]
    },
    {
      "cell_type": "code",
      "metadata": {
        "id": "bN4orlEzFV34",
        "outputId": "0940fe2f-6854-4315-bf4a-2ebc565a6c7d"
      },
      "source": [
        "z = np.zeros((4,4)) # For creation of matrix will all zero values\n",
        "z"
      ],
      "execution_count": null,
      "outputs": [
        {
          "output_type": "execute_result",
          "data": {
            "text/plain": [
              "array([[0., 0., 0., 0.],\n",
              "       [0., 0., 0., 0.],\n",
              "       [0., 0., 0., 0.],\n",
              "       [0., 0., 0., 0.]])"
            ]
          },
          "metadata": {
            "tags": []
          },
          "execution_count": 145
        }
      ]
    },
    {
      "cell_type": "code",
      "metadata": {
        "id": "lPZRv8ZwkzUO",
        "outputId": "a70f45f1-5695-4732-f04a-2256c2baf142"
      },
      "source": [
        "## Another way to do matrix of specific element\n",
        "m = np.full((4,4),0)\n",
        "m"
      ],
      "execution_count": null,
      "outputs": [
        {
          "output_type": "execute_result",
          "data": {
            "text/plain": [
              "array([[0, 0, 0, 0],\n",
              "       [0, 0, 0, 0],\n",
              "       [0, 0, 0, 0],\n",
              "       [0, 0, 0, 0]])"
            ]
          },
          "metadata": {
            "tags": []
          },
          "execution_count": 146
        }
      ]
    },
    {
      "cell_type": "markdown",
      "metadata": {
        "id": "CHwAtgfaFWWY"
      },
      "source": [
        "#### <i>Ones Matrix</i>\r\n",
        "A ones matrix, just like zero matrices, can be any rectangular matrix but all of its elements are 1s instead of 0s.\r\n",
        "\r\n",
        "Check out: [`numpy.ones`](https://numpy.org/doc/stable/reference/generated/numpy.ones.html)"
      ]
    },
    {
      "cell_type": "code",
      "metadata": {
        "id": "wZayvxxRFYHI",
        "outputId": "cd52aafc-5bb3-41fd-8839-6337a0236592"
      },
      "source": [
        "m = np.ones((3,3))\n",
        "m"
      ],
      "execution_count": null,
      "outputs": [
        {
          "output_type": "execute_result",
          "data": {
            "text/plain": [
              "array([[1., 1., 1.],\n",
              "       [1., 1., 1.],\n",
              "       [1., 1., 1.]])"
            ]
          },
          "metadata": {
            "tags": []
          },
          "execution_count": 147
        }
      ]
    },
    {
      "cell_type": "code",
      "metadata": {
        "id": "YgOWlpx7kzUQ",
        "outputId": "c584c918-10e3-4029-ef72-79d5d9ff9cce"
      },
      "source": [
        "n = np.full((3,3),1)\n",
        "n"
      ],
      "execution_count": null,
      "outputs": [
        {
          "output_type": "execute_result",
          "data": {
            "text/plain": [
              "array([[1, 1, 1],\n",
              "       [1, 1, 1],\n",
              "       [1, 1, 1]])"
            ]
          },
          "metadata": {
            "tags": []
          },
          "execution_count": 148
        }
      ]
    },
    {
      "cell_type": "markdown",
      "metadata": {
        "id": "_Y2fAx-rFYgg"
      },
      "source": [
        "#### <i>Diagonal Matrix</i>\r\n",
        "\r\n",
        "Check out: [`numpy.diag`](https://numpy.org/doc/stable/reference/generated/numpy.diag.html)"
      ]
    },
    {
      "cell_type": "code",
      "metadata": {
        "id": "qbl75HLUFaCQ",
        "outputId": "e480073c-056e-454a-d6dc-8939baab7a86"
      },
      "source": [
        "diag = np.diag([3,1,1]) # Elements in diagonal\n",
        "diag"
      ],
      "execution_count": null,
      "outputs": [
        {
          "output_type": "execute_result",
          "data": {
            "text/plain": [
              "array([[3, 0, 0],\n",
              "       [0, 1, 0],\n",
              "       [0, 0, 1]])"
            ]
          },
          "metadata": {
            "tags": []
          },
          "execution_count": 149
        }
      ]
    },
    {
      "cell_type": "markdown",
      "metadata": {
        "id": "pLxVWf2tFaaT"
      },
      "source": [
        "#### <i>Identity Matrix</i>\r\n",
        "An identity matrix is a special diagonal matrix in which the values at the diagonal are ones. In most texts, the identity matrix is denoted as $I$.<br>\r\n",
        "Check out: \r\n",
        "* [`numpy.eye`](https://numpy.org/doc/stable/reference/generated/numpy.eye.html)\r\n",
        "* [`numpy.identity`](https://numpy.org/doc/stable/reference/generated/numpy.identity.html)"
      ]
    },
    {
      "cell_type": "code",
      "metadata": {
        "id": "snCHNo94FcuQ",
        "outputId": "a02a0cb6-ae50-495f-d83c-a193bb6306e4"
      },
      "source": [
        "I = np.eye(3) # Always a square matrix\n",
        "I\n",
        "\n",
        "describe_mat(I)"
      ],
      "execution_count": null,
      "outputs": [
        {
          "output_type": "stream",
          "text": [
            "Matrix:\n",
            "[[1. 0. 0.]\n",
            " [0. 1. 0.]\n",
            " [0. 0. 1.]]\n",
            "\n",
            "Shape:\t(3, 3)\n",
            "Rank:\t2\n",
            "\n"
          ],
          "name": "stdout"
        }
      ]
    },
    {
      "cell_type": "markdown",
      "metadata": {
        "id": "4sp2nmx1FdBg"
      },
      "source": [
        "#### <i>Scalar Matrix</i>\r\n",
        "Since scalars cannot be explicitly operated with matrices, one workaround is to convert scalars into matrices. This is done by a matrix with all diagonal values equal to the original scalar."
      ]
    },
    {
      "cell_type": "code",
      "metadata": {
        "id": "y5kOPm9uFel4",
        "outputId": "681ef75c-2f23-46a1-ce37-761b81b9cf21"
      },
      "source": [
        "scal = 3*np.identity(4) # The scalar'3' was multiplied into ones resulting to matrix\n",
        "scal"
      ],
      "execution_count": null,
      "outputs": [
        {
          "output_type": "execute_result",
          "data": {
            "text/plain": [
              "array([[3., 0., 0., 0.],\n",
              "       [0., 3., 0., 0.],\n",
              "       [0., 0., 3., 0.],\n",
              "       [0., 0., 0., 3.]])"
            ]
          },
          "metadata": {
            "tags": []
          },
          "execution_count": 151
        }
      ]
    },
    {
      "cell_type": "markdown",
      "metadata": {
        "id": "LRidQS1PFfSB"
      },
      "source": [
        "#### <i>Upper Triangular Matrix</i>\r\n",
        "An upper triangular matrix is a matrix that has no values below the diagonal."
      ]
    },
    {
      "cell_type": "code",
      "metadata": {
        "id": "Hznqw8iIFhPo",
        "outputId": "9270e637-cb51-4818-ed56-c72da4a3e4b0"
      },
      "source": [
        "upper = np.array([ \n",
        "    [2,3,1],\n",
        "    [0,3,5],  # Example\n",
        "    [0,0,1]\n",
        "])\n",
        "upper"
      ],
      "execution_count": null,
      "outputs": [
        {
          "output_type": "execute_result",
          "data": {
            "text/plain": [
              "array([[2, 3, 1],\n",
              "       [0, 3, 5],\n",
              "       [0, 0, 1]])"
            ]
          },
          "metadata": {
            "tags": []
          },
          "execution_count": 152
        }
      ]
    },
    {
      "cell_type": "markdown",
      "metadata": {
        "id": "fIt_zh7vFhuy"
      },
      "source": [
        "#### <i>Lower Triangular Matrix</i>\r\n",
        "\r\n",
        "\r\n",
        "A lower triangular matrix is a matrix that has no values above the diagonal."
      ]
    },
    {
      "cell_type": "code",
      "metadata": {
        "id": "L8AHzCphFjTh",
        "outputId": "0f443d7d-b3a4-4d9c-e613-9db6073bfb4e"
      },
      "source": [
        "lower = np.array([ \n",
        "    [5,0,0],\n",
        "    [4,6,0],  # Example\n",
        "    [1,4,2]\n",
        "])\n",
        "\n",
        "lower"
      ],
      "execution_count": null,
      "outputs": [
        {
          "output_type": "execute_result",
          "data": {
            "text/plain": [
              "array([[5, 0, 0],\n",
              "       [4, 6, 0],\n",
              "       [1, 4, 2]])"
            ]
          },
          "metadata": {
            "tags": []
          },
          "execution_count": 153
        }
      ]
    },
    {
      "cell_type": "markdown",
      "metadata": {
        "id": "YrHljLnqFkGp"
      },
      "source": [
        "# Matrix / Tensor Algebra\r\n",
        "Moving forward with matrices, vectors, and tensors. We'll try to see them in action using the commonly used operations for tensors. We will now dwell on the concepts and applications of Tensor Algebra"
      ]
    },
    {
      "cell_type": "markdown",
      "metadata": {
        "id": "DHOcEAhmFnqx"
      },
      "source": [
        "## Arithmetic / Element-wise Operations\r\n",
        "Check out: \r\n",
        "* [`numpy.add`](https://numpy.org/doc/stable/reference/generated/numpy.add.html)\r\n",
        "* [`numpy.sum`](https://numpy.org/doc/stable/reference/generated/numpy.sum.html)\r\n",
        "* [`numpy.subtract`](https://numpy.org/doc/stable/reference/generated/numpy.subtract.html)\r\n",
        "* [`numpy.multiply`](https://numpy.org/doc/stable/reference/generated/numpy.multiply.html)\r\n",
        "* [`numpy.square`](https://numpy.org/doc/stable/reference/generated/numpy.square.html)\r\n",
        "* [`numpy.divide`](https://numpy.org/doc/stable/reference/generated/numpy.divide.html)"
      ]
    },
    {
      "cell_type": "markdown",
      "metadata": {
        "id": "Q1TtEQdgkzUU"
      },
      "source": [
        "Always remember that the array should have equal shapes when doing operations "
      ]
    },
    {
      "cell_type": "code",
      "metadata": {
        "id": "ezGNpX4MkzUU"
      },
      "source": [
        "g = np.array([\n",
        "    [4,1],\n",
        "    [3,4]\n",
        "])\n",
        "k = np.array([\n",
        "    [9,5],\n",
        "    [7,8]\n",
        "])"
      ],
      "execution_count": null,
      "outputs": []
    },
    {
      "cell_type": "code",
      "metadata": {
        "id": "2uWM0oFZFmTJ",
        "outputId": "aaf1ed38-a2c9-42f2-a124-1b6751b957af"
      },
      "source": [
        "## Addition\n",
        "\n",
        "g+k # can be np.add(g,k)\n",
        "\n",
        "#np.add(g,k)\n",
        "g+3 # Broadcasting - only possible in computational in Python not on actual"
      ],
      "execution_count": null,
      "outputs": [
        {
          "output_type": "execute_result",
          "data": {
            "text/plain": [
              "array([[7, 4],\n",
              "       [6, 7]])"
            ]
          },
          "metadata": {
            "tags": []
          },
          "execution_count": 155
        }
      ]
    },
    {
      "cell_type": "code",
      "metadata": {
        "id": "BRgjTiETFqzK",
        "outputId": "eece9f6b-3048-4fe9-bd2f-24b731fe0174"
      },
      "source": [
        "## Subtraction\n",
        "\n",
        "g-k \n",
        "\n",
        "#np.subtract(g,k)"
      ],
      "execution_count": null,
      "outputs": [
        {
          "output_type": "execute_result",
          "data": {
            "text/plain": [
              "array([[-5, -4],\n",
              "       [-4, -4]])"
            ]
          },
          "metadata": {
            "tags": []
          },
          "execution_count": 156
        }
      ]
    },
    {
      "cell_type": "code",
      "metadata": {
        "id": "gaq2uDF1Fr1x",
        "outputId": "80c3ebca-7401-4fa6-ba95-9ffe7fbd2139"
      },
      "source": [
        "## Multiplication\n",
        "\n",
        "g*k \n",
        "\n",
        "#np.multiply"
      ],
      "execution_count": null,
      "outputs": [
        {
          "output_type": "execute_result",
          "data": {
            "text/plain": [
              "array([[36,  5],\n",
              "       [21, 32]])"
            ]
          },
          "metadata": {
            "tags": []
          },
          "execution_count": 157
        }
      ]
    },
    {
      "cell_type": "code",
      "metadata": {
        "id": "nmZ5be7lFup5",
        "outputId": "af1e4b1a-3d74-40d1-d49e-4c8cd0351739"
      },
      "source": [
        "## Division\n",
        "\n",
        "## To avoid division with zero add a very small number\n",
        "alpha = 10**-6 \n",
        "g/(k+alpha)"
      ],
      "execution_count": null,
      "outputs": [
        {
          "output_type": "execute_result",
          "data": {
            "text/plain": [
              "array([[0.4444444 , 0.19999996],\n",
              "       [0.42857137, 0.49999994]])"
            ]
          },
          "metadata": {
            "tags": []
          },
          "execution_count": 158
        }
      ]
    },
    {
      "cell_type": "markdown",
      "metadata": {
        "id": "teroH5PJF1Fw"
      },
      "source": [
        "## Transpose of a Matrix\r\n",
        "One of the fundamental operations in matrix algebra is Transposition. The transpose of a matrix is done by flipping the values of its elements over its diagonals. With this, the rows and columns from the original matrix will be switched. So for a matrix $A$ its transpose is denoted as $A^T$. So for example:\r\n",
        "\r\n",
        "$$A = \\begin{bmatrix} 1 & 2 & 5\\\\5 & -1 &0 \\\\ 0 & -3 & 3\\end{bmatrix} $$\r\n",
        "$$ A^T = \\begin{bmatrix} 1 & 5 & 0\\\\2 & -1 &-3 \\\\ 5 & 0 & 3\\end{bmatrix}$$\r\n",
        "This can now be achieved programmatically by using `np.transpose()` or using the `T` method.<br>\r\n",
        "Check out:\r\n",
        "* [`np.transpose`](https://numpy.org/doc/stable/reference/generated/numpy.transpose.html)\r\n"
      ]
    },
    {
      "cell_type": "code",
      "metadata": {
        "id": "GbI3wbxTF3pJ",
        "outputId": "50627518-7fbd-4fdc-f44b-6bada5420323"
      },
      "source": [
        "L = np.array([\n",
        "    [3,4,6],\n",
        "    [2,4,4],\n",
        "    [6,5,3]])\n",
        "\n",
        "print(L)\n",
        "print(\"------------\")\n",
        "print(np.transpose(L))"
      ],
      "execution_count": null,
      "outputs": [
        {
          "output_type": "stream",
          "text": [
            "[[3 4 6]\n",
            " [2 4 4]\n",
            " [6 5 3]]\n",
            "------------\n",
            "[[3 2 6]\n",
            " [4 4 5]\n",
            " [6 4 3]]\n"
          ],
          "name": "stdout"
        }
      ]
    },
    {
      "cell_type": "markdown",
      "metadata": {
        "id": "66BnVMxeF5rB"
      },
      "source": [
        "## Vector Product\r\n",
        "The inner product of a vector is the sum of the products of each element of the vectors. So given vectors $H$ and $G$ below:\r\n",
        "$$H=\\begin{bmatrix}1\\\\3\\\\6\\end{bmatrix}, G = \\begin{bmatrix}5\\\\2\\\\1\\end{bmatrix}$$\r\n",
        "We first take the element-wise product of the vectors:\r\n",
        "$$H*G = \\begin{bmatrix}5\\\\6\\\\6\\end{bmatrix}$$\r\n",
        "Then we take the sum of the products, making it the inner product of a vector:\r\n",
        "$$H\\cdot G = 17$$\r\n",
        "You can solve for the inner product using an explicit function, `np.inner()` or the `@` operator.<br>\r\n",
        "Check out:\r\n",
        "* [`np.inner`](https://numpy.org/doc/stable/reference/generated/numpy.inner.html)"
      ]
    },
    {
      "cell_type": "code",
      "metadata": {
        "id": "-m73UfOQF764",
        "outputId": "bb5ee305-1332-42ba-eaa1-8e5b071fdfb8"
      },
      "source": [
        "def inner (vec,vec2):\n",
        "    dot = 0\n",
        "    for element in range(len(vec)): \n",
        "        dot = vec[element]*vec2[element] + dot\n",
        "    return (dot)\n",
        "            \n",
        "            \n",
        "vect_1 = [2, 5, 2, 5, 14]\n",
        "vect_2 = [5, 2, 4, 8, 10]\n",
        "\n",
        "print(\"--------------------------------------------------------\")\n",
        "print(\"Using the function created\")\n",
        "print(\"--------------------------------------------------------\")\n",
        "print(\"The inner product is: \", inner(vect_1,vect_2))\n",
        "\n",
        "print(\"--------------------------------------------------------\")\n",
        "print(\"For comparison with np.inner()\")\n",
        "print(\"--------------------------------------------------------\")\n",
        "\n",
        "vect_1 = np.array([2, 5, 2, 5, 14])\n",
        "vect_2 = np.array([5, 2, 4, 8, 10])\n",
        "\n",
        "print(\"The inner product is : \", np.inner(vect_1,vect_2))\n",
        "\n",
        "print(\"--------------------------------------------------------\")\n",
        "print(\"For comparison with @ \")\n",
        "print(\"--------------------------------------------------------\")\n",
        "print(vect_1 @ vect_2)\n",
        "\n",
        "print(\"--------------------------------------------------------\")\n",
        "print(\"For comparison with np.sum(?*?) \")\n",
        "print(\"--------------------------------------------------------\")\n",
        "np.sum(vect_1*vect_2)\n"
      ],
      "execution_count": null,
      "outputs": [
        {
          "output_type": "stream",
          "text": [
            "--------------------------------------------------------\n",
            "Using the function created\n",
            "--------------------------------------------------------\n",
            "The inner product is:  208\n",
            "--------------------------------------------------------\n",
            "For comparison with np.inner()\n",
            "--------------------------------------------------------\n",
            "The inner product is :  208\n",
            "--------------------------------------------------------\n",
            "For comparison with @ \n",
            "--------------------------------------------------------\n",
            "208\n",
            "--------------------------------------------------------\n",
            "For comparison with np.sum(?*?) \n",
            "--------------------------------------------------------\n"
          ],
          "name": "stdout"
        },
        {
          "output_type": "execute_result",
          "data": {
            "text/plain": [
              "208"
            ]
          },
          "metadata": {
            "tags": []
          },
          "execution_count": 160
        }
      ]
    },
    {
      "cell_type": "markdown",
      "metadata": {
        "id": "1yvij6t2F90h"
      },
      "source": [
        "In matrix dot products, we are going to get the sum of products of the vectors by row-column pairs. So if we have two matrices $X$ and $Y$:\r\n",
        "\r\n",
        "$$X = \\begin{bmatrix}x_{(0,0)}&x_{(0,1)}\\\\ x_{(1,0)}&x_{(1,1)}\\end{bmatrix}, Y = \\begin{bmatrix}y_{(0,0)}&y_{(0,1)}\\\\ y_{(1,0)}&y_{(1,1)}\\end{bmatrix}$$\r\n",
        "\r\n",
        "The dot product will then be computed as:\r\n",
        "$$X \\cdot Y= \\begin{bmatrix} x_{(0,0)}*y_{(0,0)} + x_{(0,1)}*y_{(1,0)} & x_{(0,0)}*y_{(0,1)} + x_{(0,1)}*y_{(1,1)} \\\\  x_{(1,0)}*y_{(0,0)} + x_{(1,1)}*y_{(1,0)} & x_{(1,0)}*y_{(0,1)} + x_{(1,1)}*y_{(1,1)}\r\n",
        "\\end{bmatrix}$$\r\n",
        "\r\n",
        "So if we assign values to $X$ and $Y$:\r\n",
        "$$X = \\begin{bmatrix}1&2\\\\0&1\\end{bmatrix}, Y = \\begin{bmatrix}-1&0\\\\ 2&2\\end{bmatrix}$$\r\n",
        "Check out:\r\n",
        "* [`np.dot`](https://numpy.org/doc/stable/reference/generated/numpy.inner.html)"
      ]
    },
    {
      "cell_type": "code",
      "metadata": {
        "id": "HdKvvQ4IF-Ep",
        "outputId": "20a23323-269b-4734-b0e3-f433762dbc55"
      },
      "source": [
        "vect_1 = np.array([2, 5, 2, 5, 14])\n",
        "vect_2 = np.array([5, 2, 4, 8, 10])\n",
        "\n",
        "np.dot(vect_1,vect_2)"
      ],
      "execution_count": null,
      "outputs": [
        {
          "output_type": "execute_result",
          "data": {
            "text/plain": [
              "208"
            ]
          },
          "metadata": {
            "tags": []
          },
          "execution_count": 161
        }
      ]
    },
    {
      "cell_type": "markdown",
      "metadata": {
        "id": "_oK1tJptGAER"
      },
      "source": [
        "In matrix dot products there are additional rules compared with vector dot products. Since vector dot products were just in one dimension, there are fewer restrictions. Since now we are dealing with Rank 2 vectors we need to consider some rules:\r\n",
        "\r\n",
        "**Rule 1: The inner dimensions of the two matrices in question must be the same.**\r\n",
        "\r\n",
        "So given a matrix $A$ with a shape of $(a,b)$ where $a$ and $b$ are any integers. If we want to do a dot product between $A$ and another matrix $B$, then matrix $B$ should have a shape of $(b,c)$ where $b$ and $c$ are any integers. So for given the following matrices:\r\n",
        "\r\n",
        "$$A = \\begin{bmatrix}2&4\\\\5&-2\\\\0&1\\end{bmatrix}, B = \\begin{bmatrix}1&1\\\\3&3\\\\-1&-2\\end{bmatrix}, C = \\begin{bmatrix}0&1&1\\\\1&1&2\\end{bmatrix}$$\r\n",
        "\r\n",
        "So in this case $A$ has a shape of $(3,2)$, $B$ has a shape of $(3,2)$ and $C$ has a shape of $(2,3)$. So the only matrix pairs that is eligible to perform dot product is matrices $A \\cdot C$, or $B \\cdot C$.  "
      ]
    },
    {
      "cell_type": "markdown",
      "metadata": {
        "id": "JxDIYsPcGF3p"
      },
      "source": [
        "$A = (n,k) , B = (k,m)$ The column space size on A or (k) in A must equal to row space size on B or (k) in B; The outer numbers would be the dimention of the new matrix after the dot product or the n x m"
      ]
    },
    {
      "cell_type": "code",
      "metadata": {
        "id": "3Q_Sxxb3kzUZ",
        "outputId": "ad19fcf7-7a30-4f69-f9d5-bb0ad79aae3f"
      },
      "source": [
        "A = np.array([\n",
        "    [3,2,1,4],\n",
        "    [4,5,1,5],\n",
        "    [1,1,0,5],\n",
        "    [1,4,2,3]          \n",
        "])\n",
        "\n",
        "B = np.array([\n",
        "    [4,1,6],\n",
        "    [4,1,9],\n",
        "    [1,4,8],\n",
        "    [2,5,1]          \n",
        "])\n",
        "\n",
        "shapeA = np.shape(A)\n",
        "shapeB = np.shape(B)\n",
        "\n",
        "print(shapeA)\n",
        "print(shapeB)\n",
        "\n",
        "CheckIfEqual = shapeA[1] == shapeB[0]\n",
        "#shapeA[1] is equal to the column space size of A\n",
        "#shapeB[0] is equal to the row space size of B\n",
        "print(CheckIfEqual)\n",
        "\n",
        "New_Matrix = A @ B\n",
        "print(New_Matrix)\n",
        "#The dimention on the New_Matrix is n x m or 4 x 3\n",
        "#Therefore n x m(from property) == 4 x 3 (from New_Matrix)"
      ],
      "execution_count": null,
      "outputs": [
        {
          "output_type": "stream",
          "text": [
            "(4, 4)\n",
            "(4, 3)\n",
            "True\n",
            "[[29 29 48]\n",
            " [47 38 82]\n",
            " [18 27 20]\n",
            " [28 28 61]]\n"
          ],
          "name": "stdout"
        }
      ]
    },
    {
      "cell_type": "markdown",
      "metadata": {
        "id": "MfSjkrITGGOZ"
      },
      "source": [
        "**Rule 2: Dot Product has special properties**\r\n",
        "\r\n",
        "Dot products are prevalent in matrix algebra, this implies that it has several unique properties and it should be considered when formulation solutions:\r\n",
        " 1. $A \\cdot B \\neq B \\cdot A$\r\n",
        " 2. $A \\cdot (B \\cdot C) = (A \\cdot B) \\cdot C$\r\n",
        " 3. $A\\cdot(B+C) = A\\cdot B + A\\cdot C$\r\n",
        " 4. $(B+C)\\cdot A = B\\cdot A + C\\cdot A$\r\n",
        " 5. $A\\cdot I = A$\r\n",
        " 6. $A\\cdot \\emptyset = \\emptyset$ "
      ]
    },
    {
      "cell_type": "markdown",
      "metadata": {
        "id": "g4dRHPVOGlig"
      },
      "source": [
        "### 1. $A \\cdot B \\neq B \\cdot A$"
      ]
    },
    {
      "cell_type": "code",
      "metadata": {
        "id": "HYsJcMwpkzUa",
        "outputId": "bdbe9e24-595d-4013-cbb4-7905dc688201"
      },
      "source": [
        "A = np.array([\n",
        "    [3,2,1,4],\n",
        "    [4,5,1,5],\n",
        "    [1,1,0,5],\n",
        "    [1,4,2,3]          \n",
        "])\n",
        "\n",
        "B = np.array([\n",
        "    [4,1,6,1],\n",
        "    [3,2,9,4],\n",
        "    [1,4,8,5],\n",
        "    [2,5,1,2]          \n",
        "])\n",
        "\n",
        "\n",
        "A @ B == B @ A"
      ],
      "execution_count": null,
      "outputs": [
        {
          "output_type": "execute_result",
          "data": {
            "text/plain": [
              "array([[False, False, False, False],\n",
              "       [False, False, False, False],\n",
              "       [False, False, False, False],\n",
              "       [False, False, False, False]])"
            ]
          },
          "metadata": {
            "tags": []
          },
          "execution_count": 163
        }
      ]
    },
    {
      "cell_type": "markdown",
      "metadata": {
        "id": "3OoC5cOskzUa"
      },
      "source": [
        "### 2. $A \\cdot (B \\cdot C) = (A \\cdot B) \\cdot C$"
      ]
    },
    {
      "cell_type": "code",
      "metadata": {
        "id": "jzhb44hFkzUa",
        "outputId": "bdfbc07a-4f88-40e2-b0ac-63d8bd71ee9d"
      },
      "source": [
        "A = np.array([\n",
        "    [3,2,1,4],\n",
        "    [4,5,1,5],\n",
        "    [1,1,0,5],\n",
        "    [1,4,2,3]          \n",
        "])\n",
        "\n",
        "B = np.array([\n",
        "    [4,1,6,1],\n",
        "    [4,1,9,4],\n",
        "    [1,4,8,5],\n",
        "    [2,5,1,2]          \n",
        "])\n",
        "\n",
        "C = np.array([\n",
        "    [1,1,0,2],\n",
        "    [0,1,1,1],\n",
        "    [1,0,1,4],\n",
        "    [1,2,4,5]          \n",
        "])\n",
        "\n",
        "A @ (B @ C) == (A @ B) @ C\n"
      ],
      "execution_count": null,
      "outputs": [
        {
          "output_type": "execute_result",
          "data": {
            "text/plain": [
              "array([[ True,  True,  True,  True],\n",
              "       [ True,  True,  True,  True],\n",
              "       [ True,  True,  True,  True],\n",
              "       [ True,  True,  True,  True]])"
            ]
          },
          "metadata": {
            "tags": []
          },
          "execution_count": 164
        }
      ]
    },
    {
      "cell_type": "markdown",
      "metadata": {
        "id": "_zl0VicFkzUb"
      },
      "source": [
        "### 3. $A\\cdot(B+C) = A\\cdot B + A\\cdot C$"
      ]
    },
    {
      "cell_type": "code",
      "metadata": {
        "id": "61u8ODfZkzUb",
        "outputId": "d39db37d-12d0-44e2-ea50-262a956dc0b8"
      },
      "source": [
        "A = np.array([\n",
        "    [3,2,1,4],\n",
        "    [4,5,1,5],\n",
        "    [1,1,0,5],\n",
        "    [1,4,2,3]          \n",
        "])\n",
        "\n",
        "B = np.array([\n",
        "    [4,1,6,1],\n",
        "    [4,1,9,4],\n",
        "    [1,4,8,5],\n",
        "    [2,5,1,2]          \n",
        "])\n",
        "\n",
        "C = np.array([\n",
        "    [1,1,0,2],\n",
        "    [0,1,1,1],\n",
        "    [1,0,1,4],\n",
        "    [1,2,4,5]          \n",
        "])\n",
        "\n",
        "A @ (B + C) == A @ B + A @ C"
      ],
      "execution_count": null,
      "outputs": [
        {
          "output_type": "execute_result",
          "data": {
            "text/plain": [
              "array([[ True,  True,  True,  True],\n",
              "       [ True,  True,  True,  True],\n",
              "       [ True,  True,  True,  True],\n",
              "       [ True,  True,  True,  True]])"
            ]
          },
          "metadata": {
            "tags": []
          },
          "execution_count": 165
        }
      ]
    },
    {
      "cell_type": "markdown",
      "metadata": {
        "id": "KdG8KRJ8kzUb"
      },
      "source": [
        "### 4. $(B+C)\\cdot A = B\\cdot A + C\\cdot A$"
      ]
    },
    {
      "cell_type": "code",
      "metadata": {
        "id": "Z3Ax0z9-kzUb",
        "outputId": "ea3f3d86-3dfc-4c8b-f78b-64936b104f1f"
      },
      "source": [
        "A = np.array([\n",
        "    [3,2,1,4],\n",
        "    [4,5,1,5],\n",
        "    [1,1,0,5],\n",
        "    [1,4,2,3]          \n",
        "])\n",
        "\n",
        "B = np.array([\n",
        "    [4,1,6,1],\n",
        "    [4,1,9,4],\n",
        "    [1,4,8,5],\n",
        "    [2,5,1,2]          \n",
        "])\n",
        "\n",
        "C = np.array([\n",
        "    [1,1,0,2],\n",
        "    [0,1,1,1],\n",
        "    [1,0,1,4],\n",
        "    [1,2,4,5]          \n",
        "])\n",
        "\n",
        "(B+C) @ A == B @ A + C @ A"
      ],
      "execution_count": null,
      "outputs": [
        {
          "output_type": "execute_result",
          "data": {
            "text/plain": [
              "array([[ True,  True,  True,  True],\n",
              "       [ True,  True,  True,  True],\n",
              "       [ True,  True,  True,  True],\n",
              "       [ True,  True,  True,  True]])"
            ]
          },
          "metadata": {
            "tags": []
          },
          "execution_count": 166
        }
      ]
    },
    {
      "cell_type": "markdown",
      "metadata": {
        "id": "AIy_vuVLkzUc"
      },
      "source": [
        "### 5. $A\\cdot I = A$"
      ]
    },
    {
      "cell_type": "code",
      "metadata": {
        "id": "wEY5CH3ckzUc",
        "outputId": "e4a9a7b6-c990-45a5-992d-b34a86cf931c"
      },
      "source": [
        "A = np.array([\n",
        "    [3,2,1,1],\n",
        "    [4,5,1,4],\n",
        "    [1,1,0,5],\n",
        "    [2,3,4,1]          \n",
        "])\n",
        "\n",
        "#np.eye(4) same as \n",
        "I = np.array([\n",
        "    [1,0,0,0],\n",
        "    [0,1,0,0],\n",
        "    [0,0,1,0],\n",
        "    [0,0,0,1]\n",
        "\n",
        "])\n",
        "\n",
        "A @ I #Same with I @ A\n",
        "A\n",
        "\n",
        "A @ I == A"
      ],
      "execution_count": null,
      "outputs": [
        {
          "output_type": "execute_result",
          "data": {
            "text/plain": [
              "array([[ True,  True,  True,  True],\n",
              "       [ True,  True,  True,  True],\n",
              "       [ True,  True,  True,  True],\n",
              "       [ True,  True,  True,  True]])"
            ]
          },
          "metadata": {
            "tags": []
          },
          "execution_count": 167
        }
      ]
    },
    {
      "cell_type": "markdown",
      "metadata": {
        "id": "azY90e5kkzUc"
      },
      "source": [
        "### 6. $A\\cdot \\emptyset = \\emptyset$ "
      ]
    },
    {
      "cell_type": "code",
      "metadata": {
        "id": "30ATDnqnkzUd",
        "outputId": "fef6a0cf-f1b5-47f2-897e-c676ed543556"
      },
      "source": [
        "\n",
        "\n",
        "A = np.array([\n",
        "    [3,2,1,3],\n",
        "    [4,5,1,3],\n",
        "    [1,1,0,1],\n",
        "    [3,5,1,4]          \n",
        "])\n",
        "\n",
        "emptyset = np.full((4,4),0)\n",
        "\n",
        "\n",
        "A @ emptyset == emptyset"
      ],
      "execution_count": null,
      "outputs": [
        {
          "output_type": "execute_result",
          "data": {
            "text/plain": [
              "array([[ True,  True,  True,  True],\n",
              "       [ True,  True,  True,  True],\n",
              "       [ True,  True,  True,  True],\n",
              "       [ True,  True,  True,  True]])"
            ]
          },
          "metadata": {
            "tags": []
          },
          "execution_count": 168
        }
      ]
    },
    {
      "cell_type": "markdown",
      "metadata": {
        "id": "IMysYX4QGiuQ"
      },
      "source": [
        "## Determinants\r\n",
        "A determinant is a scalar value derived from a square matrix. The determinant is a fundamental and important value used in matrix algebra. \r\n",
        "\r\n",
        "The determinant of some matrix $A$ is denoted as $det(A)$ or $|A|$. So let's say $A$ is represented as:\r\n",
        "$$A = \\begin{bmatrix}a_{(0,0)}&a_{(0,1)}\\\\a_{(1,0)}&a_{(1,1)}\\end{bmatrix}$$\r\n",
        "We can compute for the determinant as:\r\n",
        "$$|A| = a_{(0,0)}*a_{(1,1)} - a_{(1,0)}*a_{(0,1)}$$\r\n",
        "So if we have $A$ as:\r\n",
        "$$A = \\begin{bmatrix}1&4\\\\0&3\\end{bmatrix}, |A| = 3$$\r\n",
        "\r\n",
        "But you might wonder how about square matrices beyond the shape $(2,2)$? We can approach this problem by using several methods such as co-factor expansion and the minors method. This can be taught in the lecture of the laboratory but we can achieve the strenuous computation of high-dimensional matrices programmatically using Python. We can achieve this by using [`np.linalg.det`](https://numpy.org/doc/stable/reference/generated/numpy.linalg.det.html)."
      ]
    },
    {
      "cell_type": "code",
      "metadata": {
        "id": "HBtTgE9XkzUd",
        "outputId": "e566b25b-d59e-43b8-d8d5-c2f6fbd3fc27"
      },
      "source": [
        "## Determines the squareness, linearity, and linear dependence of your matrix or equation\n",
        "\n",
        "X = np.array([\n",
        "    [3,6],\n",
        "    [4,2]\n",
        "])\n",
        "\n",
        "det_X = np.linalg.det(X)\n",
        "det_X"
      ],
      "execution_count": null,
      "outputs": [
        {
          "output_type": "execute_result",
          "data": {
            "text/plain": [
              "-17.999999999999996"
            ]
          },
          "metadata": {
            "tags": []
          },
          "execution_count": 169
        }
      ]
    },
    {
      "cell_type": "markdown",
      "metadata": {
        "id": "7j3EPb9ZGsdI"
      },
      "source": [
        "## 2.6 Matrix Inverse\r\n",
        "\r\n",
        "The inverse of a matrix is another fundamental operation in matrix algebra. Determining the inverse of a matrix let us determine if its solvability and its characteristic as a system of linear equation. Another use of the inverse matrix is solving the problem of divisibility between matrices. Although element-wise division exist but dividing the entire concept of matrices does not exists. Inverse matrices provide a related operation that could have the same concept of \"dividing\" matrices.\r\n",
        "\r\n",
        "Now to determine the inverse of a matrix we need to perform several steps. So let's say we have a matrix $M$:\r\n",
        "$$M = \\begin{bmatrix}1&7\\\\-3&5\\end{bmatrix}$$\r\n",
        "First, we need to get the determinant of $M$.\r\n",
        "$$|M| = (1)(5)-(-3)(7) = 26$$\r\n",
        "Next, we need to reform the matrix into the inverse form:\r\n",
        "$$M^{-1} = \\frac{1}{|M|} \\begin{bmatrix} m_{(1,1)} & -m_{(0,1)} \\\\ -m_{(1,0)} & m_{(0,0)}\\end{bmatrix}$$\r\n",
        "So that will be:\r\n",
        "$$M^{-1} = \\frac{1}{26} \\begin{bmatrix} 5 & -7 \\\\ 3 & 1\\end{bmatrix} = \\begin{bmatrix} \\frac{5}{26} & \\frac{-7}{26} \\\\ \\frac{3}{26} & \\frac{1}{26}\\end{bmatrix}$$\r\n",
        "For higher-dimension matrices, you might need to use co-factors, minors, adjugates, and other reduction techniques. To solve this programmatically we can use [`np.linalg.inv`](https://numpy.org/doc/stable/reference/generated/numpy.linalg.inv.html).\r\n",
        "\r\n",
        "To validate the wether if the matric that you have solved is really the inverse, we follow this dot product property for a matrix $M$:\r\n",
        "$$M\\cdot M^{-1} = I$$"
      ]
    },
    {
      "cell_type": "code",
      "metadata": {
        "id": "no8zVYLmGuJ9",
        "outputId": "39eb91ed-0e7c-409c-b70b-130901a4ab14"
      },
      "source": [
        "M = np.array([\n",
        "    [3,4],\n",
        "    [5,1]\n",
        "])\n",
        "\n",
        "M_inv = np.linalg.inv(M)\n",
        "print(M_inv)\n",
        "\n",
        "# To check\n",
        "M @ M_inv # It means its correct since it yields to relatively small number"
      ],
      "execution_count": null,
      "outputs": [
        {
          "output_type": "stream",
          "text": [
            "[[-0.05882353  0.23529412]\n",
            " [ 0.29411765 -0.17647059]]\n"
          ],
          "name": "stdout"
        },
        {
          "output_type": "execute_result",
          "data": {
            "text/plain": [
              "array([[ 1.00000000e+00, -2.22044605e-16],\n",
              "       [ 0.00000000e+00,  1.00000000e+00]])"
            ]
          },
          "metadata": {
            "tags": []
          },
          "execution_count": 170
        }
      ]
    },
    {
      "cell_type": "markdown",
      "metadata": {
        "id": "hmNLmGPvGuig"
      },
      "source": [
        "# System of Linear Equations\r\n",
        "\r\n",
        "Solving linear equations is one of the fundamental skills of higher engineering mathematics. Aside from solving them, we must be skilled enough to spot them in the wild as well.\r\n",
        "\r\n",
        "Given an equation:\r\n",
        "$$\r\n",
        "B = \\left\\{\r\n",
        "    \\begin{array}\\\\\r\n",
        "        x+y+z=1\\\\ \r\n",
        "        3x -2y -z=4 \\\\\r\n",
        "        -x + 4y +2z=-3\r\n",
        "    \\end{array}\r\n",
        "\\right. $$\r\n",
        "\r\n",
        "We can represent it in matrix form considering the linear combination of the equations. We can also think of its dot product form:\r\n",
        "$$\r\n",
        "\\begin{bmatrix}1&1&1\\\\3&-2&-1\\\\-1&4&2\\end{bmatrix} \\cdot \\begin{bmatrix}x\\\\ y\\\\ z\\end{bmatrix} = \\begin{bmatrix}1\\\\4\\\\-3\\end{bmatrix}\r\n",
        "$$\r\n",
        "We can make a general form for this equation by putting our matrices and vectors as variables. So let's say that the matrix $\\begin{bmatrix}1&1&1\\\\3&-2&-1\\\\-1&4&2\\end{bmatrix}$ is $X$ and $\\begin{bmatrix}x\\\\ y\\\\ z\\end{bmatrix} = \\begin{bmatrix}x\\\\y\\\\z\\end{bmatrix}$ is the vector $r$ then the answer $\\begin{bmatrix}1\\\\4\\\\-3\\end{bmatrix}$ as $Y$. So we'll have:\r\n",
        "$$\r\n",
        "X r = Y\r\n",
        "$$\r\n",
        "Our goal is to solve for $r$ so we can solve it algebraically by multiplying both sides with the inverse of $X$, so we'll get:\r\n",
        "$$\r\n",
        "X^{-1}X r = X^{-1}Y\\\\\r\n",
        "Ir = X^{-1}Y\\\\\r\n",
        "r = X^{-1}Y\r\n",
        "$$\r\n",
        "We'll take $r = X^{-1}Y$ as the $\\textbf{vectorized}$ equation as our formula in solving for the vector $r$ or simply solving for $x,y,$and$z$. We can then code that as:"
      ]
    },
    {
      "cell_type": "markdown",
      "metadata": {
        "id": "GzoKTOWMG8Hh"
      },
      "source": [
        "So given an equation: $$ A = \\left\\{ \\begin{array}\\\\ 6a+4b+3c=30000\\\\ 2a+2b+3c=18000\\\\ 4a+2b+1c=15000\\\\ \\end{array} \\right. $$"
      ]
    },
    {
      "cell_type": "code",
      "metadata": {
        "id": "zgjavVF5kzUf",
        "outputId": "fb8eb627-5a87-44a0-c5b5-ddb986a3ee60"
      },
      "source": [
        "quantities = np.array([\n",
        "    [6,4,3],\n",
        "    [2,2,3],\n",
        "    [4,2,1]\n",
        "])\n",
        "cost = np.array([\n",
        "    [30000],\n",
        "    [18000],\n",
        "    [15000]\n",
        "])\n",
        "\n",
        "prices = np.linalg.inv(quantities) @ cost \n",
        "\n",
        "print('The price of first item is: PHP {:.2f}'.format(float(prices[0])))\n",
        "print('The price of 2nd item: PHP {:.2f}'.format(float(prices[1])))\n",
        "print('The price of third item: PHP {:.2f}'.format(float(prices[2])))"
      ],
      "execution_count": null,
      "outputs": [
        {
          "output_type": "stream",
          "text": [
            "The price of first item is: PHP 1500.00\n",
            "The price of 2nd item: PHP 3000.00\n",
            "The price of third item: PHP 3000.00\n"
          ],
          "name": "stdout"
        }
      ]
    },
    {
      "cell_type": "markdown",
      "metadata": {
        "id": "h9cOTHv2IpS4"
      },
      "source": [
        "### Visualizing Vectors\r\n",
        "\r\n",
        "So far I know you have been experiencing mathematical exhaustion due to all these mathematical expressions. Allow me to show you a tad more interesting side of Linear Algebra.\r\n",
        "\r\n",
        "Undoubtedly, one of the most interesting and frustrating parts of Data Analysts and Data Scientist is visualizing data. Although we will be visualizing more on matrices and tensors. So, bear with me here and I'll try to spark a bit of interest in you guys. "
      ]
    },
    {
      "cell_type": "code",
      "metadata": {
        "id": "Q2hEQblFIsAo"
      },
      "source": [
        "### If you haven't installed it use:\r\n",
        "#!pip install matplotlib\r\n",
        "\r\n",
        "import matplotlib.pyplot as plt"
      ],
      "execution_count": null,
      "outputs": []
    },
    {
      "cell_type": "markdown",
      "metadata": {
        "id": "yTjmJzzfItuQ"
      },
      "source": [
        "#### <i>2D Cartersian Plots</i>\r\n",
        "Check out:\r\n",
        "* [`matplotlib.pyplot.xlim`](https://matplotlib.org/3.3.3/api/_as_gen/matplotlib.pyplot.xlim.html)\r\n",
        "* [`matplotlib.pyplot.ylim`](https://matplotlib.org/3.3.3/api/_as_gen/matplotlib.pyplot.ylim.html)\r\n",
        "* [`matplotlib.pyplot.quiver`](https://matplotlib.org/3.3.3/api/_as_gen/matplotlib.pyplot.quiver.html)\r\n",
        "* [`matplotlib.pyplot.grid`](https://matplotlib.org/3.3.3/api/_as_gen/matplotlib.pyplot.grid.html)\r\n",
        "* [`matplotlib.pyplot.show`](https://matplotlib.org/3.3.3/api/_as_gen/matplotlib.pyplot.show.html)"
      ]
    },
    {
      "cell_type": "code",
      "metadata": {
        "id": "hg52Q9AKIvbI",
        "outputId": "7a19993a-11fc-4473-a0de-8a7e7c22d945"
      },
      "source": [
        "A = np.array([4, 3])\r\n",
        "B = np.array([2, -5])\r\n",
        "\r\n",
        "# plt.xlim(-15, 15)\r\n",
        "# plt.ylim(-15, 15)\r\n",
        "plt.quiver(0,0, A[0], A[1], angles='xy', scale_units='xy',scale=1, color='red') # Red --> A\r\n",
        "plt.quiver(A[0], A[1], B[0], B[1], angles='xy', scale_units='xy',scale=1, color='b') # Blue --> B\r\n",
        "R = A + B\r\n",
        "print(R)\r\n",
        "\r\n",
        "# plt.grid()\r\n",
        "# plt.show()\r\n"
      ],
      "execution_count": null,
      "outputs": [
        {
          "output_type": "stream",
          "text": [
            "[ 6 -2]\n"
          ],
          "name": "stdout"
        },
        {
          "output_type": "display_data",
          "data": {
            "image/png": "[encoded data removed]",
            "text/plain": [
              "<Figure size 432x288 with 1 Axes>"
            ]
          },
          "metadata": {
            "tags": [],
            "needs_background": "light"
          }
        }
      ]
    },
    {
      "cell_type": "markdown",
      "metadata": {
        "id": "06hJJe31I85Y"
      },
      "source": [
        "## Practice 1: Modulus of a Vector\r\n",
        "The modulus of a vector or the magnitude of a vector can be determined using the Pythagorean theorem. Given the vector $A$ and its scalars denoted as $a_n$ where $n$ is the index of the scalar. So if we have:\r\n",
        "$$A = \\begin{bmatrix}1\\\\2\\end{bmatrix}$$\r\n",
        "We can compute the magnitude as:\r\n",
        "$$||A|| = \\sqrt{a_1^2 + a_2^2} = \\sqrt{1^2 + 2^2} = \\sqrt{5}$$\r\n",
        "So if we have a matrix with more parameters such as:\r\n",
        "$$B=\\begin{bmatrix}2\\\\5\\\\-1\\\\0\\end{bmatrix}$$\r\n",
        "We can generalize the Pythagorean theorem to compute for the magnitude as:\r\n",
        "$$||B|| = \\sqrt{b_1^2 + b_2^2 + b_3^2 + ... +b_n^2} = \\sqrt{\\sum_{n=1}^{N}b_n^2}$$\r\n",
        "And this equation is now called a Euclidian distance or the Euclidean Norm. "
      ]
    },
    {
      "cell_type": "markdown",
      "metadata": {
        "id": "iIfj8pzOkzUg"
      },
      "source": [
        "### Code Time:"
      ]
    },
    {
      "cell_type": "code",
      "metadata": {
        "id": "DEoaj5tdkzUg"
      },
      "source": [
        "import math"
      ],
      "execution_count": null,
      "outputs": []
    },
    {
      "cell_type": "code",
      "metadata": {
        "id": "evLYDA2dI9XQ",
        "outputId": "c0fa70cb-2573-4ab8-96e7-956610f5cc7a"
      },
      "source": [
        "def modulus(vec):\n",
        "    raisesum = 0\n",
        "    for element in range(len(vec)):  # Accesing the values \n",
        "        raisesum += vec[element] **2 # raising each number to 2\n",
        "        sqr = math.sqrt(raisesum)    # Squaring \n",
        "    return(sqr)    \n",
        "\n",
        "vect1 = [2, 5, 2, 5, 14] #These are the values of vectors\n",
        "print(\"Vector's magnitude for vect1 = \", modulus(vect1))"
      ],
      "execution_count": null,
      "outputs": [
        {
          "output_type": "stream",
          "text": [
            "Vector's magnitude for vect1 =  15.937377450509228\n"
          ],
          "name": "stdout"
        }
      ]
    },
    {
      "cell_type": "markdown",
      "metadata": {
        "id": "Lt1uJVHAkzUh"
      },
      "source": [
        "### About the code\n",
        "\n",
        "The function above calculated the magnitude of the vector with 5 elements. The variable ‘raisesum’ was set to 0 so that the assignment of this variable is possible at the same time that it was used as referenced. A loop statement was created to access every element inside the vector created and inside this loop statement are the operations that will compute the modulus. The operations include the summation of the squared elements from the vectors. The sum of these elements was assigned to the ‘raisesum’ variable and the square root of this was assigned to ‘sqr’ which was returned afterward and printed."
      ]
    },
    {
      "cell_type": "markdown",
      "metadata": {
        "id": "BrzGwH5cI-Aw"
      },
      "source": [
        "## Practice 2: The Sigmoid\r\n",
        "The sigmoid function is one of the popular Activation Functions which we will discuss later on. The sigmoid is a bounded, differentiable, real function in which its range would be any value from 0 to 1. It is widely used in binary classifications.\r\n",
        "![image](https://upload.wikimedia.org/wikipedia/commons/thumb/8/88/Logistic-curve.svg/1200px-Logistic-curve.svg.png)\r\n",
        "If we were to check the equation characterizing this curve in textbooks or journals it would be:\r\n",
        "$$sig(x)=\\frac{1}{1+e^{-x}}$$\r\n",
        "or\r\n",
        "$$\\sigma(x)=\\frac{1}{1+e^{-x}}$$\r\n",
        "So let's try to translate this in NumPy. You might want to use [`numpy.exp`](https://numpy.org/doc/stable/reference/generated/numpy.exp.html) for this function. <br>\r\n",
        "If you want to read more about the sigmoid function click [here](https://medium.com/@himanshuxd/activation-functions-sigmoid-relu-leaky-relu-and-softmax-basics-for-neural-networks-and-deep-8d9c70eed91e)."
      ]
    },
    {
      "cell_type": "markdown",
      "metadata": {
        "id": "yphkQaf4kzUh"
      },
      "source": [
        "### Code Time:"
      ]
    },
    {
      "cell_type": "markdown",
      "metadata": {
        "id": "JQwEvdcckzUi"
      },
      "source": [
        "### Standard Function"
      ]
    },
    {
      "cell_type": "code",
      "metadata": {
        "id": "4UTUaj1pJAH3",
        "outputId": "e9c78c1f-0dab-47b0-c1bd-95f1276d5eab"
      },
      "source": [
        "def Sigmoid(x):\n",
        "    return 1/(1 + np.exp(-x)) # Transformed equation\n",
        "Sigmoid(3)                    # Using the function\n"
      ],
      "execution_count": null,
      "outputs": [
        {
          "output_type": "execute_result",
          "data": {
            "text/plain": [
              "0.9525741268224334"
            ]
          },
          "metadata": {
            "tags": []
          },
          "execution_count": 176
        }
      ]
    },
    {
      "cell_type": "markdown",
      "metadata": {
        "id": "Mq2N5xBgkzUi"
      },
      "source": [
        "### Lambda Function"
      ]
    },
    {
      "cell_type": "code",
      "metadata": {
        "id": "gKDHazmpkzUj",
        "outputId": "f4d8f340-5846-4622-8e2a-6a66e1381a67"
      },
      "source": [
        "x =  3\n",
        "s = lambda x: 1/(1 + np.exp(-x))\n",
        "print(s(x))"
      ],
      "execution_count": null,
      "outputs": [
        {
          "output_type": "stream",
          "text": [
            "0.9525741268224334\n"
          ],
          "name": "stdout"
        }
      ]
    },
    {
      "cell_type": "markdown",
      "metadata": {
        "id": "QKEF_aT0kzUk"
      },
      "source": [
        "### About the code\n",
        "\n",
        "The equation of sigmoid was transformed into standard and lambda function. The standard function was used by calling the function with values '3' as its argument that passed into the function as its parameter and returns the result of the equation. Meanwhile, the lambda function is the more optimized version of the standard function since the declaration of a function is not needed but still does the job the same as with the standard function."
      ]
    }
  ]
}