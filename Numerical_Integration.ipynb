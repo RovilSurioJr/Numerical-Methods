{
  "nbformat": 4,
  "nbformat_minor": 0,
  "metadata": {
    "colab": {
      "name": "Numerical Integration.ipynb",
      "provenance": [],
      "collapsed_sections": [],
      "include_colab_link": true
    },
    "kernelspec": {
      "name": "python3",
      "display_name": "Python 3"
    },
    "language_info": {
      "name": "python"
    }
  },
  "cells": [
    {
      "cell_type": "markdown",
      "metadata": {
        "id": "view-in-github",
        "colab_type": "text"
      },
      "source": [
        "<a href=\"https://colab.research.google.com/github/RovilSurioJr/Numerical-Methods/blob/master/Numerical_Integration.ipynb\" target=\"_parent\"><img src=\"https://colab.research.google.com/assets/colab-badge.svg\" alt=\"Open In Colab\"/></a>"
      ]
    },
    {
      "cell_type": "markdown",
      "metadata": {
        "id": "kNcFheeHysIU"
      },
      "source": [
        "# Numerical Integration\n",
        "$_{\\text{©L.A. Guy ©R.Surio ©M.A. Sustento ©T.J. Vallarta  | 2021 | Computational Methods for Computer Engineers}}$\n",
        "\n",
        "In this module, we will learn how numerical integration works and how you can solve them computationally using Python and compare each different integration rule by computing the error it produced. We will also cover the numerical integration functions implemented in scipy. This module will cover:\n",
        "\n",
        "* Scipy Quad Function\n",
        "* Scipy Romberg Function\n",
        "* Trapezoidal Rule\n",
        "* Simpson's 1/3 Integration Rule\n",
        "* Simpson's 3/8 Integration Rule\n",
        "* Monte Carlo Simulations/Integration\n",
        "* Law of Big numbers"
      ]
    },
    {
      "cell_type": "code",
      "metadata": {
        "id": "k1nVHgRBzVsn"
      },
      "source": [
        "import numpy as np\n",
        "from scipy.integrate import quad\n",
        "from scipy.integrate import dblquad\n",
        "from scipy.integrate import trapz\n",
        "from scipy.integrate import romberg"
      ],
      "execution_count": 434,
      "outputs": []
    },
    {
      "cell_type": "markdown",
      "metadata": {
        "id": "E8rN0Cgx0bts"
      },
      "source": [
        "## PART 1"
      ]
    },
    {
      "cell_type": "markdown",
      "metadata": {
        "id": "4pSefntukgSl"
      },
      "source": [
        "### SciPy Quad Function"
      ]
    },
    {
      "cell_type": "markdown",
      "metadata": {
        "id": "wC42DUcYkod3"
      },
      "source": [
        "The quad function computes for the definite integral. This function utilizes the QUADPACK from the Fortran library [1]. The QUADPACK estimates the integrals using the numerical quadrature [2]. The quad function performs the following:\n",
        "$$\\int^b_af(x)dx$$"
      ]
    },
    {
      "cell_type": "code",
      "metadata": {
        "id": "MNkRG6K1yiVJ"
      },
      "source": [
        "f1 = lambda x: x**5 + 5*x**4 + 3*x**3 + 2*x + 5 \n",
        "lb = 0\n",
        "ub = 5"
      ],
      "execution_count": 435,
      "outputs": []
    },
    {
      "cell_type": "code",
      "metadata": {
        "colab": {
          "base_uri": "https://localhost:8080/"
        },
        "id": "72dbNepTzZon",
        "outputId": "cd6e7f2e-b531-4b88-ddb7-ef6f781b7bfd"
      },
      "source": [
        "quad(f1,lb,ub)"
      ],
      "execution_count": 436,
      "outputs": [
        {
          "output_type": "execute_result",
          "data": {
            "text/plain": [
              "(6247.916666666668, 6.936580939272593e-11)"
            ]
          },
          "metadata": {
            "tags": []
          },
          "execution_count": 436
        }
      ]
    },
    {
      "cell_type": "code",
      "metadata": {
        "id": "VshPfEQdopfD"
      },
      "source": [
        "f2 = lambda x: np.cos(x)*np.sin(x) \n",
        "lb = 0\n",
        "ub = np.pi/4"
      ],
      "execution_count": 437,
      "outputs": []
    },
    {
      "cell_type": "code",
      "metadata": {
        "colab": {
          "base_uri": "https://localhost:8080/"
        },
        "id": "k7LxaDSyowwW",
        "outputId": "e92d29b0-c164-4419-821b-e44bc3dfaeb2"
      },
      "source": [
        "quad(f2,lb,ub)"
      ],
      "execution_count": 438,
      "outputs": [
        {
          "output_type": "execute_result",
          "data": {
            "text/plain": [
              "(0.24999999999999997, 2.775557561562891e-15)"
            ]
          },
          "metadata": {
            "tags": []
          },
          "execution_count": 438
        }
      ]
    },
    {
      "cell_type": "code",
      "metadata": {
        "id": "di7N6Hmio5yE"
      },
      "source": [
        "f3 = lambda x: 1/(x*(np.log(x)))\n",
        "lb = 2\n",
        "ub = 3"
      ],
      "execution_count": 439,
      "outputs": []
    },
    {
      "cell_type": "code",
      "metadata": {
        "colab": {
          "base_uri": "https://localhost:8080/"
        },
        "id": "tqXpjDUWpFE1",
        "outputId": "1467c18d-513e-464e-f93e-4e466569e288"
      },
      "source": [
        "quad(f3,lb,ub)"
      ],
      "execution_count": 440,
      "outputs": [
        {
          "output_type": "execute_result",
          "data": {
            "text/plain": [
              "(0.4605607481983634, 5.113251468884121e-15)"
            ]
          },
          "metadata": {
            "tags": []
          },
          "execution_count": 440
        }
      ]
    },
    {
      "cell_type": "code",
      "metadata": {
        "id": "GJr5_uQXwS7t"
      },
      "source": [
        "f4 = lambda x: x**6 + 2*x\n",
        "lb = -1\n",
        "ub = 0"
      ],
      "execution_count": 441,
      "outputs": []
    },
    {
      "cell_type": "code",
      "metadata": {
        "colab": {
          "base_uri": "https://localhost:8080/"
        },
        "id": "udMZEb_twWHj",
        "outputId": "7136bce6-76d3-445d-a139-3612a8987804"
      },
      "source": [
        "quad(f4,lb,ub)"
      ],
      "execution_count": 442,
      "outputs": [
        {
          "output_type": "execute_result",
          "data": {
            "text/plain": [
              "(-0.8571428571428572, 9.516197353929914e-15)"
            ]
          },
          "metadata": {
            "tags": []
          },
          "execution_count": 442
        }
      ]
    },
    {
      "cell_type": "code",
      "metadata": {
        "id": "-0zGeH9Awbcu"
      },
      "source": [
        "f5 = lambda x: np.sin(x**2)+2*np.sin(x)\n",
        "lb = 0\n",
        "ub = np.pi"
      ],
      "execution_count": 443,
      "outputs": []
    },
    {
      "cell_type": "code",
      "metadata": {
        "colab": {
          "base_uri": "https://localhost:8080/"
        },
        "id": "aIJa3od0wjEy",
        "outputId": "51795de6-68d5-4045-ea8a-ba66aaf90ba0"
      },
      "source": [
        "quad(f5,lb,ub)"
      ],
      "execution_count": 444,
      "outputs": [
        {
          "output_type": "execute_result",
          "data": {
            "text/plain": [
              "(4.772651712690067, 1.7562330009932296e-12)"
            ]
          },
          "metadata": {
            "tags": []
          },
          "execution_count": 444
        }
      ]
    },
    {
      "cell_type": "code",
      "metadata": {
        "id": "xaUT0G15wmLK"
      },
      "source": [
        "f6 = lambda x: np.log(2*x)\n",
        "lb = 2\n",
        "ub = 5"
      ],
      "execution_count": 445,
      "outputs": []
    },
    {
      "cell_type": "code",
      "metadata": {
        "colab": {
          "base_uri": "https://localhost:8080/"
        },
        "id": "Ptoots3YwtLQ",
        "outputId": "d26eed35-eb34-403c-dfcd-85a9a5b47feb"
      },
      "source": [
        "quad(f6,lb,ub)"
      ],
      "execution_count": 446,
      "outputs": [
        {
          "output_type": "execute_result",
          "data": {
            "text/plain": [
              "(5.740336742730447, 6.373054020881115e-14)"
            ]
          },
          "metadata": {
            "tags": []
          },
          "execution_count": 446
        }
      ]
    },
    {
      "cell_type": "code",
      "metadata": {
        "id": "Frc4CFbdzxN6"
      },
      "source": [
        ""
      ],
      "execution_count": 446,
      "outputs": []
    },
    {
      "cell_type": "markdown",
      "metadata": {
        "id": "8uBGmLspiTxK"
      },
      "source": [
        "### Scipy Romberg Function\n"
      ]
    },
    {
      "cell_type": "markdown",
      "metadata": {
        "id": "ma2vw8gKiaqh"
      },
      "source": [
        "The Romberg function of SciPy follows the Romberg Integration theory. The Romberg integration theory uses the Trapezoidal formula multiple times to get a better result. The Romberg combines the first trapezoidal application with one trapezoid and combines it with another trapezoidal application but this time uses two trapezoids and combines the result. The number of trapezoids used for each iteration increases by $ 2^n$. The combinations of the trapezoids will also be combined which will make the result more desirable. To further understand the concept, look at the illustration of the Romberg Integration:\n",
        "![image](https://miro.medium.com/max/1286/1*haJeX57EYzB68sCahttRsA.png)"
      ]
    },
    {
      "cell_type": "code",
      "metadata": {
        "id": "5sYh9iNmejqU"
      },
      "source": [
        "romberg_error = []"
      ],
      "execution_count": 447,
      "outputs": []
    },
    {
      "cell_type": "code",
      "metadata": {
        "colab": {
          "base_uri": "https://localhost:8080/"
        },
        "id": "8DAFl3qFfSBQ",
        "outputId": "83804ad7-6047-4e5f-d7a3-b5c68c06ebc3"
      },
      "source": [
        "f1 = lambda x: x**5 + 5*x**4 + 3*x**3 + 2*x + 5 \n",
        "lb = 0\n",
        "ub = 5\n",
        "S = romberg(f1,lb,ub)\n",
        "print(S)\n",
        "err = abs(6247.916-S)\n",
        "romberg_error.append(err)\n",
        "err"
      ],
      "execution_count": 448,
      "outputs": [
        {
          "output_type": "stream",
          "text": [
            "6247.916666666667\n"
          ],
          "name": "stdout"
        },
        {
          "output_type": "execute_result",
          "data": {
            "text/plain": [
              "0.0006666666668024845"
            ]
          },
          "metadata": {
            "tags": []
          },
          "execution_count": 448
        }
      ]
    },
    {
      "cell_type": "code",
      "metadata": {
        "colab": {
          "base_uri": "https://localhost:8080/"
        },
        "id": "VeUd62AAjpvc",
        "outputId": "c0b36cb1-e890-4998-efd9-260368b15ebb"
      },
      "source": [
        "f2 = lambda x: x**6 + 2*x\n",
        "lb = -1\n",
        "ub = 0\n",
        "S = romberg(f2,lb,ub)\n",
        "print(S)\n",
        "err = abs(-0.857-S)\n",
        "romberg_error.append(err)\n",
        "print(err)"
      ],
      "execution_count": 449,
      "outputs": [
        {
          "output_type": "stream",
          "text": [
            "-0.8571428571428571\n",
            "0.00014285714285711126\n"
          ],
          "name": "stdout"
        }
      ]
    },
    {
      "cell_type": "code",
      "metadata": {
        "colab": {
          "base_uri": "https://localhost:8080/"
        },
        "id": "FUpIENDKpLbw",
        "outputId": "059bb91f-59ef-4c6b-d50a-8a4a8ded2497"
      },
      "source": [
        "f3 = lambda x: 1/(x*(np.log(x)))\n",
        "lb = 2\n",
        "ub = 3\n",
        "S = romberg(f3,lb,ub)\n",
        "print(S)\n",
        "err = abs(0.460-S)\n",
        "romberg_error.append(err)\n",
        "err"
      ],
      "execution_count": 450,
      "outputs": [
        {
          "output_type": "stream",
          "text": [
            "0.46056074820071424\n"
          ],
          "name": "stdout"
        },
        {
          "output_type": "execute_result",
          "data": {
            "text/plain": [
              "0.0005607482007142228"
            ]
          },
          "metadata": {
            "tags": []
          },
          "execution_count": 450
        }
      ]
    },
    {
      "cell_type": "code",
      "metadata": {
        "id": "_1ppVzg10k7k",
        "colab": {
          "base_uri": "https://localhost:8080/"
        },
        "outputId": "9e1d582d-3e23-424d-f839-36ba78c9a283"
      },
      "source": [
        "f4 = lambda x: np.log(2*x)\n",
        "lb = 2\n",
        "ub = 5\n",
        "S = romberg(f4,lb,ub)\n",
        "print(S)\n",
        "err = abs(5.74-S)\n",
        "romberg_error.append(err)\n",
        "\n",
        "err"
      ],
      "execution_count": 451,
      "outputs": [
        {
          "output_type": "stream",
          "text": [
            "5.740336742706072\n"
          ],
          "name": "stdout"
        },
        {
          "output_type": "execute_result",
          "data": {
            "text/plain": [
              "0.0003367427060716466"
            ]
          },
          "metadata": {
            "tags": []
          },
          "execution_count": 451
        }
      ]
    },
    {
      "cell_type": "code",
      "metadata": {
        "id": "ti-zR_UM9xIc",
        "colab": {
          "base_uri": "https://localhost:8080/"
        },
        "outputId": "a630193c-7dbf-41b1-b67b-cd057d7a068c"
      },
      "source": [
        "f5 = lambda x: np.cos(x)*np.sin(x)\n",
        "lb = 0\n",
        "ub = np.pi/4\n",
        "S = romberg(f5,lb,ub)\n",
        "print(S)\n",
        "err = abs(0.25-S)\n",
        "romberg_error.append(err)\n",
        "\n",
        "err"
      ],
      "execution_count": 452,
      "outputs": [
        {
          "output_type": "stream",
          "text": [
            "0.24999999999950429\n"
          ],
          "name": "stdout"
        },
        {
          "output_type": "execute_result",
          "data": {
            "text/plain": [
              "4.957145804951324e-13"
            ]
          },
          "metadata": {
            "tags": []
          },
          "execution_count": 452
        }
      ]
    },
    {
      "cell_type": "code",
      "metadata": {
        "colab": {
          "base_uri": "https://localhost:8080/"
        },
        "id": "bLRkX3V3es4q",
        "outputId": "e64359f0-1e83-42fc-d6d5-45f1ac12a1d5"
      },
      "source": [
        "f6 = lambda x: np.sin(x**2)+2*np.sin(x)\n",
        "lb = 0\n",
        "ub = np.pi\n",
        "S = romberg(f6,lb,ub)\n",
        "print(S)\n",
        "err = abs(4.772-S)\n",
        "romberg_error.append(err)\n",
        "print(err)"
      ],
      "execution_count": 453,
      "outputs": [
        {
          "output_type": "stream",
          "text": [
            "4.77265171261761\n",
            "0.0006517126176097676\n"
          ],
          "name": "stdout"
        }
      ]
    },
    {
      "cell_type": "code",
      "metadata": {
        "colab": {
          "base_uri": "https://localhost:8080/"
        },
        "id": "LCvoF8hnetj3",
        "outputId": "32962eb2-e4f4-4a51-c54a-e1f11ad657bb"
      },
      "source": [
        "romberg_error"
      ],
      "execution_count": 454,
      "outputs": [
        {
          "output_type": "execute_result",
          "data": {
            "text/plain": [
              "[0.0006666666668024845,\n",
              " 0.00014285714285711126,\n",
              " 0.0005607482007142228,\n",
              " 0.0003367427060716466,\n",
              " 4.957145804951324e-13,\n",
              " 0.0006517126176097676]"
            ]
          },
          "metadata": {
            "tags": []
          },
          "execution_count": 454
        }
      ]
    },
    {
      "cell_type": "markdown",
      "metadata": {
        "id": "mA0_fRDx5Jwq"
      },
      "source": [
        "## PART 2"
      ]
    },
    {
      "cell_type": "markdown",
      "metadata": {
        "id": "wvd7hOj05eo1"
      },
      "source": [
        "The equation the will be used are:\n",
        "$$\\int^{5}_0x^5 - 5x^4 +3x^3 + 2x + 5dx = 6247.916  \\\\ _{\\text{(Higher Order Polynomial)}}$$ $$ \\int^{0}_{-1}x^6 + 2xdx = -0.857 \\\\ _{\\text{(Higher Order Polynomial)}} $$ and $$\\int^{3}_{2}\\frac{1}{xlog_{10}x}dx = 0.460 \\\\ _{\\text{(Logarithmic Function)}}$$ $$ \\int^{5}_{2} log_{10}2xdx = 5.74 \\\\ _{\\text{(Logarithmic Function)}} $$ and $$ \\int^{\\frac{\\pi}{4}}_0 cos(x)sin(x)dx = 0.25 \\\\ _{\\text{(Trigonometric Function)}}$$ $$ \\int^{\\pi}_0sin(x^2)+2sin(x)dx = 4.772 \\\\ _{\\text{(Trigonometric Function)}}$$"
      ]
    },
    {
      "cell_type": "markdown",
      "metadata": {
        "id": "2GXtjmObINzJ"
      },
      "source": [
        "### Trapezoidal rule"
      ]
    },
    {
      "cell_type": "code",
      "metadata": {
        "id": "mGT2nng4HbHB"
      },
      "source": [
        "def trapz_rule(func,lb,ub,size):\n",
        "  h = (ub-lb)/size\n",
        "  return h*(0.5*(func(lb)+func(ub))+np.sum(func(lb+h*np.arange(1,size))))"
      ],
      "execution_count": 455,
      "outputs": []
    },
    {
      "cell_type": "code",
      "metadata": {
        "id": "QR4IJZrCe3LD"
      },
      "source": [
        "trapz_error = []"
      ],
      "execution_count": 456,
      "outputs": []
    },
    {
      "cell_type": "code",
      "metadata": {
        "colab": {
          "base_uri": "https://localhost:8080/"
        },
        "id": "eJgocjefI8O_",
        "outputId": "9978b62e-1db9-44ef-e1dd-8ab8e0bf5451"
      },
      "source": [
        "f1 = lambda x: x**5 + 5*x**4 + 3*x**3 + 2*x + 5 \n",
        "lb = 0\n",
        "ub = 5\n",
        "S = trapz_rule(f1,lb,ub,1e6)\n",
        "print(S)\n",
        "err = abs(6247.916-S)\n",
        "print(err)\n",
        "trapz_error.append(err)"
      ],
      "execution_count": 457,
      "outputs": [
        {
          "output_type": "stream",
          "text": [
            "6247.916666678857\n",
            "0.0006666788567599724\n"
          ],
          "name": "stdout"
        }
      ]
    },
    {
      "cell_type": "code",
      "metadata": {
        "colab": {
          "base_uri": "https://localhost:8080/"
        },
        "id": "QTQFhJROe5Cx",
        "outputId": "1172a397-9392-496c-bea6-9bf3f52ddcf6"
      },
      "source": [
        "f2 = lambda x: x**6 + 2*x\n",
        "lb = -1\n",
        "ub = 0\n",
        "S = trapz_rule(f2,lb,ub,1e6)\n",
        "print(S)\n",
        "err = abs(-0.857-S)\n",
        "print(err)\n",
        "trapz_error.append(err)"
      ],
      "execution_count": 458,
      "outputs": [
        {
          "output_type": "stream",
          "text": [
            "-0.857142857142357\n",
            "0.0001428571423570668\n"
          ],
          "name": "stdout"
        }
      ]
    },
    {
      "cell_type": "code",
      "metadata": {
        "colab": {
          "base_uri": "https://localhost:8080/"
        },
        "id": "gfIgF3rwe5_3",
        "outputId": "55ce8c08-fdbc-4fcd-88d3-c2f9c3b9909c"
      },
      "source": [
        "f3 = lambda x: 1/(x*(np.log(x)))\n",
        "lb = 2\n",
        "ub = 3\n",
        "S = trapz_rule(f3,lb,ub,1e6)\n",
        "print(S)\n",
        "err = abs(0.460-S)\n",
        "print(err)\n",
        "trapz_error.append(err)"
      ],
      "execution_count": 459,
      "outputs": [
        {
          "output_type": "stream",
          "text": [
            "0.4605607481984205\n",
            "0.000560748198420502\n"
          ],
          "name": "stdout"
        }
      ]
    },
    {
      "cell_type": "code",
      "metadata": {
        "id": "0tbT3yHKe66w",
        "colab": {
          "base_uri": "https://localhost:8080/"
        },
        "outputId": "6aaf67fd-3bfa-4cb6-d9a6-a7a20a5c8819"
      },
      "source": [
        "f4 = lambda x:np.log(2*x)\n",
        "lb = 2\n",
        "ub = 5\n",
        "S = trapz_rule(f4,lb,ub,1e6)\n",
        "print(S)\n",
        "err = abs(5.74-S)\n",
        "print(err)\n",
        "trapz_error.append(err)"
      ],
      "execution_count": 460,
      "outputs": [
        {
          "output_type": "stream",
          "text": [
            "5.740336742730222\n",
            "0.000336742730222106\n"
          ],
          "name": "stdout"
        }
      ]
    },
    {
      "cell_type": "code",
      "metadata": {
        "id": "wYlePWRCe8Cf",
        "colab": {
          "base_uri": "https://localhost:8080/"
        },
        "outputId": "25509d12-298b-46ad-9ad3-361e9e85c003"
      },
      "source": [
        "f5 = lambda x: np.cos(x)*np.sin(x)\n",
        "lb = 0\n",
        "ub = np.pi/4\n",
        "S = trapz_rule(f5,lb,ub,1e6)\n",
        "print(S)\n",
        "err = abs(0.25-S)\n",
        "print(err)\n",
        "trapz_error.append(err)"
      ],
      "execution_count": 461,
      "outputs": [
        {
          "output_type": "stream",
          "text": [
            "0.24999999999994854\n",
            "5.1458837191376006e-14\n"
          ],
          "name": "stdout"
        }
      ]
    },
    {
      "cell_type": "code",
      "metadata": {
        "id": "5t7KALQ1e9HU",
        "colab": {
          "base_uri": "https://localhost:8080/"
        },
        "outputId": "415d077f-c519-4286-9d83-683f5c0afd6c"
      },
      "source": [
        "f6 = lambda x: np.sin(x**2)+2*np.sin(x)\n",
        "lb = 0\n",
        "ub = np.pi\n",
        "S = trapz_rule(f6,lb,ub,1e6)\n",
        "print(S)\n",
        "err =abs(4.772-S)\n",
        "trapz_error.append(err)\n",
        "err\n"
      ],
      "execution_count": 462,
      "outputs": [
        {
          "output_type": "stream",
          "text": [
            "4.77265171268211\n"
          ],
          "name": "stdout"
        },
        {
          "output_type": "execute_result",
          "data": {
            "text/plain": [
              "0.0006517126821101726"
            ]
          },
          "metadata": {
            "tags": []
          },
          "execution_count": 462
        }
      ]
    },
    {
      "cell_type": "code",
      "metadata": {
        "id": "QkN1BjR8e9x4",
        "colab": {
          "base_uri": "https://localhost:8080/"
        },
        "outputId": "3a684055-4693-4595-9bd1-4a22d117146d"
      },
      "source": [
        "trapz_error"
      ],
      "execution_count": 463,
      "outputs": [
        {
          "output_type": "execute_result",
          "data": {
            "text/plain": [
              "[0.0006666788567599724,\n",
              " 0.0001428571423570668,\n",
              " 0.000560748198420502,\n",
              " 0.000336742730222106,\n",
              " 5.1458837191376006e-14,\n",
              " 0.0006517126821101726]"
            ]
          },
          "metadata": {
            "tags": []
          },
          "execution_count": 463
        }
      ]
    },
    {
      "cell_type": "code",
      "metadata": {
        "colab": {
          "base_uri": "https://localhost:8080/"
        },
        "id": "kF49GWxEic6k",
        "outputId": "c7a45032-4291-4a75-f633-e3a9ae50f1c8"
      },
      "source": [
        "np.mean(trapz_error)"
      ],
      "execution_count": 464,
      "outputs": [
        {
          "output_type": "execute_result",
          "data": {
            "text/plain": [
              "0.0003931232683202131"
            ]
          },
          "metadata": {
            "tags": []
          },
          "execution_count": 464
        }
      ]
    },
    {
      "cell_type": "markdown",
      "metadata": {
        "id": "i5rFYrJUVfaE"
      },
      "source": [
        "### Simpson's 1/3 Rule"
      ]
    },
    {
      "cell_type": "code",
      "metadata": {
        "id": "Op9BgTQxVo5R"
      },
      "source": [
        "simpperror = []"
      ],
      "execution_count": 465,
      "outputs": []
    },
    {
      "cell_type": "code",
      "metadata": {
        "id": "A5H41z2nVsoI"
      },
      "source": [
        "def simp_13(func,lb,ub,divs):\n",
        "  h = (ub-lb)/divs\n",
        "  A = (func(lb)+func(ub))+ \\\n",
        "            np.sum(4*func(lb+h*np.arange(1,divs,2)))+ \\\n",
        "            np.sum(2*func(lb+h*np.arange(2,divs,2)))\n",
        "  S = (h/3)*A\n",
        "  return S"
      ],
      "execution_count": 466,
      "outputs": []
    },
    {
      "cell_type": "code",
      "metadata": {
        "id": "I6DsQty3Vzk3"
      },
      "source": [
        "f1 = lambda x: x**5 + 5*x**4 + 3*x**3 + 2*x + 5 \n",
        "sum = simp_13(f1, 0,5,1e4)\n",
        "error = (abs((6247.916)-(sum)))\n",
        "simpperror.append(error)"
      ],
      "execution_count": 467,
      "outputs": []
    },
    {
      "cell_type": "code",
      "metadata": {
        "id": "5wiHaD4CWimt"
      },
      "source": [
        "f2 = lambda x: x**6 + 2*x\n",
        "sum = simp_13(f2, -1,0,1e4)\n",
        "error = (abs((-0.857)-(sum)))\n",
        "simpperror.append(error)"
      ],
      "execution_count": 468,
      "outputs": []
    },
    {
      "cell_type": "code",
      "metadata": {
        "id": "TtWeawpnWs8f"
      },
      "source": [
        "f3 = lambda x: 1/(x*(np.log(x)))\n",
        "sum = simp_13(f3,2,3,1e4)\n",
        "error = (abs((0.460)-(sum)))\n",
        "simpperror.append(error)"
      ],
      "execution_count": 469,
      "outputs": []
    },
    {
      "cell_type": "code",
      "metadata": {
        "id": "IlEeUNcXXlhz"
      },
      "source": [
        "f4 = lambda x: np.log(2*x)\n",
        "sum = simp_13(f4,2,5,1e4)\n",
        "error = (abs((5.74)-(sum)))\n",
        "simpperror.append(error)"
      ],
      "execution_count": 470,
      "outputs": []
    },
    {
      "cell_type": "code",
      "metadata": {
        "id": "lDpAGpwtYKMt"
      },
      "source": [
        "f5 = lambda x: np.cos(x)*np.sin(x) \n",
        "sum = simp_13(f5,0,np.pi/4,1e4)\n",
        "error = (abs((0.25)-(sum)))\n",
        "simpperror.append(error)"
      ],
      "execution_count": 471,
      "outputs": []
    },
    {
      "cell_type": "code",
      "metadata": {
        "id": "2s8ZV6nLYVeV"
      },
      "source": [
        "f6 = lambda x: np.sin(x**2)+2*np.sin(x)\n",
        "sum = simp_13(f6,0,np.pi,1e4)\n",
        "error = (abs((4.772)-(sum)))\n",
        "simpperror.append(error)"
      ],
      "execution_count": 472,
      "outputs": []
    },
    {
      "cell_type": "code",
      "metadata": {
        "colab": {
          "base_uri": "https://localhost:8080/"
        },
        "id": "ELHb76p7YiBN",
        "outputId": "3592bdbe-8e65-40e0-d7a1-b0185247134f"
      },
      "source": [
        "print(simpperror)\n"
      ],
      "execution_count": 473,
      "outputs": [
        {
          "output_type": "stream",
          "text": [
            "[0.0006666666658929898, 0.00014285714285722229, 0.0005607481983633256, 0.00033674273044681513, 0.0, 0.0006517126900789094]\n"
          ],
          "name": "stdout"
        }
      ]
    },
    {
      "cell_type": "code",
      "metadata": {
        "colab": {
          "base_uri": "https://localhost:8080/"
        },
        "id": "hy8U4sE4Yn8M",
        "outputId": "ce2d8619-3749-49c0-f9cb-d5e4eee10191"
      },
      "source": [
        "np.mean(simpperror)"
      ],
      "execution_count": 474,
      "outputs": [
        {
          "output_type": "execute_result",
          "data": {
            "text/plain": [
              "0.000393121237939877"
            ]
          },
          "metadata": {
            "tags": []
          },
          "execution_count": 474
        }
      ]
    },
    {
      "cell_type": "markdown",
      "metadata": {
        "id": "YPEQxdsQJax6"
      },
      "source": [
        "### Simpson's 3/8 Rule"
      ]
    },
    {
      "cell_type": "code",
      "metadata": {
        "id": "pT_BkoaBRryB"
      },
      "source": [
        "simperror = []"
      ],
      "execution_count": 475,
      "outputs": []
    },
    {
      "cell_type": "code",
      "metadata": {
        "id": "e5Hll52WJhqB"
      },
      "source": [
        "def simp_38(func,lb,ub,divs):\n",
        "  h = (ub-lb)/divs\n",
        "  A = (func(lb)+func(ub))+ \\\n",
        "            np.sum(3*(func(lb+h*np.arange(1,divs,3))))+ \\\n",
        "            np.sum(3*(func(lb+h*np.arange(2,divs,3))))+ \\\n",
        "            np.sum(2*func(lb+h*np.arange(3,divs,3)))\n",
        "  S = (3*h/8)*A\n",
        "  return S"
      ],
      "execution_count": 476,
      "outputs": []
    },
    {
      "cell_type": "code",
      "metadata": {
        "id": "lANRdffCJkcf"
      },
      "source": [
        "f1 = lambda x: x**5 + 5*x**4 + 3*x**3 + 2*x + 5 \n",
        "sum = simp_38(f1, 0,5,1e4)\n",
        "error = (abs((6247.916)-(sum)))\n",
        "simperror.append(error)\n",
        "#print(\"Error:\",error)"
      ],
      "execution_count": 477,
      "outputs": []
    },
    {
      "cell_type": "code",
      "metadata": {
        "id": "Rfl58iazKsg6"
      },
      "source": [
        "f2 = lambda x: x**6 + 2*x\n",
        "sum = simp_38(f2, -1,0,1e4)\n",
        "error = (abs((-0.857)-(sum)))\n",
        "simperror.append(error)\n",
        "#print(\"Error:\",error)"
      ],
      "execution_count": 478,
      "outputs": []
    },
    {
      "cell_type": "code",
      "metadata": {
        "id": "cp5x-b1xMaeD"
      },
      "source": [
        "f3 = lambda x: 1/(x*(np.log(x)))\n",
        "sum = simp_38(f3,2,3,1e4)\n",
        "error = (abs((0.460)-(sum)))\n",
        "simperror.append(error)\n",
        "#print(\"Error:\",error)"
      ],
      "execution_count": 479,
      "outputs": []
    },
    {
      "cell_type": "code",
      "metadata": {
        "id": "Ynn8Wa07NWcL"
      },
      "source": [
        "f4 = lambda x: np.log(2*x)\n",
        "sum = simp_38(f4,2,5,1e4)\n",
        "error = (abs((5.74)-(sum)))\n",
        "simperror.append(error)\n",
        "#print(\"Error:\",error)"
      ],
      "execution_count": 480,
      "outputs": []
    },
    {
      "cell_type": "code",
      "metadata": {
        "id": "QUlN248pNzh8"
      },
      "source": [
        "f5 = lambda x: np.cos(x)*np.sin(x) \n",
        "sum = simp_38(f5,0,np.pi/4,1e4)\n",
        "error = (abs((0.25)-(sum)))\n",
        "simperror.append(error)\n",
        "#print(\"Error:\",error)"
      ],
      "execution_count": 481,
      "outputs": []
    },
    {
      "cell_type": "code",
      "metadata": {
        "id": "wLpdXD8JOTWu"
      },
      "source": [
        "f6 = lambda x: np.sin(x**2)+2*np.sin(x)\n",
        "sum = simp_38(f6,0,np.pi,1e4)\n",
        "error = (abs((4.772)-(sum)))\n",
        "simperror.append(error)\n",
        "#print(\"Error:\",error)"
      ],
      "execution_count": 482,
      "outputs": []
    },
    {
      "cell_type": "code",
      "metadata": {
        "colab": {
          "base_uri": "https://localhost:8080/"
        },
        "id": "BIxYkp2GSMUR",
        "outputId": "98c707f7-c65b-4c78-901e-cde59f8adbf9"
      },
      "source": [
        "print(simperror)"
      ],
      "execution_count": 483,
      "outputs": [
        {
          "output_type": "stream",
          "text": [
            "[0.8291504476819682, 0.00014285464285701543, 0.0005531626299827286, 0.00016405109844974675, 9.817477062690205e-06, 0.0006854138321159553]\n"
          ],
          "name": "stdout"
        }
      ]
    },
    {
      "cell_type": "code",
      "metadata": {
        "colab": {
          "base_uri": "https://localhost:8080/"
        },
        "id": "MZdrovJ8R_4k",
        "outputId": "66c59b18-5f7b-4cae-ff7c-5b45a2dc9683"
      },
      "source": [
        "np.mean(simperror)"
      ],
      "execution_count": 484,
      "outputs": [
        {
          "output_type": "execute_result",
          "data": {
            "text/plain": [
              "0.1384509578937394"
            ]
          },
          "metadata": {
            "tags": []
          },
          "execution_count": 484
        }
      ]
    },
    {
      "cell_type": "markdown",
      "metadata": {
        "id": "mF_vz4r2a0Tv"
      },
      "source": [
        "### Monte Carlo Integration"
      ]
    },
    {
      "cell_type": "code",
      "metadata": {
        "id": "iU7P-LtLcWyG"
      },
      "source": [
        "def monte_carlo(f,a,b,n,f_s):\n",
        "  samples = np.random.uniform(a,b,int(n)) \n",
        "  mean = np.mean(f(samples))\n",
        "  S = (b-a)*mean # formula\n",
        "  errors = (abs((f_s)-(S))) # errors formula\n",
        "  return S, errors"
      ],
      "execution_count": 485,
      "outputs": []
    },
    {
      "cell_type": "code",
      "metadata": {
        "id": "QAzh-wAudAxR",
        "colab": {
          "base_uri": "https://localhost:8080/"
        },
        "outputId": "4d59725b-8ddc-4219-cfe8-6cc50242eeb9"
      },
      "source": [
        "f1 = lambda x: x**5 + 5*x**4 + 3*x**3 + 2*x + 5 \n",
        "lb = 0\n",
        "ub = 5\n",
        "monte_carlo(f1,lb,ub,1000,6247.916)"
      ],
      "execution_count": 486,
      "outputs": [
        {
          "output_type": "execute_result",
          "data": {
            "text/plain": [
              "(6642.540000334153, 394.6240003341527)"
            ]
          },
          "metadata": {
            "tags": []
          },
          "execution_count": 486
        }
      ]
    },
    {
      "cell_type": "code",
      "metadata": {
        "id": "W2ApjFusdCl3",
        "colab": {
          "base_uri": "https://localhost:8080/"
        },
        "outputId": "6bc4ae6d-4a02-4005-d275-17feb8650b79"
      },
      "source": [
        "f2 = lambda x: x**6 + 2*x\n",
        "lb = -1\n",
        "ub = 0\n",
        "monte_carlo(f2,lb,ub,1000,-0.857)"
      ],
      "execution_count": 487,
      "outputs": [
        {
          "output_type": "execute_result",
          "data": {
            "text/plain": [
              "(-0.8675346156621222, 0.010534615662122215)"
            ]
          },
          "metadata": {
            "tags": []
          },
          "execution_count": 487
        }
      ]
    },
    {
      "cell_type": "code",
      "metadata": {
        "id": "DwN3YgyYiIE7",
        "colab": {
          "base_uri": "https://localhost:8080/"
        },
        "outputId": "e688e251-2c5e-4748-d3e8-13f9961c7b0b"
      },
      "source": [
        "f3 = lambda x: 1/(x*(np.log(x)))\n",
        "lb = 2\n",
        "ub = 3\n",
        "monte_carlo(f3,lb,ub,1000,0.460)"
      ],
      "execution_count": 488,
      "outputs": [
        {
          "output_type": "execute_result",
          "data": {
            "text/plain": [
              "(0.4596917863115959, 0.0003082136884041131)"
            ]
          },
          "metadata": {
            "tags": []
          },
          "execution_count": 488
        }
      ]
    },
    {
      "cell_type": "code",
      "metadata": {
        "id": "5Y1HnqkMiJhm",
        "colab": {
          "base_uri": "https://localhost:8080/"
        },
        "outputId": "d5342f80-ca1c-4e6d-8843-9caf376b851a"
      },
      "source": [
        "f4 = lambda x: np.log(2*x)\n",
        "lb = 2\n",
        "ub = 5\n",
        "monte_carlo(f4,lb,ub,1000,5.74)"
      ],
      "execution_count": 489,
      "outputs": [
        {
          "output_type": "execute_result",
          "data": {
            "text/plain": [
              "(5.789843399844449, 0.04984339984444919)"
            ]
          },
          "metadata": {
            "tags": []
          },
          "execution_count": 489
        }
      ]
    },
    {
      "cell_type": "code",
      "metadata": {
        "id": "5uATxvgWiJf7",
        "colab": {
          "base_uri": "https://localhost:8080/"
        },
        "outputId": "aeb3bbd8-8745-4d31-df23-3536c43ab798"
      },
      "source": [
        "f5 = lambda x: np.cos(x)*np.sin(x) \n",
        "lb = 0\n",
        "ub = np.pi/4\n",
        "monte_carlo(f5,lb,ub,1000,0.25)"
      ],
      "execution_count": 490,
      "outputs": [
        {
          "output_type": "execute_result",
          "data": {
            "text/plain": [
              "(0.2542960513382307, 0.004296051338230689)"
            ]
          },
          "metadata": {
            "tags": []
          },
          "execution_count": 490
        }
      ]
    },
    {
      "cell_type": "code",
      "metadata": {
        "id": "oOZBIn_ViK6l",
        "colab": {
          "base_uri": "https://localhost:8080/"
        },
        "outputId": "688a76d6-064a-4b26-a869-b3f3652215c0"
      },
      "source": [
        "f6 = lambda x: np.sin(x**2)+2*np.sin(x)\n",
        "lb = 0\n",
        "ub = np.pi\n",
        "monte_carlo(f6,lb,ub,1000,4.772)"
      ],
      "execution_count": 491,
      "outputs": [
        {
          "output_type": "execute_result",
          "data": {
            "text/plain": [
              "(4.656203288139387, 0.11579671186061358)"
            ]
          },
          "metadata": {
            "tags": []
          },
          "execution_count": 491
        }
      ]
    },
    {
      "cell_type": "markdown",
      "metadata": {
        "id": "shdHmqRflhYp"
      },
      "source": [
        "The error was computed after implementing the trapezoidal, Simpson's 1/3, Simpson's 3/8, and Monte Carlo integration techniques with the 6 sample cases provided by the authors. The trapezoidal and Simpson's 1/3 both have 0.0003 mean errors while the Simpson's 3/8 has 0.1385 mean error. With these data, it can be concluded that the trapezoidal and Simpson's 1/3 is better than Simpson's 3/8 in solving the specific set of functions provided by the authors in this module. Meanwhile, the Monte Carlo Integration has an inconsistent error values since it uses random sampling to produce its samples. It needs to have a significant amount of iteration to determine its theoretical value since it follows the law of large numbers."
      ]
    },
    {
      "cell_type": "markdown",
      "metadata": {
        "id": "YHQG3p29cMfg"
      },
      "source": [
        "## PART 3"
      ]
    },
    {
      "cell_type": "markdown",
      "metadata": {
        "id": "4sR04PSEbyWi"
      },
      "source": [
        "### Simpson's 3/8 Rule\n",
        "\n"
      ]
    },
    {
      "cell_type": "code",
      "metadata": {
        "id": "DUSSEpL8yqTC"
      },
      "source": [
        "def simp_38(func,lb,ub,divs):\n",
        "  h = (ub-lb)/divs\n",
        "  A = (func(lb)+func(ub))+ \\\n",
        "            np.sum(3*(func(lb+h*np.arange(1,divs,3))))+ \\\n",
        "            np.sum(3*(func(lb+h*np.arange(2,divs,3))))+ \\\n",
        "            np.sum(2*func(lb+h*np.arange(3,divs,3)))\n",
        "  S = (3*h/8)*A\n",
        "  return S"
      ],
      "execution_count": null,
      "outputs": []
    },
    {
      "cell_type": "code",
      "metadata": {
        "colab": {
          "base_uri": "https://localhost:8080/",
          "height": 283
        },
        "id": "XyRCPvpSyQCD",
        "outputId": "426f0e46-a433-4ab7-a7a4-6087935bb9af"
      },
      "source": [
        "import matplotlib.pyplot as plt\n",
        "divs = 2e4\n",
        "sumresults = []\n",
        "allerrors = []\n",
        "for i in range (0,100):\n",
        "  divs -=100\n",
        "  f = lambda x: 6*x**2-5*x+2\n",
        "  sum = simp_38(f,-3,1,divs)\n",
        "  sumresults.append(sum)\n",
        "\n",
        "for i in sumresults:\n",
        "  errors = (abs((84)-(i)))\n",
        "  allerrors.append(errors)\n",
        "\n",
        "x_range = np.arange(0,100)\n",
        "y_range = allerrors\n",
        "plt.plot(x_range,y_range)\n"
      ],
      "execution_count": null,
      "outputs": [
        {
          "output_type": "execute_result",
          "data": {
            "text/plain": [
              "[<matplotlib.lines.Line2D at 0x7f5d25eb76d0>]"
            ]
          },
          "metadata": {
            "tags": []
          },
          "execution_count": 428
        },
        {
          "output_type": "display_data",
          "data": {
            "image/png": "[encoded data removed]",
            "text/plain": [
              "<Figure size 432x288 with 1 Axes>"
            ]
          },
          "metadata": {
            "tags": [],
            "needs_background": "light"
          }
        }
      ]
    },
    {
      "cell_type": "markdown",
      "metadata": {
        "id": "ZkyvFVYTyylx"
      },
      "source": [
        "The Figure above shows that with a arbitrary large number equals to 20000 for a bin at first iteration, the smallest error can be observed and by decreasing it by 100 every iteration, it can be observed that the error gets high also and this can be related to law of big number in where stated that the higher number of samples results to getting more closer into theoretical value [3]. Therefore, the first iteration have the smallest error since this is where higher number of bin or sample in statistical term located in all iteration while in the 100th iteration, the bin has a value of 10000 and this results to higher error compare to first iteration."
      ]
    },
    {
      "cell_type": "markdown",
      "metadata": {
        "id": "p0QJxAQ0EFRY"
      },
      "source": [
        "### Monte Carlo Simulation"
      ]
    },
    {
      "cell_type": "code",
      "metadata": {
        "id": "qlt1tWe3EN1i"
      },
      "source": [
        "import numpy as np\n",
        "import matplotlib.pyplot as plt"
      ],
      "execution_count": null,
      "outputs": []
    },
    {
      "cell_type": "markdown",
      "metadata": {
        "id": "19acgam2ESqt"
      },
      "source": [
        "The equation that will be used:\n",
        "$$\\int^{1}_{-3}(6x^2 - 5x +2)dx = 84 $$\n"
      ]
    },
    {
      "cell_type": "code",
      "metadata": {
        "id": "VQwdC0ulETyk"
      },
      "source": [
        "def monte_carlo(f,a,b,n,f_s):\n",
        "  \n",
        "  S_results = [] \n",
        "  all_errors = [] \n",
        " \n",
        "  for i in range(0,10000): # for loop that appends in the S_results\n",
        "    n += 100 # increase sample size\n",
        "    samples = np.random.uniform(a,b,int(n)) \n",
        "    mean = np.mean(f(samples))\n",
        "    S = (b-a)*mean # formula \n",
        "    S_results.append(S)\n",
        "\n",
        "  for i in S_results: # for loop that appends in all_errors\n",
        "    errors = (abs((f_s)-(i))) # errors formula\n",
        "    all_errors.append(errors)\n",
        "\n",
        "  x_range = np.arange(0,10000) \n",
        "\n",
        "  y_range_errors = all_errors # y of all_errors\n",
        "\n",
        "  y_range_S = S_results # y of S_results\n",
        "\n",
        "  fig, axs = plt.subplots(2, 1) # creates subplots\n",
        "  axs[0].plot(x_range, y_range_errors) # plotting errors\n",
        "  axs[0].set_title(\"Errors\") \n",
        "  axs[1].plot(x_range, y_range_S) # plotting average\n",
        "  axs[1].set_title(\"Average\")\n",
        "\n",
        "  fig.tight_layout() # adjusts spacing between subplots\n",
        "  plt.show()"
      ],
      "execution_count": null,
      "outputs": []
    },
    {
      "cell_type": "code",
      "metadata": {
        "id": "Cra34V0pEXOw",
        "colab": {
          "base_uri": "https://localhost:8080/",
          "height": 362
        },
        "outputId": "a355fddd-0398-490c-a842-ef62e2a6b123"
      },
      "source": [
        "f = lambda x: 6*x**2-5*x+2 # function\n",
        "a = -3 # lower bound\n",
        "b = 1 # upper bound\n",
        "n = 100 # sample size\n",
        "f_s = 84 # theoretical value\n",
        "monte_carlo(f,a,b,n,f_s)"
      ],
      "execution_count": null,
      "outputs": [
        {
          "output_type": "error",
          "ename": "KeyboardInterrupt",
          "evalue": "ignored",
          "traceback": [
            "\u001b[0;31m---------------------------------------------------------------------------\u001b[0m",
            "\u001b[0;31mKeyboardInterrupt\u001b[0m                         Traceback (most recent call last)",
            "\u001b[0;32m<ipython-input-359-bc82685d7b81>\u001b[0m in \u001b[0;36m<module>\u001b[0;34m()\u001b[0m\n\u001b[1;32m      4\u001b[0m \u001b[0mn\u001b[0m \u001b[0;34m=\u001b[0m \u001b[0;36m100\u001b[0m \u001b[0;31m# sample size\u001b[0m\u001b[0;34m\u001b[0m\u001b[0;34m\u001b[0m\u001b[0m\n\u001b[1;32m      5\u001b[0m \u001b[0mf_s\u001b[0m \u001b[0;34m=\u001b[0m \u001b[0;36m84\u001b[0m \u001b[0;31m# theoretical value\u001b[0m\u001b[0;34m\u001b[0m\u001b[0;34m\u001b[0m\u001b[0m\n\u001b[0;32m----> 6\u001b[0;31m \u001b[0mmonte_carlo\u001b[0m\u001b[0;34m(\u001b[0m\u001b[0mf\u001b[0m\u001b[0;34m,\u001b[0m\u001b[0ma\u001b[0m\u001b[0;34m,\u001b[0m\u001b[0mb\u001b[0m\u001b[0;34m,\u001b[0m\u001b[0mn\u001b[0m\u001b[0;34m,\u001b[0m\u001b[0mf_s\u001b[0m\u001b[0;34m)\u001b[0m\u001b[0;34m\u001b[0m\u001b[0;34m\u001b[0m\u001b[0m\n\u001b[0m",
            "\u001b[0;32m<ipython-input-358-f7c4f85f6740>\u001b[0m in \u001b[0;36mmonte_carlo\u001b[0;34m(f, a, b, n, f_s)\u001b[0m\n\u001b[1;32m      7\u001b[0m     \u001b[0mn\u001b[0m \u001b[0;34m+=\u001b[0m \u001b[0;36m100\u001b[0m \u001b[0;31m# increase sample size\u001b[0m\u001b[0;34m\u001b[0m\u001b[0;34m\u001b[0m\u001b[0m\n\u001b[1;32m      8\u001b[0m     \u001b[0msamples\u001b[0m \u001b[0;34m=\u001b[0m \u001b[0mnp\u001b[0m\u001b[0;34m.\u001b[0m\u001b[0mrandom\u001b[0m\u001b[0;34m.\u001b[0m\u001b[0muniform\u001b[0m\u001b[0;34m(\u001b[0m\u001b[0ma\u001b[0m\u001b[0;34m,\u001b[0m\u001b[0mb\u001b[0m\u001b[0;34m,\u001b[0m\u001b[0mint\u001b[0m\u001b[0;34m(\u001b[0m\u001b[0mn\u001b[0m\u001b[0;34m)\u001b[0m\u001b[0;34m)\u001b[0m\u001b[0;34m\u001b[0m\u001b[0;34m\u001b[0m\u001b[0m\n\u001b[0;32m----> 9\u001b[0;31m     \u001b[0mmean\u001b[0m \u001b[0;34m=\u001b[0m \u001b[0mnp\u001b[0m\u001b[0;34m.\u001b[0m\u001b[0mmean\u001b[0m\u001b[0;34m(\u001b[0m\u001b[0mf\u001b[0m\u001b[0;34m(\u001b[0m\u001b[0msamples\u001b[0m\u001b[0;34m)\u001b[0m\u001b[0;34m)\u001b[0m\u001b[0;34m\u001b[0m\u001b[0;34m\u001b[0m\u001b[0m\n\u001b[0m\u001b[1;32m     10\u001b[0m     \u001b[0mS\u001b[0m \u001b[0;34m=\u001b[0m \u001b[0;34m(\u001b[0m\u001b[0mb\u001b[0m\u001b[0;34m-\u001b[0m\u001b[0ma\u001b[0m\u001b[0;34m)\u001b[0m\u001b[0;34m*\u001b[0m\u001b[0mmean\u001b[0m \u001b[0;31m# formula\u001b[0m\u001b[0;34m\u001b[0m\u001b[0;34m\u001b[0m\u001b[0m\n\u001b[1;32m     11\u001b[0m     \u001b[0mS_results\u001b[0m\u001b[0;34m.\u001b[0m\u001b[0mappend\u001b[0m\u001b[0;34m(\u001b[0m\u001b[0mS\u001b[0m\u001b[0;34m)\u001b[0m\u001b[0;34m\u001b[0m\u001b[0;34m\u001b[0m\u001b[0m\n",
            "\u001b[0;32m<ipython-input-359-bc82685d7b81>\u001b[0m in \u001b[0;36m<lambda>\u001b[0;34m(x)\u001b[0m\n\u001b[0;32m----> 1\u001b[0;31m \u001b[0mf\u001b[0m \u001b[0;34m=\u001b[0m \u001b[0;32mlambda\u001b[0m \u001b[0mx\u001b[0m\u001b[0;34m:\u001b[0m \u001b[0;36m6\u001b[0m\u001b[0;34m*\u001b[0m\u001b[0mx\u001b[0m\u001b[0;34m**\u001b[0m\u001b[0;36m2\u001b[0m\u001b[0;34m-\u001b[0m\u001b[0;36m5\u001b[0m\u001b[0;34m*\u001b[0m\u001b[0mx\u001b[0m\u001b[0;34m+\u001b[0m\u001b[0;36m2\u001b[0m \u001b[0;31m# function\u001b[0m\u001b[0;34m\u001b[0m\u001b[0;34m\u001b[0m\u001b[0m\n\u001b[0m\u001b[1;32m      2\u001b[0m \u001b[0ma\u001b[0m \u001b[0;34m=\u001b[0m \u001b[0;34m-\u001b[0m\u001b[0;36m3\u001b[0m \u001b[0;31m# lower bound\u001b[0m\u001b[0;34m\u001b[0m\u001b[0;34m\u001b[0m\u001b[0m\n\u001b[1;32m      3\u001b[0m \u001b[0mb\u001b[0m \u001b[0;34m=\u001b[0m \u001b[0;36m1\u001b[0m \u001b[0;31m# upper bound\u001b[0m\u001b[0;34m\u001b[0m\u001b[0;34m\u001b[0m\u001b[0m\n\u001b[1;32m      4\u001b[0m \u001b[0mn\u001b[0m \u001b[0;34m=\u001b[0m \u001b[0;36m100\u001b[0m \u001b[0;31m# sample size\u001b[0m\u001b[0;34m\u001b[0m\u001b[0;34m\u001b[0m\u001b[0m\n\u001b[1;32m      5\u001b[0m \u001b[0mf_s\u001b[0m \u001b[0;34m=\u001b[0m \u001b[0;36m84\u001b[0m \u001b[0;31m# theoretical value\u001b[0m\u001b[0;34m\u001b[0m\u001b[0;34m\u001b[0m\u001b[0m\n",
            "\u001b[0;31mKeyboardInterrupt\u001b[0m: "
          ]
        }
      ]
    },
    {
      "cell_type": "markdown",
      "metadata": {
        "id": "UN5N1O_MEac6"
      },
      "source": [
        "The Monte Carlo method uses random sampling to solve statistical problems. This is the reason why np.random.uniform() was used to create the samples. In order to decrease the size of its errors, the law of big numbers will be used by running the Monte Carlo simulation for 10000 iterations while increasing the sample sizes by a factor of 100. The law of big numbers states that performing the same experiment a large number of times will yield a result closer to the expected value as more trials are performed [4]. Based on the results of the 1st graph titled \"Errors\", it can be seen that as the trials increases, the errors decreases as well. For the 2nd graph titled \"Average\", the law of big numbers can be seen where as the trials increase, the result comes closer to the theoretical value which is 84."
      ]
    },
    {
      "cell_type": "markdown",
      "metadata": {
        "id": "8GZbNOSzFC4d"
      },
      "source": [
        "##References\n",
        "[1] SciPy (2021) [**Scipy Source Code**](https://github.com/scipy/scipy/blob/v1.6.3/scipy/integrate/quadpack.py#L49-L442) \\\\\n",
        "[2] Florida State University (2010) [***QUADPACK Numerical Integration***](https://people.sc.fsu.edu/~jburkardt/f77_src/quadpack/quadpack.html) \\\\\n",
        "[3] Siegrist (2021) [***The Law of Large Numbers***](https://stats.libretexts.org/Bookshelves/Probability_Theory/Book%3A_Probability_Mathematical_Statistics_and_Stochastic_Processes_(Siegrist)/06%3A_Random_Samples/6.03%3A_The_Law_of_Large_Numbers) \\\\\n",
        "[4] Michael, Dekking (2005) [***A modern introduction to probability and statistics : understanding why and how***](https://archive.org/details/modernintroducti00fmde)"
      ]
    },
    {
      "cell_type": "code",
      "metadata": {
        "id": "VtvXFX3P1ipF"
      },
      "source": [
        ""
      ],
      "execution_count": null,
      "outputs": []
    }
  ]
}