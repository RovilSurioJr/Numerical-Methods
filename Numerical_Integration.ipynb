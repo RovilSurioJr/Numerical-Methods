{
  "nbformat": 4,
  "nbformat_minor": 0,
  "metadata": {
    "colab": {
      "name": "Numerical Integration.ipynb",
      "provenance": [],
      "collapsed_sections": [],
      "include_colab_link": true
    },
    "kernelspec": {
      "name": "python3",
      "display_name": "Python 3"
    },
    "language_info": {
      "name": "python"
    }
  },
  "cells": [
    {
      "cell_type": "markdown",
      "metadata": {
        "id": "view-in-github",
        "colab_type": "text"
      },
      "source": [
        "<a href=\"https://colab.research.google.com/github/RovilSurioJr/Numerical-Methods/blob/master/Numerical_Integration.ipynb\" target=\"_parent\"><img src=\"https://colab.research.google.com/assets/colab-badge.svg\" alt=\"Open In Colab\"/></a>"
      ]
    },
    {
      "cell_type": "markdown",
      "metadata": {
        "id": "kNcFheeHysIU"
      },
      "source": [
        "# Numerical Integration\n",
        "$_{\\text{©L.A. Guy ©R.Surio ©M.A. Sustento ©T.J. Vallarta  | 2021 | Computational Methods for Computer Engineers}}$\n",
        "\n",
        "In this module, we will learn how numerical integration works and how you can solve them computationally using Python and compare each different integration rule by computing the error it produced. We will also cover the numerical integration functions implemented in scipy. This module will cover:\n",
        "\n",
        "* Scipy Quad Function\n",
        "* Scipy Romberg Function\n",
        "* Trapezoidal Rule\n",
        "* Simpson's 1/3 Integration Rule\n",
        "* Simpson's 3/8 Integration Rule\n",
        "* Monte Carlo Simulations/Integration\n",
        "* Law of Big numbers"
      ]
    },
    {
      "cell_type": "code",
      "metadata": {
        "id": "k1nVHgRBzVsn"
      },
      "source": [
        "import numpy as np\n",
        "from scipy.integrate import quad\n",
        "from scipy.integrate import dblquad\n",
        "from scipy.integrate import trapz\n",
        "from scipy.integrate import romberg"
      ],
      "execution_count": null,
      "outputs": []
    },
    {
      "cell_type": "markdown",
      "metadata": {
        "id": "E8rN0Cgx0bts"
      },
      "source": [
        "## PART 1"
      ]
    },
    {
      "cell_type": "markdown",
      "metadata": {
        "id": "4pSefntukgSl"
      },
      "source": [
        "### SciPy Quad Function"
      ]
    },
    {
      "cell_type": "markdown",
      "metadata": {
        "id": "wC42DUcYkod3"
      },
      "source": [
        "The quad function computes for the definite integral. This function utilizes the QUADPACK from the Fortran library [1]. The QUADPACK estimates the integrals using the numerical quadrature [2]. The quad function performs the following:\n",
        "$$\\int^b_af(x)dx$$"
      ]
    },
    {
      "cell_type": "code",
      "metadata": {
        "id": "MNkRG6K1yiVJ"
      },
      "source": [
        "f1 = lambda x: x**5 + 5*x**4 + 3*x**3 + 2*x + 5 \n",
        "lb = 0\n",
        "ub = 5"
      ],
      "execution_count": null,
      "outputs": []
    },
    {
      "cell_type": "code",
      "metadata": {
        "colab": {
          "base_uri": "https://localhost:8080/"
        },
        "id": "72dbNepTzZon",
        "outputId": "de36b842-f126-4ca9-9964-2a4a4f6d5823"
      },
      "source": [
        "quad(f1,lb,ub)"
      ],
      "execution_count": null,
      "outputs": [
        {
          "output_type": "execute_result",
          "data": {
            "text/plain": [
              "(6247.916666666668, 6.936580939272593e-11)"
            ]
          },
          "metadata": {
            "tags": []
          },
          "execution_count": 3
        }
      ]
    },
    {
      "cell_type": "code",
      "metadata": {
        "id": "VshPfEQdopfD"
      },
      "source": [
        "f2 = lambda x: np.cos(x)*np.sin(x) \n",
        "lb = 0\n",
        "ub = np.pi/4"
      ],
      "execution_count": null,
      "outputs": []
    },
    {
      "cell_type": "code",
      "metadata": {
        "colab": {
          "base_uri": "https://localhost:8080/"
        },
        "id": "k7LxaDSyowwW",
        "outputId": "2271881f-2599-477e-f0b6-7ed871b01712"
      },
      "source": [
        "quad(f2,lb,ub)"
      ],
      "execution_count": null,
      "outputs": [
        {
          "output_type": "execute_result",
          "data": {
            "text/plain": [
              "(0.24999999999999997, 2.775557561562891e-15)"
            ]
          },
          "metadata": {
            "tags": []
          },
          "execution_count": 5
        }
      ]
    },
    {
      "cell_type": "code",
      "metadata": {
        "id": "di7N6Hmio5yE"
      },
      "source": [
        "f3 = lambda x: 1/(x*(np.log(x)))\n",
        "lb = 2\n",
        "ub = 3"
      ],
      "execution_count": null,
      "outputs": []
    },
    {
      "cell_type": "code",
      "metadata": {
        "colab": {
          "base_uri": "https://localhost:8080/"
        },
        "id": "tqXpjDUWpFE1",
        "outputId": "26938f2a-530c-490e-a977-b7716d20b9cb"
      },
      "source": [
        "quad(f3,lb,ub)"
      ],
      "execution_count": null,
      "outputs": [
        {
          "output_type": "execute_result",
          "data": {
            "text/plain": [
              "(0.4605607481983634, 5.113251468884121e-15)"
            ]
          },
          "metadata": {
            "tags": []
          },
          "execution_count": 7
        }
      ]
    },
    {
      "cell_type": "code",
      "metadata": {
        "id": "GJr5_uQXwS7t"
      },
      "source": [
        "f4 = lambda x: x**6 + 2*x\n",
        "lb = -1\n",
        "ub = 0"
      ],
      "execution_count": null,
      "outputs": []
    },
    {
      "cell_type": "code",
      "metadata": {
        "colab": {
          "base_uri": "https://localhost:8080/"
        },
        "id": "udMZEb_twWHj",
        "outputId": "e6224f5e-cecd-457a-f86b-583bb3bc7545"
      },
      "source": [
        "quad(f4,lb,ub)"
      ],
      "execution_count": null,
      "outputs": [
        {
          "output_type": "execute_result",
          "data": {
            "text/plain": [
              "(-0.8571428571428572, 9.516197353929914e-15)"
            ]
          },
          "metadata": {
            "tags": []
          },
          "execution_count": 9
        }
      ]
    },
    {
      "cell_type": "code",
      "metadata": {
        "id": "-0zGeH9Awbcu"
      },
      "source": [
        "f5 = lambda x: np.sin(x**2)+2*np.sin(x)\n",
        "lb = 0\n",
        "ub = np.pi"
      ],
      "execution_count": null,
      "outputs": []
    },
    {
      "cell_type": "code",
      "metadata": {
        "colab": {
          "base_uri": "https://localhost:8080/"
        },
        "id": "aIJa3od0wjEy",
        "outputId": "779a0881-8804-4666-bead-36680f899463"
      },
      "source": [
        "quad(f5,lb,ub)"
      ],
      "execution_count": null,
      "outputs": [
        {
          "output_type": "execute_result",
          "data": {
            "text/plain": [
              "(4.772651712690067, 1.7562330009932296e-12)"
            ]
          },
          "metadata": {
            "tags": []
          },
          "execution_count": 11
        }
      ]
    },
    {
      "cell_type": "code",
      "metadata": {
        "id": "xaUT0G15wmLK"
      },
      "source": [
        "f6 = lambda x: np.log(2*x)\n",
        "lb = 2\n",
        "ub = 5"
      ],
      "execution_count": null,
      "outputs": []
    },
    {
      "cell_type": "code",
      "metadata": {
        "colab": {
          "base_uri": "https://localhost:8080/"
        },
        "id": "Ptoots3YwtLQ",
        "outputId": "b6b04ced-d5ce-4857-a9e9-fe1cd3e5c710"
      },
      "source": [
        "quad(f6,lb,ub)"
      ],
      "execution_count": null,
      "outputs": [
        {
          "output_type": "execute_result",
          "data": {
            "text/plain": [
              "(5.740336742730447, 6.373054020881115e-14)"
            ]
          },
          "metadata": {
            "tags": []
          },
          "execution_count": 13
        }
      ]
    },
    {
      "cell_type": "code",
      "metadata": {
        "id": "Frc4CFbdzxN6"
      },
      "source": [
        ""
      ],
      "execution_count": null,
      "outputs": []
    },
    {
      "cell_type": "markdown",
      "metadata": {
        "id": "8uBGmLspiTxK"
      },
      "source": [
        "### Scipy Romberg Function\n"
      ]
    },
    {
      "cell_type": "markdown",
      "metadata": {
        "id": "ma2vw8gKiaqh"
      },
      "source": [
        "The Romberg function of SciPy follows the Romberg Integration theory. The Romberg integration theory uses the Trapezoidal formula multiple times to get a better result. The Romberg combines the first trapezoidal application with one trapezoid and combines it with another trapezoidal application but this time uses two trapezoids and combines the result. The number of trapezoids used for each iteration increases by $ 2^n$. The combinations of the trapezoids will also be combined which will make the result more desirable. To further understand the concept, look at the illustration of the Romberg Integration:\n",
        "![image](https://miro.medium.com/max/1286/1*haJeX57EYzB68sCahttRsA.png)"
      ]
    },
    {
      "cell_type": "code",
      "metadata": {
        "id": "5sYh9iNmejqU"
      },
      "source": [
        "romberg_error = []"
      ],
      "execution_count": null,
      "outputs": []
    },
    {
      "cell_type": "code",
      "metadata": {
        "colab": {
          "base_uri": "https://localhost:8080/"
        },
        "id": "8DAFl3qFfSBQ",
        "outputId": "2393ccbb-174e-4f35-80be-14ebb997509e"
      },
      "source": [
        "f1 = lambda x: x**5 + 5*x**4 + 3*x**3 + 2*x + 5 \n",
        "lb = 0\n",
        "ub = 5\n",
        "S = romberg(f1,lb,ub)\n",
        "print(S)\n",
        "err = abs(6247.916-S)\n",
        "romberg_error.append(err)\n",
        "err"
      ],
      "execution_count": null,
      "outputs": [
        {
          "output_type": "stream",
          "text": [
            "6247.916666666667\n"
          ],
          "name": "stdout"
        },
        {
          "output_type": "execute_result",
          "data": {
            "text/plain": [
              "0.0006666666668024845"
            ]
          },
          "metadata": {
            "tags": []
          },
          "execution_count": 15
        }
      ]
    },
    {
      "cell_type": "code",
      "metadata": {
        "colab": {
          "base_uri": "https://localhost:8080/"
        },
        "id": "VeUd62AAjpvc",
        "outputId": "2757a4f4-8aa5-41ba-d98f-47e0db952b10"
      },
      "source": [
        "f2 = lambda x: x**6 + 2*x\n",
        "lb = -1\n",
        "ub = 0\n",
        "S = romberg(f2,lb,ub)\n",
        "print(S)\n",
        "err = abs(-0.857-S)\n",
        "romberg_error.append(err)\n",
        "print(err)"
      ],
      "execution_count": null,
      "outputs": [
        {
          "output_type": "stream",
          "text": [
            "-0.8571428571428571\n",
            "0.00014285714285711126\n"
          ],
          "name": "stdout"
        }
      ]
    },
    {
      "cell_type": "code",
      "metadata": {
        "colab": {
          "base_uri": "https://localhost:8080/"
        },
        "id": "FUpIENDKpLbw",
        "outputId": "2051317f-c706-4be7-fff5-db193a526633"
      },
      "source": [
        "f3 = lambda x: 1/(x*(np.log(x)))\n",
        "lb = 2\n",
        "ub = 3\n",
        "S = romberg(f3,lb,ub)\n",
        "print(S)\n",
        "err = abs(0.460-S)\n",
        "romberg_error.append(err)\n",
        "err"
      ],
      "execution_count": null,
      "outputs": [
        {
          "output_type": "stream",
          "text": [
            "0.46056074820071424\n"
          ],
          "name": "stdout"
        },
        {
          "output_type": "execute_result",
          "data": {
            "text/plain": [
              "0.0005607482007142228"
            ]
          },
          "metadata": {
            "tags": []
          },
          "execution_count": 17
        }
      ]
    },
    {
      "cell_type": "code",
      "metadata": {
        "id": "_1ppVzg10k7k",
        "colab": {
          "base_uri": "https://localhost:8080/"
        },
        "outputId": "7a113a07-16fd-413e-ba39-3d3ca0665d9f"
      },
      "source": [
        "f4 = lambda x: np.log(2*x)\n",
        "lb = 2\n",
        "ub = 5\n",
        "S = romberg(f4,lb,ub)\n",
        "print(S)\n",
        "err = abs(5.74-S)\n",
        "romberg_error.append(err)\n",
        "\n",
        "err"
      ],
      "execution_count": null,
      "outputs": [
        {
          "output_type": "stream",
          "text": [
            "5.740336742706072\n"
          ],
          "name": "stdout"
        },
        {
          "output_type": "execute_result",
          "data": {
            "text/plain": [
              "0.0003367427060716466"
            ]
          },
          "metadata": {
            "tags": []
          },
          "execution_count": 18
        }
      ]
    },
    {
      "cell_type": "code",
      "metadata": {
        "id": "ti-zR_UM9xIc",
        "colab": {
          "base_uri": "https://localhost:8080/"
        },
        "outputId": "8c23009a-df03-4c7d-c4f6-5fe17665e075"
      },
      "source": [
        "f5 = lambda x: np.cos(x)*np.sin(x)\n",
        "lb = 0\n",
        "ub = np.pi/4\n",
        "S = romberg(f5,lb,ub)\n",
        "print(S)\n",
        "err = abs(0.25-S)\n",
        "romberg_error.append(err)\n",
        "\n",
        "err"
      ],
      "execution_count": null,
      "outputs": [
        {
          "output_type": "stream",
          "text": [
            "0.24999999999950429\n"
          ],
          "name": "stdout"
        },
        {
          "output_type": "execute_result",
          "data": {
            "text/plain": [
              "4.957145804951324e-13"
            ]
          },
          "metadata": {
            "tags": []
          },
          "execution_count": 19
        }
      ]
    },
    {
      "cell_type": "code",
      "metadata": {
        "colab": {
          "base_uri": "https://localhost:8080/"
        },
        "id": "bLRkX3V3es4q",
        "outputId": "15a34c74-c1f1-4270-c73d-ceb07de06cc9"
      },
      "source": [
        "f6 = lambda x: np.sin(x**2)+2*np.sin(x)\n",
        "lb = 0\n",
        "ub = np.pi\n",
        "S = romberg(f6,lb,ub)\n",
        "print(S)\n",
        "err = abs(4.772-S)\n",
        "romberg_error.append(err)\n",
        "print(err)"
      ],
      "execution_count": null,
      "outputs": [
        {
          "output_type": "stream",
          "text": [
            "4.77265171261761\n",
            "0.0006517126176097676\n"
          ],
          "name": "stdout"
        }
      ]
    },
    {
      "cell_type": "code",
      "metadata": {
        "colab": {
          "base_uri": "https://localhost:8080/"
        },
        "id": "LCvoF8hnetj3",
        "outputId": "4d3fef18-2c48-4a78-aa51-9fcda00e068f"
      },
      "source": [
        "romberg_error"
      ],
      "execution_count": null,
      "outputs": [
        {
          "output_type": "execute_result",
          "data": {
            "text/plain": [
              "[0.0006666666668024845,\n",
              " 0.00014285714285711126,\n",
              " 0.0005607482007142228,\n",
              " 0.0003367427060716466,\n",
              " 4.957145804951324e-13,\n",
              " 0.0006517126176097676]"
            ]
          },
          "metadata": {
            "tags": []
          },
          "execution_count": 21
        }
      ]
    },
    {
      "cell_type": "markdown",
      "metadata": {
        "id": "mA0_fRDx5Jwq"
      },
      "source": [
        "## PART 2"
      ]
    },
    {
      "cell_type": "markdown",
      "metadata": {
        "id": "wvd7hOj05eo1"
      },
      "source": [
        "The equation the will be used are:\n",
        "$$\\int^{5}_0x^5 - 5x^4 +3x^3 + 2x + 5dx = 6247.916  \\\\ _{\\text{(Higher Order Polynomial)}}$$ $$ \\int^{0}_{-1}x^6 + 2xdx = -0.857 \\\\ _{\\text{(Higher Order Polynomial)}} $$ and $$\\int^{3}_{2}\\frac{1}{xlog_{10}x}dx = 0.460 \\\\ _{\\text{(Logarithmic Function)}}$$ $$ \\int^{5}_{2} log_{10}2xdx = 5.74 \\\\ _{\\text{(Logarithmic Function)}} $$ and $$ \\int^{\\frac{\\pi}{4}}_0 cos(x)sin(x)dx = 0.25 \\\\ _{\\text{(Trigonometric Function)}}$$ $$ \\int^{\\pi}_0sin(x^2)+2sin(x)dx = 4.772 \\\\ _{\\text{(Trigonometric Function)}}$$"
      ]
    },
    {
      "cell_type": "markdown",
      "metadata": {
        "id": "2GXtjmObINzJ"
      },
      "source": [
        "### Trapezoidal rule"
      ]
    },
    {
      "cell_type": "code",
      "metadata": {
        "id": "mGT2nng4HbHB"
      },
      "source": [
        "def trapz_rule(func,lb,ub,size):\n",
        "  h = (ub-lb)/size\n",
        "  return h*(0.5*(func(lb)+func(ub))+np.sum(func(lb+h*np.arange(1,size))))"
      ],
      "execution_count": null,
      "outputs": []
    },
    {
      "cell_type": "code",
      "metadata": {
        "id": "QR4IJZrCe3LD"
      },
      "source": [
        "trapz_error = []"
      ],
      "execution_count": null,
      "outputs": []
    },
    {
      "cell_type": "code",
      "metadata": {
        "colab": {
          "base_uri": "https://localhost:8080/"
        },
        "id": "eJgocjefI8O_",
        "outputId": "32ac5507-e639-444b-a5e2-5e53073704be"
      },
      "source": [
        "f1 = lambda x: x**5 + 5*x**4 + 3*x**3 + 2*x + 5 \n",
        "lb = 0\n",
        "ub = 5\n",
        "S = trapz_rule(f1,lb,ub,1e6)\n",
        "print(S)\n",
        "err = abs(6247.916-S)\n",
        "print(err)\n",
        "trapz_error.append(err)"
      ],
      "execution_count": null,
      "outputs": [
        {
          "output_type": "stream",
          "text": [
            "6247.916666678857\n",
            "0.0006666788567599724\n"
          ],
          "name": "stdout"
        }
      ]
    },
    {
      "cell_type": "code",
      "metadata": {
        "colab": {
          "base_uri": "https://localhost:8080/"
        },
        "id": "QTQFhJROe5Cx",
        "outputId": "35fe9901-e6f4-4f7d-e7f6-64ec78a77fe0"
      },
      "source": [
        "f2 = lambda x: x**6 + 2*x\n",
        "lb = -1\n",
        "ub = 0\n",
        "S = trapz_rule(f2,lb,ub,1e6)\n",
        "print(S)\n",
        "err = abs(-0.857-S)\n",
        "print(err)\n",
        "trapz_error.append(err)"
      ],
      "execution_count": null,
      "outputs": [
        {
          "output_type": "stream",
          "text": [
            "-0.857142857142357\n",
            "0.0001428571423570668\n"
          ],
          "name": "stdout"
        }
      ]
    },
    {
      "cell_type": "code",
      "metadata": {
        "colab": {
          "base_uri": "https://localhost:8080/"
        },
        "id": "gfIgF3rwe5_3",
        "outputId": "2365aa61-e963-4046-e6a9-0ec21886e623"
      },
      "source": [
        "f3 = lambda x: 1/(x*(np.log(x)))\n",
        "lb = 2\n",
        "ub = 3\n",
        "S = trapz_rule(f3,lb,ub,1e6)\n",
        "print(S)\n",
        "err = abs(0.460-S)\n",
        "print(err)\n",
        "trapz_error.append(err)"
      ],
      "execution_count": null,
      "outputs": [
        {
          "output_type": "stream",
          "text": [
            "0.4605607481984205\n",
            "0.000560748198420502\n"
          ],
          "name": "stdout"
        }
      ]
    },
    {
      "cell_type": "code",
      "metadata": {
        "id": "0tbT3yHKe66w",
        "colab": {
          "base_uri": "https://localhost:8080/"
        },
        "outputId": "f9a75fdc-13ed-4394-96dd-9b70d3e95f1f"
      },
      "source": [
        "f4 = lambda x:np.log(2*x)\n",
        "lb = 2\n",
        "ub = 5\n",
        "S = trapz_rule(f4,lb,ub,1e6)\n",
        "print(S)\n",
        "err = abs(5.74-S)\n",
        "print(err)\n",
        "trapz_error.append(err)"
      ],
      "execution_count": null,
      "outputs": [
        {
          "output_type": "stream",
          "text": [
            "5.740336742730222\n",
            "0.000336742730222106\n"
          ],
          "name": "stdout"
        }
      ]
    },
    {
      "cell_type": "code",
      "metadata": {
        "id": "wYlePWRCe8Cf",
        "colab": {
          "base_uri": "https://localhost:8080/"
        },
        "outputId": "f5ef818f-ebe1-4cd5-aecc-236b2ec2f531"
      },
      "source": [
        "f5 = lambda x: np.cos(x)*np.sin(x)\n",
        "lb = 0\n",
        "ub = np.pi/4\n",
        "S = trapz_rule(f5,lb,ub,1e6)\n",
        "print(S)\n",
        "err = abs(0.25-S)\n",
        "print(err)\n",
        "trapz_error.append(err)"
      ],
      "execution_count": null,
      "outputs": [
        {
          "output_type": "stream",
          "text": [
            "0.24999999999994854\n",
            "5.1458837191376006e-14\n"
          ],
          "name": "stdout"
        }
      ]
    },
    {
      "cell_type": "code",
      "metadata": {
        "id": "5t7KALQ1e9HU",
        "colab": {
          "base_uri": "https://localhost:8080/"
        },
        "outputId": "ecb3be82-6c9e-4709-e16f-4f0b799b9b77"
      },
      "source": [
        "f6 = lambda x: np.sin(x**2)+2*np.sin(x)\n",
        "lb = 0\n",
        "ub = np.pi\n",
        "S = trapz_rule(f6,lb,ub,1e6)\n",
        "print(S)\n",
        "err =abs(4.772-S)\n",
        "trapz_error.append(err)\n",
        "err\n"
      ],
      "execution_count": null,
      "outputs": [
        {
          "output_type": "stream",
          "text": [
            "4.77265171268211\n"
          ],
          "name": "stdout"
        },
        {
          "output_type": "execute_result",
          "data": {
            "text/plain": [
              "0.0006517126821101726"
            ]
          },
          "metadata": {
            "tags": []
          },
          "execution_count": 29
        }
      ]
    },
    {
      "cell_type": "code",
      "metadata": {
        "id": "QkN1BjR8e9x4",
        "colab": {
          "base_uri": "https://localhost:8080/"
        },
        "outputId": "464fda51-5802-4be9-8bb5-af6ae2a881ee"
      },
      "source": [
        "trapz_error"
      ],
      "execution_count": null,
      "outputs": [
        {
          "output_type": "execute_result",
          "data": {
            "text/plain": [
              "[0.0006666788567599724,\n",
              " 0.0001428571423570668,\n",
              " 0.000560748198420502,\n",
              " 0.000336742730222106,\n",
              " 5.1458837191376006e-14,\n",
              " 0.0006517126821101726]"
            ]
          },
          "metadata": {
            "tags": []
          },
          "execution_count": 30
        }
      ]
    },
    {
      "cell_type": "code",
      "metadata": {
        "colab": {
          "base_uri": "https://localhost:8080/"
        },
        "id": "kF49GWxEic6k",
        "outputId": "aad0f040-5380-460a-e209-566df8b99102"
      },
      "source": [
        "np.mean(trapz_error)"
      ],
      "execution_count": null,
      "outputs": [
        {
          "output_type": "execute_result",
          "data": {
            "text/plain": [
              "0.0003931232683202131"
            ]
          },
          "metadata": {
            "tags": []
          },
          "execution_count": 31
        }
      ]
    },
    {
      "cell_type": "markdown",
      "metadata": {
        "id": "i5rFYrJUVfaE"
      },
      "source": [
        "### Simpson's 1/3 Rule"
      ]
    },
    {
      "cell_type": "code",
      "metadata": {
        "id": "Op9BgTQxVo5R"
      },
      "source": [
        "simpperror = []"
      ],
      "execution_count": null,
      "outputs": []
    },
    {
      "cell_type": "code",
      "metadata": {
        "id": "A5H41z2nVsoI"
      },
      "source": [
        "def simp_13(func,lb,ub,divs):\n",
        "  h = (ub-lb)/divs\n",
        "  A = (func(lb)+func(ub))+ \\\n",
        "            np.sum(4*func(lb+h*np.arange(1,divs,2)))+ \\\n",
        "            np.sum(2*func(lb+h*np.arange(2,divs,2)))\n",
        "  S = (h/3)*A\n",
        "  return S"
      ],
      "execution_count": null,
      "outputs": []
    },
    {
      "cell_type": "code",
      "metadata": {
        "id": "I6DsQty3Vzk3"
      },
      "source": [
        "f1 = lambda x: x**5 + 5*x**4 + 3*x**3 + 2*x + 5 \n",
        "sum = simp_13(f1, 0,5,1e4)\n",
        "error = (abs((6247.916)-(sum)))\n",
        "simpperror.append(error)"
      ],
      "execution_count": null,
      "outputs": []
    },
    {
      "cell_type": "code",
      "metadata": {
        "id": "5wiHaD4CWimt"
      },
      "source": [
        "f2 = lambda x: x**6 + 2*x\n",
        "sum = simp_13(f2, -1,0,1e4)\n",
        "error = (abs((-0.857)-(sum)))\n",
        "simpperror.append(error)"
      ],
      "execution_count": null,
      "outputs": []
    },
    {
      "cell_type": "code",
      "metadata": {
        "id": "TtWeawpnWs8f"
      },
      "source": [
        "f3 = lambda x: 1/(x*(np.log(x)))\n",
        "sum = simp_13(f3,2,3,1e4)\n",
        "error = (abs((0.460)-(sum)))\n",
        "simpperror.append(error)"
      ],
      "execution_count": null,
      "outputs": []
    },
    {
      "cell_type": "code",
      "metadata": {
        "id": "IlEeUNcXXlhz"
      },
      "source": [
        "f4 = lambda x: np.log(2*x)\n",
        "sum = simp_13(f4,2,5,1e4)\n",
        "error = (abs((5.74)-(sum)))\n",
        "simpperror.append(error)"
      ],
      "execution_count": null,
      "outputs": []
    },
    {
      "cell_type": "code",
      "metadata": {
        "id": "lDpAGpwtYKMt"
      },
      "source": [
        "f5 = lambda x: np.cos(x)*np.sin(x) \n",
        "sum = simp_13(f5,0,np.pi/4,1e4)\n",
        "error = (abs((0.25)-(sum)))\n",
        "simpperror.append(error)"
      ],
      "execution_count": null,
      "outputs": []
    },
    {
      "cell_type": "code",
      "metadata": {
        "id": "2s8ZV6nLYVeV"
      },
      "source": [
        "f6 = lambda x: np.sin(x**2)+2*np.sin(x)\n",
        "sum = simp_13(f6,0,np.pi,1e4)\n",
        "error = (abs((4.772)-(sum)))\n",
        "simpperror.append(error)"
      ],
      "execution_count": null,
      "outputs": []
    },
    {
      "cell_type": "code",
      "metadata": {
        "colab": {
          "base_uri": "https://localhost:8080/"
        },
        "id": "ELHb76p7YiBN",
        "outputId": "708fbac7-628e-4d60-c9d8-1b1307abb6a5"
      },
      "source": [
        "print(simpperror)\n"
      ],
      "execution_count": null,
      "outputs": [
        {
          "output_type": "stream",
          "text": [
            "[0.0006666666658929898, 0.00014285714285722229, 0.0005607481983633256, 0.00033674273044681513, 0.0, 0.0006517126900789094]\n"
          ],
          "name": "stdout"
        }
      ]
    },
    {
      "cell_type": "code",
      "metadata": {
        "colab": {
          "base_uri": "https://localhost:8080/"
        },
        "id": "hy8U4sE4Yn8M",
        "outputId": "e10bcf5b-66b3-444a-f4ed-24cb713f0395"
      },
      "source": [
        "np.mean(simpperror)"
      ],
      "execution_count": null,
      "outputs": [
        {
          "output_type": "execute_result",
          "data": {
            "text/plain": [
              "0.000393121237939877"
            ]
          },
          "metadata": {
            "tags": []
          },
          "execution_count": 41
        }
      ]
    },
    {
      "cell_type": "markdown",
      "metadata": {
        "id": "YPEQxdsQJax6"
      },
      "source": [
        "### Simpson's 3/8 Rule"
      ]
    },
    {
      "cell_type": "code",
      "metadata": {
        "id": "pT_BkoaBRryB"
      },
      "source": [
        "simperror = []"
      ],
      "execution_count": null,
      "outputs": []
    },
    {
      "cell_type": "code",
      "metadata": {
        "id": "e5Hll52WJhqB"
      },
      "source": [
        "def simp_38(func,lb,ub,divs):\n",
        "  h = (ub-lb)/divs\n",
        "  A = (func(lb)+func(ub))+ \\\n",
        "            np.sum(3*(func(lb+h*np.arange(1,divs,3))))+ \\\n",
        "            np.sum(3*(func(lb+h*np.arange(2,divs,3))))+ \\\n",
        "            np.sum(2*func(lb+h*np.arange(3,divs,3)))\n",
        "  S = (3*h/8)*A\n",
        "  return S"
      ],
      "execution_count": null,
      "outputs": []
    },
    {
      "cell_type": "code",
      "metadata": {
        "id": "lANRdffCJkcf"
      },
      "source": [
        "f1 = lambda x: x**5 + 5*x**4 + 3*x**3 + 2*x + 5 \n",
        "sum = simp_38(f1, 0,5,1e4)\n",
        "error = (abs((6247.916)-(sum)))\n",
        "simperror.append(error)\n",
        "#print(\"Error:\",error)"
      ],
      "execution_count": null,
      "outputs": []
    },
    {
      "cell_type": "code",
      "metadata": {
        "id": "Rfl58iazKsg6"
      },
      "source": [
        "f2 = lambda x: x**6 + 2*x\n",
        "sum = simp_38(f2, -1,0,1e4)\n",
        "error = (abs((-0.857)-(sum)))\n",
        "simperror.append(error)\n",
        "#print(\"Error:\",error)"
      ],
      "execution_count": null,
      "outputs": []
    },
    {
      "cell_type": "code",
      "metadata": {
        "id": "cp5x-b1xMaeD"
      },
      "source": [
        "f3 = lambda x: 1/(x*(np.log(x)))\n",
        "sum = simp_38(f3,2,3,1e4)\n",
        "error = (abs((0.460)-(sum)))\n",
        "simperror.append(error)\n",
        "#print(\"Error:\",error)"
      ],
      "execution_count": null,
      "outputs": []
    },
    {
      "cell_type": "code",
      "metadata": {
        "id": "Ynn8Wa07NWcL"
      },
      "source": [
        "f4 = lambda x: np.log(2*x)\n",
        "sum = simp_38(f4,2,5,1e4)\n",
        "error = (abs((5.74)-(sum)))\n",
        "simperror.append(error)\n",
        "#print(\"Error:\",error)"
      ],
      "execution_count": null,
      "outputs": []
    },
    {
      "cell_type": "code",
      "metadata": {
        "id": "QUlN248pNzh8"
      },
      "source": [
        "f5 = lambda x: np.cos(x)*np.sin(x) \n",
        "sum = simp_38(f5,0,np.pi/4,1e4)\n",
        "error = (abs((0.25)-(sum)))\n",
        "simperror.append(error)\n",
        "#print(\"Error:\",error)"
      ],
      "execution_count": null,
      "outputs": []
    },
    {
      "cell_type": "code",
      "metadata": {
        "id": "wLpdXD8JOTWu"
      },
      "source": [
        "f6 = lambda x: np.sin(x**2)+2*np.sin(x)\n",
        "sum = simp_38(f6,0,np.pi,1e4)\n",
        "error = (abs((4.772)-(sum)))\n",
        "simperror.append(error)\n",
        "#print(\"Error:\",error)"
      ],
      "execution_count": null,
      "outputs": []
    },
    {
      "cell_type": "code",
      "metadata": {
        "colab": {
          "base_uri": "https://localhost:8080/"
        },
        "id": "BIxYkp2GSMUR",
        "outputId": "198d9902-9b79-4cec-95a8-b17ed817906b"
      },
      "source": [
        "print(simperror)"
      ],
      "execution_count": null,
      "outputs": [
        {
          "output_type": "stream",
          "text": [
            "[0.8291504476819682, 0.00014285464285701543, 0.0005531626299827286, 0.00016405109844974675, 9.817477062690205e-06, 0.0006854138321159553]\n"
          ],
          "name": "stdout"
        }
      ]
    },
    {
      "cell_type": "code",
      "metadata": {
        "colab": {
          "base_uri": "https://localhost:8080/"
        },
        "id": "MZdrovJ8R_4k",
        "outputId": "98ff2986-5484-447d-b0b3-a0a72b5589dd"
      },
      "source": [
        "np.mean(simperror)"
      ],
      "execution_count": null,
      "outputs": [
        {
          "output_type": "execute_result",
          "data": {
            "text/plain": [
              "0.1384509578937394"
            ]
          },
          "metadata": {
            "tags": []
          },
          "execution_count": 51
        }
      ]
    },
    {
      "cell_type": "markdown",
      "metadata": {
        "id": "mF_vz4r2a0Tv"
      },
      "source": [
        "### Monte Carlo Integration"
      ]
    },
    {
      "cell_type": "code",
      "metadata": {
        "id": "iU7P-LtLcWyG"
      },
      "source": [
        "def monte_carlo(f,a,b,n,f_s):\n",
        "  samples = np.random.uniform(a,b,int(n)) \n",
        "  mean = np.mean(f(samples))\n",
        "  S = (b-a)*mean # formula\n",
        "  errors = (abs((f_s)-(S))) # errors formula\n",
        "  return S, errors"
      ],
      "execution_count": null,
      "outputs": []
    },
    {
      "cell_type": "code",
      "metadata": {
        "id": "QAzh-wAudAxR",
        "colab": {
          "base_uri": "https://localhost:8080/"
        },
        "outputId": "544ae6e6-b530-48e2-f697-16193b575da8"
      },
      "source": [
        "f1 = lambda x: x**5 + 5*x**4 + 3*x**3 + 2*x + 5 \n",
        "lb = 0\n",
        "ub = 5\n",
        "monte_carlo(f1,lb,ub,1000,6247.916)"
      ],
      "execution_count": null,
      "outputs": [
        {
          "output_type": "execute_result",
          "data": {
            "text/plain": [
              "(6079.108678183826, 168.8073218161744)"
            ]
          },
          "metadata": {
            "tags": []
          },
          "execution_count": 53
        }
      ]
    },
    {
      "cell_type": "code",
      "metadata": {
        "id": "W2ApjFusdCl3",
        "colab": {
          "base_uri": "https://localhost:8080/"
        },
        "outputId": "067964f0-5e54-4f57-c0a4-00adc9823c8b"
      },
      "source": [
        "f2 = lambda x: x**6 + 2*x\n",
        "lb = -1\n",
        "ub = 0\n",
        "monte_carlo(f2,lb,ub,1000,-0.857)"
      ],
      "execution_count": null,
      "outputs": [
        {
          "output_type": "execute_result",
          "data": {
            "text/plain": [
              "(-0.8622243334848073, 0.005224333484807331)"
            ]
          },
          "metadata": {
            "tags": []
          },
          "execution_count": 54
        }
      ]
    },
    {
      "cell_type": "code",
      "metadata": {
        "id": "DwN3YgyYiIE7",
        "colab": {
          "base_uri": "https://localhost:8080/"
        },
        "outputId": "2c1083f0-6411-4382-ebbd-f6029921bf6e"
      },
      "source": [
        "f3 = lambda x: 1/(x*(np.log(x)))\n",
        "lb = 2\n",
        "ub = 3\n",
        "monte_carlo(f3,lb,ub,1000,0.460)"
      ],
      "execution_count": null,
      "outputs": [
        {
          "output_type": "execute_result",
          "data": {
            "text/plain": [
              "(0.45954175565660105, 0.00045824434339897246)"
            ]
          },
          "metadata": {
            "tags": []
          },
          "execution_count": 55
        }
      ]
    },
    {
      "cell_type": "code",
      "metadata": {
        "id": "5Y1HnqkMiJhm",
        "colab": {
          "base_uri": "https://localhost:8080/"
        },
        "outputId": "217e409a-2b51-45c9-cf10-8d0233627211"
      },
      "source": [
        "f4 = lambda x: np.log(2*x)\n",
        "lb = 2\n",
        "ub = 5\n",
        "monte_carlo(f4,lb,ub,1000,5.74)"
      ],
      "execution_count": null,
      "outputs": [
        {
          "output_type": "execute_result",
          "data": {
            "text/plain": [
              "(5.711984632790175, 0.028015367209825115)"
            ]
          },
          "metadata": {
            "tags": []
          },
          "execution_count": 56
        }
      ]
    },
    {
      "cell_type": "code",
      "metadata": {
        "id": "5uATxvgWiJf7",
        "colab": {
          "base_uri": "https://localhost:8080/"
        },
        "outputId": "2a1248e5-905b-48ed-faa6-d0b4ed8038d0"
      },
      "source": [
        "f5 = lambda x: np.cos(x)*np.sin(x) \n",
        "lb = 0\n",
        "ub = np.pi/4\n",
        "monte_carlo(f5,lb,ub,1000,0.25)"
      ],
      "execution_count": null,
      "outputs": [
        {
          "output_type": "execute_result",
          "data": {
            "text/plain": [
              "(0.24290308363978114, 0.007096916360218863)"
            ]
          },
          "metadata": {
            "tags": []
          },
          "execution_count": 57
        }
      ]
    },
    {
      "cell_type": "code",
      "metadata": {
        "id": "oOZBIn_ViK6l",
        "colab": {
          "base_uri": "https://localhost:8080/"
        },
        "outputId": "4b291048-fb39-4067-cfbd-95c9d8e9524c"
      },
      "source": [
        "f6 = lambda x: np.sin(x**2)+2*np.sin(x)\n",
        "lb = 0\n",
        "ub = np.pi\n",
        "monte_carlo(f6,lb,ub,1000,4.772)"
      ],
      "execution_count": null,
      "outputs": [
        {
          "output_type": "execute_result",
          "data": {
            "text/plain": [
              "(4.758406943764319, 0.013593056235681189)"
            ]
          },
          "metadata": {
            "tags": []
          },
          "execution_count": 58
        }
      ]
    },
    {
      "cell_type": "markdown",
      "metadata": {
        "id": "shdHmqRflhYp"
      },
      "source": [
        "The error was computed after implementing the trapezoidal, Simpson's 1/3, Simpson's 3/8, and Monte Carlo integration techniques with the 6 sample cases provided by the authors. The trapezoidal and Simpson's 1/3 both have 0.0003 mean errors while the Simpson's 3/8 has 0.1385 mean error. With these data, it can be concluded that the trapezoidal and Simpson's 1/3 is better than Simpson's 3/8 in solving the specific set of functions provided by the authors in this module. Meanwhile, the Monte Carlo Integration has an inconsistent error values since it uses random sampling to produce its samples. It needs to have a significant amount of iteration to determine its theoretical value since it follows the law of large numbers."
      ]
    },
    {
      "cell_type": "markdown",
      "metadata": {
        "id": "YHQG3p29cMfg"
      },
      "source": [
        "## PART 3"
      ]
    },
    {
      "cell_type": "markdown",
      "metadata": {
        "id": "4sR04PSEbyWi"
      },
      "source": [
        "### Simpson's 3/8 Rule\n",
        "\n"
      ]
    },
    {
      "cell_type": "code",
      "metadata": {
        "id": "DUSSEpL8yqTC"
      },
      "source": [
        "def simp_38(func,lb,ub,divs):\n",
        "  h = (ub-lb)/divs\n",
        "  A = (func(lb)+func(ub))+ \\\n",
        "            np.sum(3*(func(lb+h*np.arange(1,divs,3))))+ \\\n",
        "            np.sum(3*(func(lb+h*np.arange(2,divs,3))))+ \\\n",
        "            np.sum(2*func(lb+h*np.arange(3,divs,3)))\n",
        "  S = (3*h/8)*A\n",
        "  return S"
      ],
      "execution_count": null,
      "outputs": []
    },
    {
      "cell_type": "code",
      "metadata": {
        "colab": {
          "base_uri": "https://localhost:8080/",
          "height": 282
        },
        "id": "XyRCPvpSyQCD",
        "outputId": "93c105dd-2185-4f7f-d696-fb5940e1dbb4"
      },
      "source": [
        "import matplotlib.pyplot as plt\n",
        "divs = 2e4\n",
        "sumresults = []\n",
        "allerrors = []\n",
        "for i in range (0,100):\n",
        "  divs -=100\n",
        "  f = lambda x: 6*x**2-5*x+2\n",
        "  sum = simp_38(f,-3,1,divs)\n",
        "  sumresults.append(sum)\n",
        "\n",
        "for i in sumresults:\n",
        "  errors = (abs((84)-(i)))\n",
        "  allerrors.append(errors)\n",
        "\n",
        "x_range = np.arange(0,100)\n",
        "y_range = allerrors\n",
        "plt.plot(x_range,y_range)\n"
      ],
      "execution_count": null,
      "outputs": [
        {
          "output_type": "execute_result",
          "data": {
            "text/plain": [
              "[<matplotlib.lines.Line2D at 0x7f0742150e90>]"
            ]
          },
          "metadata": {
            "tags": []
          },
          "execution_count": 60
        },
        {
          "output_type": "display_data",
          "data": {
            "image/png": "[encoded data removed]",
            "text/plain": [
              "<Figure size 432x288 with 1 Axes>"
            ]
          },
          "metadata": {
            "tags": [],
            "needs_background": "light"
          }
        }
      ]
    },
    {
      "cell_type": "markdown",
      "metadata": {
        "id": "ZkyvFVYTyylx"
      },
      "source": [
        "The Figure above shows that with a arbitrary large number equals to 20000 for a bin at first iteration, the smallest error can be observed and by decreasing it by 100 every iteration, it can be observed that the error gets high also and this can be related to law of big number in where stated that the higher number of samples results to getting more closer into theoretical value [3]. Therefore, the first iteration have the smallest error since this is where higher number of bin or sample in statistical term located in all iteration while in the 100th iteration, the bin has a value of 10000 and this results to higher error compare to first iteration."
      ]
    },
    {
      "cell_type": "markdown",
      "metadata": {
        "id": "p0QJxAQ0EFRY"
      },
      "source": [
        "### Monte Carlo Simulation"
      ]
    },
    {
      "cell_type": "code",
      "metadata": {
        "id": "qlt1tWe3EN1i"
      },
      "source": [
        "import numpy as np\n",
        "import matplotlib.pyplot as plt"
      ],
      "execution_count": null,
      "outputs": []
    },
    {
      "cell_type": "markdown",
      "metadata": {
        "id": "19acgam2ESqt"
      },
      "source": [
        "The equation that will be used:\n",
        "$$\\int^{1}_{-3}(6x^2 - 5x +2)dx = 84 $$\n"
      ]
    },
    {
      "cell_type": "code",
      "metadata": {
        "id": "VQwdC0ulETyk"
      },
      "source": [
        "def monte_carlo(f,a,b,n,f_s):\n",
        "  \n",
        "  S_results = [] \n",
        "  all_errors = [] \n",
        " \n",
        "  for i in range(0,1500): # for loop that appends in the S_results\n",
        "    n += 100 # increase sample size\n",
        "    samples = np.random.uniform(a,b,int(n)) \n",
        "    mean = np.mean(f(samples))\n",
        "    S = (b-a)*mean # formula \n",
        "    S_results.append(S)\n",
        "\n",
        "  for i in S_results: # for loop that appends in all_errors\n",
        "    errors = (abs((f_s)-(i))) # errors formula\n",
        "    all_errors.append(errors)\n",
        "\n",
        "  x_range = np.arange(0,1500) \n",
        "\n",
        "  y_range_errors = all_errors # y of all_errors\n",
        "\n",
        "  y_range_S = S_results # y of S_results\n",
        "\n",
        "  fig, axs = plt.subplots(2, 1) # creates subplots\n",
        "  axs[0].plot(x_range, y_range_errors) # plotting errors\n",
        "  axs[0].set_title(\"Errors\") \n",
        "  axs[1].plot(x_range, y_range_S) # plotting average\n",
        "  axs[1].set_title(\"Average\")\n",
        "\n",
        "  fig.tight_layout() # adjusts spacing between subplots\n",
        "  plt.show()"
      ],
      "execution_count": null,
      "outputs": []
    },
    {
      "cell_type": "code",
      "metadata": {
        "id": "Cra34V0pEXOw",
        "colab": {
          "base_uri": "https://localhost:8080/",
          "height": 297
        },
        "outputId": "8ef45dda-a324-4bad-df98-5359c2653e2a"
      },
      "source": [
        "f = lambda x: 6*x**2-5*x+2 # function\n",
        "a = -3 # lower bound\n",
        "b = 1 # upper bound\n",
        "n = 100 # sample size\n",
        "f_s = 84 # theoretical value\n",
        "monte_carlo(f,a,b,n,f_s)"
      ],
      "execution_count": null,
      "outputs": [
        {
          "output_type": "display_data",
          "data": {
            "image/png": "[encoded data removed]",
            "text/plain": [
              "<Figure size 432x288 with 2 Axes>"
            ]
          },
          "metadata": {
            "tags": [],
            "needs_background": "light"
          }
        }
      ]
    },
    {
      "cell_type": "markdown",
      "metadata": {
        "id": "UN5N1O_MEac6"
      },
      "source": [
        "The Monte Carlo method uses random sampling to solve statistical problems. This is the reason why np.random.uniform() was used to create the samples. In order to decrease the size of its errors, the law of big numbers will be used by running the Monte Carlo simulation for 1500 iterations while increasing the sample sizes by a factor of 100. The law of big numbers states that performing the same experiment a large number of times will yield a result closer to the expected value as more trials are performed [4]. Based on the results of the 1st graph titled \"Errors\", it can be seen that as the trials increases, the errors decreases as well. For the 2nd graph titled \"Average\", the law of big numbers can be seen where as the trials increase, the result comes closer to the theoretical value which is 84."
      ]
    },
    {
      "cell_type": "markdown",
      "metadata": {
        "id": "8GZbNOSzFC4d"
      },
      "source": [
        "##References\n",
        "[1] SciPy (2021) [**Scipy Source Code**](https://github.com/scipy/scipy/blob/v1.6.3/scipy/integrate/quadpack.py#L49-L442) \\\\\n",
        "[2] Florida State University (2010) [***QUADPACK Numerical Integration***](https://people.sc.fsu.edu/~jburkardt/f77_src/quadpack/quadpack.html) \\\\\n",
        "[3] Siegrist (2021) [***The Law of Large Numbers***](https://stats.libretexts.org/Bookshelves/Probability_Theory/Book%3A_Probability_Mathematical_Statistics_and_Stochastic_Processes_(Siegrist)/06%3A_Random_Samples/6.03%3A_The_Law_of_Large_Numbers) \\\\\n",
        "[4] Michael, Dekking (2005) [***A modern introduction to probability and statistics : understanding why and how***](https://archive.org/details/modernintroducti00fmde)"
      ]
    },
    {
      "cell_type": "code",
      "metadata": {
        "id": "VtvXFX3P1ipF"
      },
      "source": [
        ""
      ],
      "execution_count": null,
      "outputs": []
    }
  ]
}