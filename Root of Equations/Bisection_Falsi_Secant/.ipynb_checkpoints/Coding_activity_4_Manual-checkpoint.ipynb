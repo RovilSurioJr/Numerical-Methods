{
 "cells": [
  {
   "cell_type": "markdown",
   "metadata": {
    "colab_type": "text",
    "id": "view-in-github"
   },
   "source": [
    "<a href=\"https://colab.research.google.com/github/RovilSurioJr/Numerical-Methods/blob/master/Root of Equations/Bisection_Falsi_Secant/Coding_activity_4_Manual.ipynb\" target=\"_parent\"><img src=\"https://colab.research.google.com/assets/colab-badge.svg\" alt=\"Open In Colab\"/></a>"
   ]
  },
  {
   "cell_type": "markdown",
   "metadata": {
    "id": "NjznfZMlAOet"
   },
   "source": [
    "## Installing Lemon Package"
   ]
  },
  {
   "cell_type": "markdown",
   "metadata": {
    "id": "Zm7lpoglASQP"
   },
   "source": [
    "1.) Download the lemon package in the GitHub Repository provided. [***Lemon Package***](https://github.com/RovilSurioJr/Numerical-Methods/blob/master/Root%20of%20Equations/Bisection_Falsi_Secant/lemon_package.7z)\r\n",
    " \r\n",
    "2.) Install the lemon package in the directory, Python\\Lib\\site-packages\r\n",
    " \r\n",
    "![image](https://raw.githubusercontent.com/RovilSurioJr/Numerical-Methods/master/Root%20of%20Equations/Images/directory.jpg)\r\n",
    "\r\n",
    "3.) Once the lemon package is installed, the lemon modules can now be used. \r\n",
    " \r\n",
    "4.) To find the roots using the lemon modules, open the Python IDLE first.\r\n",
    " \r\n",
    "![image](https://raw.githubusercontent.com/RovilSurioJr/Numerical-Methods/master/Root%20of%20Equations/Images/Python%20IDLE.jpg)\r\n",
    " \r\n"
   ]
  },
  {
   "cell_type": "markdown",
   "metadata": {
    "id": "05_96BDOAVoe"
   },
   "source": [
    "##Using Bisection"
   ]
  },
  {
   "cell_type": "markdown",
   "metadata": {
    "id": "nAj3a6K9A_Ar"
   },
   "source": [
    "1.) Import the necessary packages such as NumPy and Lemon Package.\r\n",
    "\r\n",
    "![image](https://raw.githubusercontent.com/RovilSurioJr/Numerical-Methods/master/Root%20of%20Equations/Images/bisection/import.jpg)\r\n",
    "\r\n",
    "\r\n",
    "2.) Provide a function where the root will be found and provide the necessary parameters of the Bisection module. Try different intervals to find the most roots. Lastly, call the bisection method to output the roots of the function provided.\r\n",
    "\r\n",
    "![image](https://raw.githubusercontent.com/RovilSurioJr/Numerical-Methods/master/Root%20of%20Equations/Images/bisection/output.jpg)\r\n"
   ]
  },
  {
   "cell_type": "markdown",
   "metadata": {
    "id": "_g6-cUMTCD5d"
   },
   "source": [
    "##Using Falsi"
   ]
  },
  {
   "cell_type": "markdown",
   "metadata": {
    "id": "6Splm5bqCETp"
   },
   "source": [
    "1.) Import the necessary packages such as NumPy and Lemon Package.\r\n",
    "\r\n",
    "![image](https://raw.githubusercontent.com/RovilSurioJr/Numerical-Methods/master/Root%20of%20Equations/Images/falsi/import.jpg)\r\n",
    "\r\n",
    "2.) Provide a function where the root will be found and provide the necessary parameters of the Falsi module. Try different intervals to find the most roots. \r\n",
    "Lastly, call the Falsi method to output the roots of the function provided.\r\n",
    "\r\n",
    "![image](https://raw.githubusercontent.com/RovilSurioJr/Numerical-Methods/master/Root%20of%20Equations/Images/falsi/output.jpg)\r\n"
   ]
  },
  {
   "cell_type": "markdown",
   "metadata": {
    "id": "rSsZTvumCfia"
   },
   "source": [
    "## Using Secant"
   ]
  },
  {
   "cell_type": "markdown",
   "metadata": {
    "id": "IpopHSRWC5jW"
   },
   "source": [
    "1.) Import the necessary packages such as NumPy and Lemon Package.\r\n",
    "\r\n",
    "![image](https://raw.githubusercontent.com/RovilSurioJr/Numerical-Methods/master/Root%20of%20Equations/Images/secant/import.jpg)\r\n",
    "\r\n",
    "2.) Provide a function where the root will be found and provide the necessary parameters of the Secant module. Try different intervals to find the most roots. Lastly, call the Secant method to output the roots of the function provided.\r\n",
    "\r\n",
    "![image](https://raw.githubusercontent.com/RovilSurioJr/Numerical-Methods/master/Root%20of%20Equations/Images/secant/output.jpg)"
   ]
  },
  {
   "cell_type": "markdown",
   "metadata": {
    "id": "pZiU1UeRCto_"
   },
   "source": [
    "##Documentation of the Lemon Modules"
   ]
  },
  {
   "cell_type": "markdown",
   "metadata": {
    "id": "GW7rc_hKC2i2"
   },
   "source": [
    "To know more about the uses and syntax of the brute force and newton-rhapson module. Check its documentation in the link provided. [***Python Package Manual***](https://github.com/RovilSurioJr/Numerical-Methods/blob/master/Root%20of%20Equations/Lemon%20Package%20Manual/Lemon%20Package%20Manual.pdf)"
   ]
  }
 ],
 "metadata": {
  "colab": {
   "collapsed_sections": [],
   "include_colab_link": true,
   "name": "Coding_activity_4_Manual",
   "provenance": []
  },
  "kernelspec": {
   "display_name": "Python 3",
   "language": "python",
   "name": "python3"
  },
  "language_info": {
   "codemirror_mode": {
    "name": "ipython",
    "version": 3
   },
   "file_extension": ".py",
   "mimetype": "text/x-python",
   "name": "python",
   "nbconvert_exporter": "python",
   "pygments_lexer": "ipython3",
   "version": "3.8.3"
  }
 },
 "nbformat": 4,
 "nbformat_minor": 4
}
