{
 "cells": [
  {
   "cell_type": "markdown",
   "metadata": {
    "colab_type": "text",
    "id": "view-in-github"
   },
   "source": [
    "<a href=\"https://colab.research.google.com/github/RovilSurioJr/Numerical-Methods/blob/master/Root of Equations/Bisection_Falsi_Secant/Coding_Activity_4_Methods.ipynb\" target=\"_parent\"><img src=\"https://colab.research.google.com/assets/colab-badge.svg\" alt=\"Open In Colab\"/></a>"
   ]
  },
  {
   "cell_type": "markdown",
   "metadata": {
    "id": "MnylzkdgQ1Vx"
   },
   "source": [
    "### Bisection Method"
   ]
  },
  {
   "cell_type": "code",
   "execution_count": 2,
   "metadata": {
    "id": "YSpV7Gr3RT0F"
   },
   "outputs": [],
   "source": [
    "import numpy as np"
   ]
  },
  {
   "cell_type": "code",
   "execution_count": 7,
   "metadata": {
    "colab": {
     "base_uri": "https://localhost:8080/"
    },
    "id": "64Uxr0u5Q7VO",
    "outputId": "fc25ca00-c545-47cf-e74e-544ea9d8d3fe"
   },
   "outputs": [
    {
     "name": "stdout",
     "output_type": "stream",
     "text": [
      "The roots are [-2.5   -1.732  1.     1.732], at bisection: 0 \n"
     ]
    }
   ],
   "source": [
    "def bisection(func,i1,i2,n_roots,epochs,n_move,tol = 1.0e-06):\r\n",
    "  x_roots = []\r\n",
    "  fpoint = []\r\n",
    "  spoint = []\r\n",
    "  \r\n",
    "  for i in range(n_move): #Moving intervals\r\n",
    "    i1+=0.25\r\n",
    "    i2+=0.25\r\n",
    "    fpoint.append(i1)\r\n",
    "    spoint.append(i2)\r\n",
    "  \r\n",
    "  for (i1,i2) in zip (fpoint,spoint):\r\n",
    "    y1, y2 = func(i1), func(i2)\r\n",
    "    root = None\r\n",
    "    end_bisect = 0\r\n",
    "    if np.sign(y1) == np.sign(y2):\r\n",
    "      pass #Root are not in this interval\r\n",
    "    else:\r\n",
    "      for bisect in range(epochs):\r\n",
    "        midp = np.mean([i1,i2])\r\n",
    "        y_mid = func(midp)\r\n",
    "        y1 = func(i1)\r\n",
    "        if np.allclose(0,y1, tol):\r\n",
    "          root = i1\r\n",
    "          x_roots.append(root)\r\n",
    "          final_roots = np.unique(np.around(x_roots,3))\r\n",
    "          final_roots = final_roots[:n_roots]\r\n",
    "          end_bisect = bisect\r\n",
    "          break\r\n",
    "        if np.sign(y1) != np.sign(y_mid): #root is in first-half interval\r\n",
    "          i2 = midp\r\n",
    "        else: #root is in second-half interval\r\n",
    "          i1 = midp \r\n",
    "\r\n",
    "  return final_roots,end_bisect\r\n",
    "  \r\n",
    "func = lambda x: 2*x**4 + 3*x**3 - 11*x**2 - 9*x + 15  \r\n",
    "root,end_bisect = bisection(func,i1 = -10,i2 = 1,n_roots = 5,epochs = 100,n_move = 50,tol = 1.0e-06) \r\n",
    "print(\"The roots are {}, at bisection: {} \".format(root,end_bisect))"
   ]
  },
  {
   "cell_type": "markdown",
   "metadata": {
    "id": "xw_zi64IS72f"
   },
   "source": [
    "### Regula Falsi Method"
   ]
  },
  {
   "cell_type": "code",
   "execution_count": 8,
   "metadata": {
    "colab": {
     "base_uri": "https://localhost:8080/"
    },
    "id": "-vTIcOrZRzve",
    "outputId": "bb464604-4010-47ad-9c77-4d689558e20b"
   },
   "outputs": [
    {
     "name": "stdout",
     "output_type": "stream",
     "text": [
      "Root are not in this interval\n",
      "Root are not in this interval\n",
      "Root are not in this interval\n",
      "Root are not in this interval\n",
      "Root are not in this interval\n",
      "Root are not in this interval\n",
      "Root are not in this interval\n",
      "Root are not in this interval\n",
      "Root are not in this interval\n",
      "Root are not in this interval\n",
      "Root are not in this interval\n",
      "Root are not in this interval\n",
      "Root are not in this interval\n",
      "Root are not in this interval\n",
      "Root are not in this interval\n",
      "Root are not in this interval\n",
      "Root are not in this interval\n",
      "Root are not in this interval\n",
      "Root are not in this interval\n",
      "Root are not in this interval\n",
      "Root are not in this interval\n",
      "Root are not in this interval\n",
      "Root are not in this interval\n",
      "Root are not in this interval\n",
      "Root are not in this interval\n",
      "Root are not in this interval\n",
      "Root are not in this interval\n",
      "The roots are [0.25 3.85], at pos: 0 \n"
     ]
    }
   ],
   "source": [
    "def falsi(func,a,b,n_roots,epochs,n_move,tol = 1.0e-06):\r\n",
    "  x_roots = []\r\n",
    "  fpoint = []\r\n",
    "  spoint = []\r\n",
    " \r\n",
    "  for i in range(n_move):\r\n",
    "    a+=0.25\r\n",
    "    b+=0.25\r\n",
    "    fpoint.append(a)\r\n",
    "    spoint.append(b)\r\n",
    "  for (a,b) in zip (fpoint,spoint):\r\n",
    "    y1, y2 = func(a), func(b)\r\n",
    "    root = None \r\n",
    "    pos = 0\r\n",
    "    if np.allclose(0,y1): root = a\r\n",
    "    elif np.allclose(0,y2): root = b\r\n",
    "    elif np.sign(y1) == np.sign(y2):\r\n",
    "      print(\"Root are not in this interval\")\r\n",
    "    else:\r\n",
    "      for pos in range(epochs):\r\n",
    "        c = b - (func(b)*(b-a))/(func(b)-func(a)) ##false root\r\n",
    "        if np.allclose(0,func(c), tol):\r\n",
    "          root = c\r\n",
    "          x_roots.append(root)\r\n",
    "          final_roots = np.unique(np.around(x_roots,3))\r\n",
    "          final_roots = final_roots[:n_roots]\r\n",
    "          break\r\n",
    "        if np.sign(func(a)) != np.sign(func(c)): b,y2 = c,func(c)\r\n",
    "        else: a,y1 = c,func(c) \r\n",
    "  return final_roots, pos\r\n",
    "    \r\n",
    "func = lambda x: x**2 + np.cos(x)**2-4*x\r\n",
    "root,pos = falsi(func,a = -1,b = 0,n_roots = 10,epochs = 100,n_move = 35,tol = 1.0e-06) \r\n",
    "print(\"The roots are {}, at pos: {} \".format(root,pos))\r\n"
   ]
  },
  {
   "cell_type": "markdown",
   "metadata": {
    "id": "Kn_FBEe1TO3m"
   },
   "source": [
    "### Secant Method"
   ]
  },
  {
   "cell_type": "code",
   "execution_count": 9,
   "metadata": {
    "colab": {
     "base_uri": "https://localhost:8080/"
    },
    "id": "Z3oqGhakSf4j",
    "outputId": "201e6073-4892-43f8-edcc-70168e42636d"
   },
   "outputs": [
    {
     "name": "stdout",
     "output_type": "stream",
     "text": [
      "The roots are [-1.732 -0.732  2.732], found at epoch: 3 \n"
     ]
    },
    {
     "name": "stderr",
     "output_type": "stream",
     "text": [
      "/usr/local/lib/python3.7/dist-packages/ipykernel_launcher.py:29: RuntimeWarning: invalid value encountered in log\n"
     ]
    }
   ],
   "source": [
    "def secant(func,a,b,n_roots,epochs,n_move,tol = 1.0e-06):\r\n",
    "  x_roots = []\r\n",
    "  fpoint = []\r\n",
    "  spoint = []\r\n",
    "  \r\n",
    "  for i in range(n_move):\r\n",
    "    a+=0.25\r\n",
    "    b+=0.25\r\n",
    "    fpoint.append(a)\r\n",
    "    spoint.append(b)\r\n",
    "\r\n",
    "  for (a,b) in zip (fpoint,spoint):\r\n",
    "    root = None\r\n",
    "    end_epoch =  0\r\n",
    "    for epoch in range(epochs):\r\n",
    "      c = b - (func(b)*(b-a))/(func(b)-func(a))\r\n",
    "      if np.allclose(b,c): \r\n",
    "        root = c\r\n",
    "        x_roots.append(root)\r\n",
    "        final_roots = np.unique(np.around(x_roots,3))\r\n",
    "        final_roots = final_roots[:n_roots]\r\n",
    "        end_epoch = epoch\r\n",
    "        break\r\n",
    "      else:\r\n",
    "        a,b = b,c\r\n",
    "  \r\n",
    "  return final_roots, end_epoch\r\n",
    "\r\n",
    "func = lambda x: np.log(x**2-2*x-1)*(x**2-3)\r\n",
    "root,end_epoch = secant(func,a = -3,b = 1,n_roots = 4,epochs = 100,n_move = 23,tol = 1.0e-06) \r\n",
    "print(\"The roots are {}, found at epoch: {} \".format(root,end_epoch))\r\n"
   ]
  }
 ],
 "metadata": {
  "colab": {
   "authorship_tag": "ABX9TyO2yl4EcVPvKzsmF3yLrVe2",
   "collapsed_sections": [],
   "include_colab_link": true,
   "name": "Coding_Activity_4_Methods",
   "provenance": []
  },
  "kernelspec": {
   "display_name": "Python 3",
   "language": "python",
   "name": "python3"
  },
  "language_info": {
   "codemirror_mode": {
    "name": "ipython",
    "version": 3
   },
   "file_extension": ".py",
   "mimetype": "text/x-python",
   "name": "python",
   "nbconvert_exporter": "python",
   "pygments_lexer": "ipython3",
   "version": "3.8.3"
  }
 },
 "nbformat": 4,
 "nbformat_minor": 4
}
