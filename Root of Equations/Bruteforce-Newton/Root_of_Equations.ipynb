{
  "nbformat": 4,
  "nbformat_minor": 0,
  "metadata": {
    "colab": {
      "name": "Root of Equations",
      "provenance": [],
      "collapsed_sections": [],
      "include_colab_link": true
    },
    "kernelspec": {
      "name": "python3",
      "display_name": "Python 3"
    }
  },
  "cells": [
    {
      "cell_type": "markdown",
      "metadata": {
        "id": "view-in-github",
        "colab_type": "text"
      },
      "source": [
        "<a href=\"https://colab.research.google.com/github/RovilSurioJr/Numerical-Methods/blob/master/Root_of_Equations.ipynb\" target=\"_parent\"><img src=\"https://colab.research.google.com/assets/colab-badge.svg\" alt=\"Open In Colab\"/></a>"
      ]
    },
    {
      "cell_type": "code",
      "metadata": {
        "id": "Pi9v_a_ZHiNp"
      },
      "source": [
        "import numpy as np"
      ],
      "execution_count": null,
      "outputs": []
    },
    {
      "cell_type": "markdown",
      "metadata": {
        "id": "bcsAx83JHDj_"
      },
      "source": [
        "### Brute Force Iteration"
      ]
    },
    {
      "cell_type": "code",
      "metadata": {
        "id": "FkZLJKjfR6Dt"
      },
      "source": [
        "no_roots = 4\r\n",
        "epochs = 100000\r\n",
        "h = -10\r\n",
        "s = 10\r\n",
        "sample3 = lambda x: np.log(x**2+1)"
      ],
      "execution_count": null,
      "outputs": []
    },
    {
      "cell_type": "code",
      "metadata": {
        "id": "Jba2xZdDHgqV"
      },
      "source": [
        "def b_force(func,no_roots,epochs,x0,x1,tol = 1e-5):\r\n",
        "  roots = []\r\n",
        "  end_epoch = 0\r\n",
        "  for epoch in range(epochs):\r\n",
        "    if np.allclose(0,func(x0),tol):\r\n",
        "      roots.append(x0)\r\n",
        "      end_epoch = epoch\r\n",
        "      if len(roots) == no_roots:\r\n",
        "        break\r\n",
        "    x0+=1e-4\r\n",
        "  for epoch in range(epochs):\r\n",
        "    if np.allclose(0,func(x1),tol):\r\n",
        "      roots.append(x1)\r\n",
        "      final_roots = np.unique(np.around(roots,3))\r\n",
        "      end_epoch = epoch\r\n",
        "      if len(roots) == no_roots:\r\n",
        "        break\r\n",
        "    x1-=1e-4\r\n",
        "  if len(roots) != 0:\r\n",
        "    return final_roots, end_epoch\r\n",
        "  else:\r\n",
        "    final_roots = \"Roots cannot be found\"\r\n",
        "    end_epoch = -1\r\n",
        "    return final_roots,end_epoch\r\n"
      ],
      "execution_count": null,
      "outputs": []
    },
    {
      "cell_type": "code",
      "metadata": {
        "colab": {
          "base_uri": "https://localhost:8080/"
        },
        "id": "RM7dY4u9R-Fz",
        "outputId": "77bf6944-4c4b-4f8d-e416-3f5a0fd043b3"
      },
      "source": [
        "roots,epochs = b_force(sample3,no_roots,epochs,h,s)\r\n",
        "print(\"The roots are\", roots, \"found at\",epochs)"
      ],
      "execution_count": null,
      "outputs": [
        {
          "output_type": "stream",
          "text": [
            "The roots are [-0.] found at 99999\n"
          ],
          "name": "stdout"
        }
      ]
    },
    {
      "cell_type": "markdown",
      "metadata": {
        "id": "EU_yyPMsG7Ou"
      },
      "source": [
        "### Brute Force interms of X"
      ]
    },
    {
      "cell_type": "code",
      "metadata": {
        "id": "yJSBxNRiSW6K"
      },
      "source": [
        "sample1 = lambda x: 2*x**4 + 3*x**3 - 11*x**2 - 9*x + 15\r\n",
        "f1 = lambda x: (2*x**4 + 3*x**3 - 11*x**2 + 15)/9\r\n",
        "f2 = lambda x: ((2*x**4 + 3*x**3 - 9*x + 15)/11)**(1/2)\r\n",
        "f3 = lambda x: ((-2*x**4 + 11*x**2 + 9*x - 15)/3)**(1/3)\r\n",
        "f4 = lambda x: ((-3*x**3 + 11*x**2 + 9*x - 15)/2)**(1/4)\r\n",
        "funcs2 = [f1,f2,f3,f4]\r\n",
        "no_roots = len(funcs2)\r\n",
        "epochs1 = 100"
      ],
      "execution_count": null,
      "outputs": []
    },
    {
      "cell_type": "code",
      "metadata": {
        "id": "i8lhCH0nG6lg"
      },
      "source": [
        "def b_forcex(funcs,no_roots,epochs,x0 = 0):\r\n",
        "  roots = []\r\n",
        "  for func in funcs:\r\n",
        "    x0=0\r\n",
        "    for epoch in range(epochs):\r\n",
        "      x_prime = func(x0) \r\n",
        "      if np.allclose(x0, x_prime):\r\n",
        "        roots.append(x0)\r\n",
        "        final_roots = np.unique(np.around(roots,3))\r\n",
        "        end_epoch = epoch\r\n",
        "        break\r\n",
        "      x0 = x_prime\r\n",
        "  if len(final_roots) != 0:\r\n",
        "    return final_roots, end_epoch\r\n",
        "  else:\r\n",
        "    final_roots = \"Roots cannot be found\"\r\n",
        "    end_epoch = -1\r\n",
        "    return final_roots, end_epoch"
      ],
      "execution_count": null,
      "outputs": []
    },
    {
      "cell_type": "code",
      "metadata": {
        "colab": {
          "base_uri": "https://localhost:8080/"
        },
        "id": "1xYjW8z9SdtV",
        "outputId": "e8394b91-0f2c-489d-b26d-ff0a3d618348"
      },
      "source": [
        "roots,epoch = b_forcex(funcs2,no_roots,epochs1)\r\n",
        "print(\"The roots are\",roots,\"found at\",epoch)"
      ],
      "execution_count": null,
      "outputs": [
        {
          "output_type": "stream",
          "text": [
            "The roots are [1.   +0.j 1.732+0.j] found at 16\n"
          ],
          "name": "stdout"
        }
      ]
    },
    {
      "cell_type": "markdown",
      "metadata": {
        "id": "-1Rw_Xd4Wdxh"
      },
      "source": [
        "### Newton-Rahpson Method"
      ]
    },
    {
      "cell_type": "code",
      "metadata": {
        "id": "YHJJRti28sBl"
      },
      "source": [
        "def derivative(f,x,dx = 1e-6): \r\n",
        "  diff = f(x+dx)-f(x-dx)  \r\n",
        "  return diff/(2*dx)\r\n",
        "\r\n",
        "def newton(func,n_roots,epochs, tol = 1.0e-05,inits = np.arange(-5,5)):\r\n",
        "  x_roots = []\r\n",
        "  for init in inits:\r\n",
        "    x=init\r\n",
        "    for epoch in range(epochs):\r\n",
        "      f_prime = derivative(func,x)\r\n",
        "      x_new = x - (func(x)/f_prime)\r\n",
        "      if np.allclose(x, x_new, tol):\r\n",
        "        x_roots.append(x)\r\n",
        "        final_roots = np.unique(np.around(x_roots,3))\r\n",
        "        final_roots = final_roots[:n_roots]\r\n",
        "        break\r\n",
        "      x = x_new\r\n",
        "  return final_roots, epoch"
      ],
      "execution_count": 7,
      "outputs": []
    },
    {
      "cell_type": "code",
      "metadata": {
        "colab": {
          "base_uri": "https://localhost:8080/"
        },
        "id": "9sZTZts7XYJX",
        "outputId": "164c774f-9f9d-4606-e080-a4161789b5a1"
      },
      "source": [
        "func = lambda x: np.sin(2*x)-np.cos(2*x)\r\n",
        "roots,epoch = newton(func,n_roots = 5,epochs = 100, tol = 1.0e-05,inits = np.arange(-5,5)) \r\n",
        "print(\"The roots are {}, found at epoch: {}\".format(roots,epoch)) "
      ],
      "execution_count": 8,
      "outputs": [
        {
          "output_type": "stream",
          "text": [
            "The roots are [-9.032 -4.32  -2.749 -1.178  0.393], found at epoch: 3\n"
          ],
          "name": "stdout"
        }
      ]
    }
  ]
}