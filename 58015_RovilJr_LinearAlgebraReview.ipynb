{
  "nbformat": 4,
  "nbformat_minor": 0,
  "metadata": {
    "colab": {
      "name": "58015_RovilJr_LinearAlgebraReview.ipynb",
      "provenance": [],
      "authorship_tag": "ABX9TyPU47xF2FrUeNRDhaHwcJOm",
      "include_colab_link": true
    },
    "kernelspec": {
      "name": "python3",
      "display_name": "Python 3"
    }
  },
  "cells": [
    {
      "cell_type": "markdown",
      "metadata": {
        "id": "view-in-github",
        "colab_type": "text"
      },
      "source": [
        "<a href=\"https://colab.research.google.com/github/RovilSurioJr/Numerical-Methods/blob/master/58015_RovilJr_LinearAlgebraReview.ipynb\" target=\"_parent\"><img src=\"https://colab.research.google.com/assets/colab-badge.svg\" alt=\"Open In Colab\"/></a>"
      ]
    },
    {
      "cell_type": "markdown",
      "metadata": {
        "id": "kEacS9PHcjnH"
      },
      "source": [
        "# Welcome to Linear Algebra Review\r\n",
        "*by R.J. Surio ©2021*\r\n",
        "\r\n",
        "In this module, we are going to review some of the useful equations needed in data science to refresh our skills in Python programming. In this notebook we are going to cover:\r\n",
        "\r\n",
        "* Modulus of a Vector\r\n",
        "* The Sigmoid\r\n"
      ]
    },
    {
      "cell_type": "markdown",
      "metadata": {
        "id": "Z92DEvzyVR_f"
      },
      "source": [
        "## Practice 1: Modulus of a Vector\r\n",
        "The modulus of a vector or the magnitude of a vector can be determined using the Pythagorean theorem. Given the vector $A$ and its scalars denoted as $a_n$ where $n$ is the index of the scalar. So if we have:\r\n",
        "$$A = \\begin{bmatrix}1\\\\2\\end{bmatrix}$$\r\n",
        "We can compute the magnitude as:\r\n",
        "$$||A|| = \\sqrt{a_1^2 + a_2^2} = \\sqrt{1^2 + 2^2} = \\sqrt{5}$$\r\n",
        "So if we have a matrix with more parameters such as:\r\n",
        "$$B=\\begin{bmatrix}2\\\\5\\\\-1\\\\0\\end{bmatrix}$$\r\n",
        "We can generalize the Pythagorean theorem to compute for the magnitude as:\r\n",
        "$$||B|| = \\sqrt{b_1^2 + b_2^2 + b_3^2 + ... +b_n^2} = \\sqrt{\\sum_{n=1}^{N}b_n^2}$$\r\n",
        "And this equation is now called a Euclidian distance or the Euclidean Norm. "
      ]
    },
    {
      "cell_type": "markdown",
      "metadata": {
        "id": "B0Vve3Sddd8O"
      },
      "source": [
        "### Code Time:"
      ]
    },
    {
      "cell_type": "code",
      "metadata": {
        "id": "83DMlndDVHcu"
      },
      "source": [
        "import numpy as np\r\n",
        "import math"
      ],
      "execution_count": 4,
      "outputs": []
    },
    {
      "cell_type": "code",
      "metadata": {
        "colab": {
          "base_uri": "https://localhost:8080/"
        },
        "id": "DpJqu0cvVK0i",
        "outputId": "789219d0-142f-4839-8b96-bb9c7fe279ca"
      },
      "source": [
        "def modulus(vec):\r\n",
        "    raisesum = 0\r\n",
        "    for element in range(len(vec)):  # Accesing the values \r\n",
        "        raisesum += vec[element] **2 # raising each number to 2\r\n",
        "        sqr = math.sqrt(raisesum)    # Squaring \r\n",
        "    return(sqr)    \r\n",
        "\r\n",
        "vect1 = [2, 5, 2, 5, 14] #These are the values of vectors\r\n",
        "print(\"Vector's magnitude for vect1 = \", modulus(vect1))"
      ],
      "execution_count": 14,
      "outputs": [
        {
          "output_type": "stream",
          "text": [
            "Vector's magnitude for vect1 =  15.937377450509228\n"
          ],
          "name": "stdout"
        }
      ]
    },
    {
      "cell_type": "markdown",
      "metadata": {
        "id": "BeVryhQDZEsO"
      },
      "source": [
        "### About the code\r\n",
        "\r\n",
        "The function above calculated the magnitude of the vector with 5 elements or values. The variable ‘raisesum’ was set to 0 so that the assignment of this variable is possible at the same time that it was used as referenced. A loop statement was created to access every element inside the vectors created and inside this loop statement are the operations that will compute the modulus of the 5 different vectors. The operations include the summation of the squared elements from the vectors. The sum of these elements was assigned to the ‘raisesum’ variable and the square root of this was assigned to ‘sqr’ which was returned afterward and printed."
      ]
    },
    {
      "cell_type": "markdown",
      "metadata": {
        "id": "CxWv8WPzVfJ3"
      },
      "source": [
        "## Practice 2: The Sigmoid\r\n",
        "The sigmoid function is one of the popular Activation Functions which we will discuss later on. The sigmoid is a bounded, differentiable, real function in which its range would be any value from 0 to 1. It is widely used in binary classifications.\r\n",
        "![image](https://upload.wikimedia.org/wikipedia/commons/thumb/8/88/Logistic-curve.svg/1200px-Logistic-curve.svg.png)\r\n",
        "If we were to check the equation characterizing this curve in textbooks or journals it would be:\r\n",
        "$$sig(x)=\\frac{1}{1+e^{-x}}$$\r\n",
        "or\r\n",
        "$$\\sigma(x)=\\frac{1}{1+e^{-x}}$$\r\n",
        "So let's try to translate this in NumPy. You might want to use [`numpy.exp`](https://numpy.org/doc/stable/reference/generated/numpy.exp.html) for this function. <br>\r\n",
        "If you want to read more about the sigmoid function click [here](https://medium.com/@himanshuxd/activation-functions-sigmoid-relu-leaky-relu-and-softmax-basics-for-neural-networks-and-deep-8d9c70eed91e)."
      ]
    },
    {
      "cell_type": "markdown",
      "metadata": {
        "id": "YXSu1Ot1dmf4"
      },
      "source": [
        "### Code Time:"
      ]
    },
    {
      "cell_type": "markdown",
      "metadata": {
        "id": "qR8bt5_eVmMN"
      },
      "source": [
        "### Standard Function"
      ]
    },
    {
      "cell_type": "code",
      "metadata": {
        "colab": {
          "base_uri": "https://localhost:8080/"
        },
        "id": "lQc0S8sjVgsX",
        "outputId": "dcaffb9a-9d81-4c3e-d384-2820e6630fee"
      },
      "source": [
        "def Sigmoid(x):\r\n",
        "    return 1/(1 + np.exp(-x)) # Transformed equation\r\n",
        "Sigmoid(3)                    # Using the function\r\n"
      ],
      "execution_count": 12,
      "outputs": [
        {
          "output_type": "execute_result",
          "data": {
            "text/plain": [
              "0.9525741268224334"
            ]
          },
          "metadata": {
            "tags": []
          },
          "execution_count": 12
        }
      ]
    },
    {
      "cell_type": "markdown",
      "metadata": {
        "id": "hAniyVFSXZfX"
      },
      "source": [
        "### Lambda Function"
      ]
    },
    {
      "cell_type": "code",
      "metadata": {
        "colab": {
          "base_uri": "https://localhost:8080/"
        },
        "id": "U-_opSb5VpQo",
        "outputId": "28593f4f-7790-4c9c-d84a-98341426c149"
      },
      "source": [
        "x =  3\r\n",
        "s = lambda x: 1/(1 + np.exp(-x))\r\n",
        "print(s(x))"
      ],
      "execution_count": 13,
      "outputs": [
        {
          "output_type": "stream",
          "text": [
            "0.9525741268224334\n"
          ],
          "name": "stdout"
        }
      ]
    },
    {
      "cell_type": "markdown",
      "metadata": {
        "id": "g1RgkJPZfcct"
      },
      "source": [
        "### About the code\r\n",
        "\r\n",
        "The equation of sigmoid was transformed into standard and lambda function. The standard function was used by calling the function with values '3' as its argument that passed into the function as its parameter and returns the result of the equation. Meanwhile, the lambda function is the more optimized version of the standard function since the declaration of a function is not needed but still does the job the same as with the standard function."
      ]
    }
  ]
}