{
 "cells": [
  {
   "cell_type": "markdown",
   "metadata": {},
   "source": [
    "### Activity"
   ]
  },
  {
   "cell_type": "code",
   "execution_count": 1,
   "metadata": {},
   "outputs": [],
   "source": [
    "import numpy as np\n",
    "import math\n",
    "import sympy as sy\n",
    "from pandas import DataFrame\n",
    "from sympy.functions import sin,cos\n",
    "import matplotlib.pyplot as plt\n",
    "from scipy.special import binom\n",
    "from scipy.misc import derivative\n",
    "plt.style.use(\"seaborn-poster\")"
   ]
  },
  {
   "cell_type": "code",
   "execution_count": 2,
   "metadata": {},
   "outputs": [],
   "source": [
    "## Creating Pascal Triangle\n",
    "binom_coeffs = lambda n : np.asarray([binom(n,k) for k in range(n+1)])\n",
    "x = 0.1\n",
    "dx = 0.01\n",
    "y1 = lambda x :( ( (4*x**2+2*x+1) / (x+2*np.exp(x)) )**x )\n",
    "y2 = lambda x : (np.cos(2*x)) + (x**2)/20 + np.exp(-2*x)"
   ]
  },
  {
   "cell_type": "code",
   "execution_count": 3,
   "metadata": {},
   "outputs": [],
   "source": [
    "def diff_cen(f,x,dx,degree=1):\n",
    "    if degree % 2 == 0:\n",
    "        f_ans = f(x+((np.arange(np.ceil(degree/2),-(np.ceil(degree/2)+1),-1))*dx))\n",
    "        bin = binom_coeffs(degree)\n",
    "        bin[1::2] *= -1\n",
    "        diff = (bin @ f_ans) / (dx**degree)\n",
    "    elif degree % 2 == 1:\n",
    "        array = np.arange(np.ceil(degree/2),-(np.ceil(degree/2)+1),-1)\n",
    "        f_ans = f(x+(  (np.delete(array,len(array)//2))    *dx))\n",
    "        bin = binom_coeffs(degree)\n",
    "        bin[1::2] *= -1\n",
    "        diff = (bin @ f_ans) / (2*dx**degree)\n",
    "    return diff"
   ]
  },
  {
   "cell_type": "code",
   "execution_count": 4,
   "metadata": {},
   "outputs": [],
   "source": [
    "def diff_bwd(f,x,dx,degree=1):\n",
    "    f_ans = f(x+((np.arange(0,-(degree+1),-1))*dx))\n",
    "    bin = binom_coeffs(degree)\n",
    "    bin[1::2] *= -1\n",
    "    diff = (bin @ f_ans) / (dx**degree)\n",
    "    return diff"
   ]
  },
  {
   "cell_type": "code",
   "execution_count": 5,
   "metadata": {},
   "outputs": [],
   "source": [
    "def diff_fwd(f,x,dx,degree=1):\n",
    "    f_ans = f(x+((np.arange(degree,-1,-1))*dx))\n",
    "    bin = binom_coeffs(degree)\n",
    "    bin[1::2] *= -1\n",
    "    diff = (bin @ f_ans) / (dx**degree)\n",
    "    return diff"
   ]
  },
  {
   "cell_type": "markdown",
   "metadata": {},
   "source": [
    "###### Y1"
   ]
  },
  {
   "cell_type": "code",
   "execution_count": 6,
   "metadata": {},
   "outputs": [
    {
     "name": "stdout",
     "output_type": "stream",
     "text": [
      "0.9396682312481898\n",
      "-0.49250950821845274\n",
      "2.129163586548355\n",
      "0.32210589662184924\n"
     ]
    }
   ],
   "source": [
    "degree = 3\n",
    "for n in range(0,degree+1):\n",
    "    print(diff_fwd(y1,x,dx,n))"
   ]
  },
  {
   "cell_type": "code",
   "execution_count": 7,
   "metadata": {},
   "outputs": [
    {
     "name": "stdout",
     "output_type": "stream",
     "text": [
      "0.9396682312481898\n",
      "-0.5137063367627537\n",
      "2.103159425124179\n",
      "2.44101012469855\n"
     ]
    }
   ],
   "source": [
    "degree = 3\n",
    "for n in range(0,degree+1):\n",
    "    print(diff_bwd(y1,x,dx,n))"
   ]
  },
  {
   "cell_type": "code",
   "execution_count": 8,
   "metadata": {},
   "outputs": [
    {
     "name": "stdout",
     "output_type": "stream",
     "text": [
      "0.9396682312481898\n",
      "-0.5031079224906032\n",
      "2.1196828544289836\n",
      "5032.3794329771845\n"
     ]
    }
   ],
   "source": [
    "degree = 3\n",
    "for n in range(0,degree+1):\n",
    "    print(diff_cen(y1,x,dx,n))"
   ]
  },
  {
   "cell_type": "markdown",
   "metadata": {},
   "source": [
    "###### Y2"
   ]
  },
  {
   "cell_type": "code",
   "execution_count": 9,
   "metadata": {},
   "outputs": [
    {
     "name": "stdout",
     "output_type": "stream",
     "text": [
      "1.7992973309192233\n",
      "-2.0276083626139307\n",
      "-0.5932774836159282\n",
      "-4.532857641237341\n"
     ]
    }
   ],
   "source": [
    "degree = 3\n",
    "for n in range(0,degree+1):\n",
    "    print(diff_fwd(y2,x,dx,n))"
   ]
  },
  {
   "cell_type": "code",
   "execution_count": 10,
   "metadata": {},
   "outputs": [
    {
     "name": "stdout",
     "output_type": "stream",
     "text": [
      "1.7992973309192233\n",
      "-2.022157328017027\n",
      "-0.4940513772577759\n",
      "-5.396264885604295\n"
     ]
    }
   ],
   "source": [
    "degree = 3\n",
    "for n in range(0,degree+1):\n",
    "    print(diff_bwd(y2,x,dx,n))"
   ]
  },
  {
   "cell_type": "code",
   "execution_count": 11,
   "metadata": {},
   "outputs": [
    {
     "name": "stdout",
     "output_type": "stream",
     "text": [
      "1.7992973309192233\n",
      "-2.024882845315479\n",
      "-0.5451034596903881\n",
      "20243.867147836878\n"
     ]
    }
   ],
   "source": [
    "degree = 3\n",
    "for n in range(0,degree+1):\n",
    "    print(diff_cen(y2,x,dx,n))"
   ]
  },
  {
   "cell_type": "markdown",
   "metadata": {},
   "source": [
    "#### Checking error"
   ]
  },
  {
   "cell_type": "markdown",
   "metadata": {},
   "source": [
    "#### Y1 Table"
   ]
  },
  {
   "cell_type": "code",
   "execution_count": 12,
   "metadata": {},
   "outputs": [
    {
     "data": {
      "text/html": [
       "<div>\n",
       "<style scoped>\n",
       "    .dataframe tbody tr th:only-of-type {\n",
       "        vertical-align: middle;\n",
       "    }\n",
       "\n",
       "    .dataframe tbody tr th {\n",
       "        vertical-align: top;\n",
       "    }\n",
       "\n",
       "    .dataframe thead th {\n",
       "        text-align: right;\n",
       "    }\n",
       "</style>\n",
       "<table border=\"1\" class=\"dataframe\">\n",
       "  <thead>\n",
       "    <tr style=\"text-align: right;\">\n",
       "      <th></th>\n",
       "      <th>Forward finite</th>\n",
       "      <th>Backward finite</th>\n",
       "      <th>Central finite</th>\n",
       "    </tr>\n",
       "  </thead>\n",
       "  <tbody>\n",
       "    <tr>\n",
       "      <th>0</th>\n",
       "      <td>-0.492510</td>\n",
       "      <td>-0.513706</td>\n",
       "      <td>-0.503108</td>\n",
       "    </tr>\n",
       "    <tr>\n",
       "      <th>1</th>\n",
       "      <td>2.129164</td>\n",
       "      <td>2.103159</td>\n",
       "      <td>2.119683</td>\n",
       "    </tr>\n",
       "    <tr>\n",
       "      <th>2</th>\n",
       "      <td>0.322106</td>\n",
       "      <td>2.441010</td>\n",
       "      <td>5032.379433</td>\n",
       "    </tr>\n",
       "  </tbody>\n",
       "</table>\n",
       "</div>"
      ],
      "text/plain": [
       "   Forward finite  Backward finite  Central finite\n",
       "0       -0.492510        -0.513706       -0.503108\n",
       "1        2.129164         2.103159        2.119683\n",
       "2        0.322106         2.441010     5032.379433"
      ]
     },
     "execution_count": 12,
     "metadata": {},
     "output_type": "execute_result"
    }
   ],
   "source": [
    "\n",
    "def error_fwd(f,n):\n",
    "    return abs(derivative(y1,x,dx,n=n,order=5)-diff_fwd(y1,x,dx,n))\n",
    "def error_bwd(f,n):\n",
    "    return abs(derivative(y1,x,dx,n=n,order=5)-diff_bwd(y1,x,dx,n))\n",
    "def error_cen(f,n):\n",
    "    return abs(derivative(y1,x,dx,n=n,order=5)-diff_cen(y1,x,dx,n))\n",
    "\n",
    "dy1 = np.array([[diff_fwd(y1,x,dx,1),diff_bwd(y1,x,dx,1),diff_cen(y1,x,dx,1)],\n",
    "                [diff_fwd(y1,x,dx,2),diff_bwd(y1,x,dx,2),diff_cen(y1,x,dx,2)],\n",
    "                [diff_fwd(y1,x,dx,3),diff_bwd(y1,x,dx,3),diff_cen(y1,x,dx,3)]\n",
    "               ]) ## y1 differentiation result\n",
    "\n",
    "dy1_error = np.array([[error_fwd(y1,1),error_bwd(y1,1),error_cen(y1,1)],\n",
    "                      [error_fwd(y1,2),error_bwd(y1,2),error_cen(y1,2)],\n",
    "                      [error_fwd(y1,3),error_bwd(y1,3),error_cen(y1,3)]\n",
    "                    ]) ## y1 error\n",
    "\n",
    "dy2 = np.array([[diff_fwd(y2,x,dx,1),diff_bwd(y2,x,dx,1),diff_cen(y2,x,dx,1)],\n",
    "                [diff_fwd(y2,x,dx,2),diff_bwd(y2,x,dx,2),diff_cen(y2,x,dx,2)],\n",
    "                [diff_fwd(y2,x,dx,3),diff_bwd(y2,x,dx,3),diff_cen(y2,x,dx,3)]\n",
    "               ]) ## y1 differentiation result\n",
    "\n",
    "dy2_error = np.array([[error_fwd(y2,1),error_bwd(y2,1),error_cen(y2,1)],\n",
    "                      [error_fwd(y2,2),error_bwd(y2,2),error_cen(y2,2)],\n",
    "                      [error_fwd(y2,3),error_bwd(y2,3),error_cen(y2,3)]\n",
    "                      ]) ## y1 error\n",
    "\n",
    "dfy1 = DataFrame(data= dy1,columns= ['Forward finite','Backward finite', 'Central finite'] )\n",
    "dfy1"
   ]
  },
  {
   "cell_type": "code",
   "execution_count": 13,
   "metadata": {},
   "outputs": [
    {
     "data": {
      "text/html": [
       "<div>\n",
       "<style scoped>\n",
       "    .dataframe tbody tr th:only-of-type {\n",
       "        vertical-align: middle;\n",
       "    }\n",
       "\n",
       "    .dataframe tbody tr th {\n",
       "        vertical-align: top;\n",
       "    }\n",
       "\n",
       "    .dataframe thead th {\n",
       "        text-align: right;\n",
       "    }\n",
       "</style>\n",
       "<table border=\"1\" class=\"dataframe\">\n",
       "  <thead>\n",
       "    <tr style=\"text-align: right;\">\n",
       "      <th></th>\n",
       "      <th>FWD Error</th>\n",
       "      <th>BWD Error</th>\n",
       "      <th>CEN Error</th>\n",
       "    </tr>\n",
       "  </thead>\n",
       "  <tbody>\n",
       "    <tr>\n",
       "      <th>0</th>\n",
       "      <td>0.010620</td>\n",
       "      <td>0.010577</td>\n",
       "      <td>0.000022</td>\n",
       "    </tr>\n",
       "    <tr>\n",
       "      <th>1</th>\n",
       "      <td>0.008894</td>\n",
       "      <td>0.017110</td>\n",
       "      <td>0.000587</td>\n",
       "    </tr>\n",
       "    <tr>\n",
       "      <th>2</th>\n",
       "      <td>0.978102</td>\n",
       "      <td>1.140802</td>\n",
       "      <td>5031.079225</td>\n",
       "    </tr>\n",
       "  </tbody>\n",
       "</table>\n",
       "</div>"
      ],
      "text/plain": [
       "   FWD Error  BWD Error    CEN Error\n",
       "0   0.010620   0.010577     0.000022\n",
       "1   0.008894   0.017110     0.000587\n",
       "2   0.978102   1.140802  5031.079225"
      ]
     },
     "execution_count": 13,
     "metadata": {},
     "output_type": "execute_result"
    }
   ],
   "source": [
    "dfy1_error = DataFrame(data= dy1_error,columns= ['FWD Error','BWD Error', 'CEN Error'] )\n",
    "dfy1_error"
   ]
  },
  {
   "cell_type": "markdown",
   "metadata": {},
   "source": [
    "###### Y2 TABLE"
   ]
  },
  {
   "cell_type": "code",
   "execution_count": 14,
   "metadata": {},
   "outputs": [
    {
     "data": {
      "text/html": [
       "<div>\n",
       "<style scoped>\n",
       "    .dataframe tbody tr th:only-of-type {\n",
       "        vertical-align: middle;\n",
       "    }\n",
       "\n",
       "    .dataframe tbody tr th {\n",
       "        vertical-align: top;\n",
       "    }\n",
       "\n",
       "    .dataframe thead th {\n",
       "        text-align: right;\n",
       "    }\n",
       "</style>\n",
       "<table border=\"1\" class=\"dataframe\">\n",
       "  <thead>\n",
       "    <tr style=\"text-align: right;\">\n",
       "      <th></th>\n",
       "      <th>Forward finite</th>\n",
       "      <th>Backward finite</th>\n",
       "      <th>Central finite</th>\n",
       "    </tr>\n",
       "  </thead>\n",
       "  <tbody>\n",
       "    <tr>\n",
       "      <th>0</th>\n",
       "      <td>-2.027608</td>\n",
       "      <td>-2.022157</td>\n",
       "      <td>-2.024883</td>\n",
       "    </tr>\n",
       "    <tr>\n",
       "      <th>1</th>\n",
       "      <td>-0.593277</td>\n",
       "      <td>-0.494051</td>\n",
       "      <td>-0.545103</td>\n",
       "    </tr>\n",
       "    <tr>\n",
       "      <th>2</th>\n",
       "      <td>-4.532858</td>\n",
       "      <td>-5.396265</td>\n",
       "      <td>20243.867148</td>\n",
       "    </tr>\n",
       "  </tbody>\n",
       "</table>\n",
       "</div>"
      ],
      "text/plain": [
       "   Forward finite  Backward finite  Central finite\n",
       "0       -2.027608        -2.022157       -2.024883\n",
       "1       -0.593277        -0.494051       -0.545103\n",
       "2       -4.532858        -5.396265    20243.867148"
      ]
     },
     "execution_count": 14,
     "metadata": {},
     "output_type": "execute_result"
    }
   ],
   "source": [
    "dfy2 = DataFrame(data= dy2,columns= ['Forward finite','Backward finite', 'Central finite'] )\n",
    "dfy2"
   ]
  },
  {
   "cell_type": "code",
   "execution_count": 15,
   "metadata": {},
   "outputs": [
    {
     "data": {
      "text/html": [
       "<div>\n",
       "<style scoped>\n",
       "    .dataframe tbody tr th:only-of-type {\n",
       "        vertical-align: middle;\n",
       "    }\n",
       "\n",
       "    .dataframe tbody tr th {\n",
       "        vertical-align: top;\n",
       "    }\n",
       "\n",
       "    .dataframe thead th {\n",
       "        text-align: right;\n",
       "    }\n",
       "</style>\n",
       "<table border=\"1\" class=\"dataframe\">\n",
       "  <thead>\n",
       "    <tr style=\"text-align: right;\">\n",
       "      <th></th>\n",
       "      <th>FWD Error</th>\n",
       "      <th>BWD Error</th>\n",
       "      <th>CEN Error</th>\n",
       "    </tr>\n",
       "  </thead>\n",
       "  <tbody>\n",
       "    <tr>\n",
       "      <th>0</th>\n",
       "      <td>0.010620</td>\n",
       "      <td>0.010577</td>\n",
       "      <td>0.000022</td>\n",
       "    </tr>\n",
       "    <tr>\n",
       "      <th>1</th>\n",
       "      <td>0.008894</td>\n",
       "      <td>0.017110</td>\n",
       "      <td>0.000587</td>\n",
       "    </tr>\n",
       "    <tr>\n",
       "      <th>2</th>\n",
       "      <td>0.978102</td>\n",
       "      <td>1.140802</td>\n",
       "      <td>5031.079225</td>\n",
       "    </tr>\n",
       "  </tbody>\n",
       "</table>\n",
       "</div>"
      ],
      "text/plain": [
       "   FWD Error  BWD Error    CEN Error\n",
       "0   0.010620   0.010577     0.000022\n",
       "1   0.008894   0.017110     0.000587\n",
       "2   0.978102   1.140802  5031.079225"
      ]
     },
     "execution_count": 15,
     "metadata": {},
     "output_type": "execute_result"
    }
   ],
   "source": [
    "dfy2_error = DataFrame(data= dy2_error,columns= ['FWD Error','BWD Error', 'CEN Error'] )\n",
    "dfy2_error"
   ]
  },
  {
   "cell_type": "markdown",
   "metadata": {},
   "source": [
    "#### Plotting"
   ]
  },
  {
   "cell_type": "code",
   "execution_count": 16,
   "metadata": {},
   "outputs": [
    {
     "name": "stderr",
     "output_type": "stream",
     "text": [
      "<ipython-input-2-549e777e64a5>:5: RuntimeWarning: invalid value encountered in power\n",
      "  y1 = lambda x :( ( (4*x**2+2*x+1) / (x+2*np.exp(x)) )**x )\n",
      "<ipython-input-2-549e777e64a5>:5: RuntimeWarning: invalid value encountered in power\n",
      "  y1 = lambda x :( ( (4*x**2+2*x+1) / (x+2*np.exp(x)) )**x )\n",
      "<ipython-input-2-549e777e64a5>:5: RuntimeWarning: invalid value encountered in power\n",
      "  y1 = lambda x :( ( (4*x**2+2*x+1) / (x+2*np.exp(x)) )**x )\n",
      "<ipython-input-2-549e777e64a5>:5: RuntimeWarning: invalid value encountered in power\n",
      "  y1 = lambda x :( ( (4*x**2+2*x+1) / (x+2*np.exp(x)) )**x )\n"
     ]
    },
    {
     "data": {
      "image/png": "[encoded data removed]",
      "text/plain": [
       "<Figure size 921.6x633.6 with 1 Axes>"
      ]
     },
     "metadata": {
      "needs_background": "light"
     },
     "output_type": "display_data"
    }
   ],
   "source": [
    "X = np.linspace(-12,12)\n",
    "plt.plot(X,y1(X), label='f(x)')\n",
    "plt.plot(X,derivative(y1,X,dx), label='f\\'(x)')\n",
    "plt.plot(X,derivative(y1,X,dx,n=2), label='f\\'\\'(x)')\n",
    "plt.plot(X,derivative(y1,X,dx,n=3,order=5), label='f\\'\\'\\'(x)')\n",
    "plt.legend()\n",
    "plt.grid()\n",
    "plt.show()"
   ]
  },
  {
   "cell_type": "markdown",
   "metadata": {},
   "source": [
    "#### Taylor Series Expansion"
   ]
  },
  {
   "cell_type": "code",
   "execution_count": 17,
   "metadata": {},
   "outputs": [],
   "source": [
    "XX = np.linspace(5,7)\n",
    "a = 2*np.pi\n",
    "n = 7\n",
    "def taylor(f,a,n,x):\n",
    "    y=0\n",
    "    for i in range(n+1):\n",
    "        y += ( ( (derivative(f,a,dx,n=i,order=9)) * ((x-a)**i) ) / np.math.factorial(i)  )\n",
    "    return y"
   ]
  },
  {
   "cell_type": "markdown",
   "metadata": {},
   "source": [
    "#### Y1 using Taylor series Expansion"
   ]
  },
  {
   "cell_type": "code",
   "execution_count": 18,
   "metadata": {},
   "outputs": [
    {
     "data": {
      "image/png": "[encoded data removed]",
      "text/plain": [
       "<Figure size 921.6x633.6 with 1 Axes>"
      ]
     },
     "metadata": {
      "needs_background": "light"
     },
     "output_type": "display_data"
    }
   ],
   "source": [
    "# plt.axvline(x = 2*np.pi, c = \"k\")\n",
    "plt.plot(XX,taylor(y1,a,n,XX),label='taylor series')\n",
    "plt.plot(XX,y1(XX),label='Analytic',c=\"k\")\n",
    "plt.legend()\n",
    "plt.grid()\n",
    "plt.show()\n",
    "        "
   ]
  },
  {
   "cell_type": "markdown",
   "metadata": {},
   "source": [
    "#### Y1 using Taylor series Expansion"
   ]
  },
  {
   "cell_type": "code",
   "execution_count": 19,
   "metadata": {},
   "outputs": [
    {
     "data": {
      "image/png": "[encoded data removed]",
      "text/plain": [
       "<Figure size 921.6x633.6 with 1 Axes>"
      ]
     },
     "metadata": {
      "needs_background": "light"
     },
     "output_type": "display_data"
    }
   ],
   "source": [
    "# plt.axvline(x = 2*np.pi, c = \"k\")\n",
    "plt.plot(XX,taylor(y2,a,n,XX),label='taylor series')\n",
    "plt.plot(XX,y2(XX),label='Analytic',c=\"k\")\n",
    "plt.grid()\n",
    "plt.show()"
   ]
  }
 ],
 "metadata": {
  "kernelspec": {
   "display_name": "Python 3",
   "language": "python",
   "name": "python3"
  },
  "language_info": {
   "codemirror_mode": {
    "name": "ipython",
    "version": 3
   },
   "file_extension": ".py",
   "mimetype": "text/x-python",
   "name": "python",
   "nbconvert_exporter": "python",
   "pygments_lexer": "ipython3",
   "version": "3.8.3"
  }
 },
 "nbformat": 4,
 "nbformat_minor": 4
}
