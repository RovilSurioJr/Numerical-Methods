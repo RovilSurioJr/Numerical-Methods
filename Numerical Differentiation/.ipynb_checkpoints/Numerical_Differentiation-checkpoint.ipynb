{
 "cells": [
  {
   "cell_type": "markdown",
   "metadata": {
    "colab_type": "text",
    "id": "view-in-github"
   },
   "source": [
    "<a href=\"https://colab.research.google.com/github/RovilSurioJr/Numerical-Methods/blob/master/Numerical Differentiation/Numerical_Differentiation.ipynb\" target=\"_parent\"><img src=\"https://colab.research.google.com/assets/colab-badge.svg\" alt=\"Open In Colab\"/></a>"
   ]
  },
  {
   "cell_type": "markdown",
   "metadata": {
    "id": "PLROlTjhngIC"
   },
   "source": [
    "# Numerical Differentiation\n",
    "$_{\\text{©L.J. Guy ©R.Surio ©M.A. Sustento ©T.J. Vallarta  | 2021 | Computational Methods for Computer Engineers}}$\n",
    "\n",
    "In this module, we will learn how numerical differentiation works and how you can solve them computationally using Python and compare each results. This module will cover:\n",
    "\n",
    "* Forward Finite Derivatives\n",
    "* Central Fininte Derivatives\n",
    "* Backward Fininte Derivatives\n",
    "* Taylor Series Expansion"
   ]
  },
  {
   "cell_type": "code",
   "execution_count": null,
   "metadata": {
    "id": "g62rQyx1GlPs"
   },
   "outputs": [],
   "source": [
    "import numpy as np\n",
    "import math\n",
    "import sympy as sy\n",
    "from pandas import DataFrame\n",
    "from sympy.functions import sin,cos\n",
    "import matplotlib.pyplot as plt\n",
    "from scipy.special import binom\n",
    "from scipy.misc import derivative\n",
    "plt.style.use(\"seaborn-poster\")"
   ]
  },
  {
   "cell_type": "code",
   "execution_count": null,
   "metadata": {
    "id": "tHwONp_fGrHf"
   },
   "outputs": [],
   "source": [
    "## Creating Pascal Triangle\n",
    "binom_coeffs = lambda n : np.asarray([binom(n,k) for k in range(n+1)])\n",
    "x = 0.1\n",
    "dx = 0.01\n",
    "y1 = lambda x :( ( (4*x**2+2*x+1) / (x+2*np.exp(x)) )**x )\n",
    "y2 = lambda x : (np.cos(2*x)) + (x**2)/20 + np.exp(-2*x)"
   ]
  },
  {
   "cell_type": "code",
   "execution_count": null,
   "metadata": {
    "id": "yBbBaI-VGsa8"
   },
   "outputs": [],
   "source": [
    "def diff_cen(f,x,dx,degree=1):\n",
    "    if degree % 2 == 0:\n",
    "        f_ans = f(x+((np.arange(np.ceil(degree/2),-(np.ceil(degree/2)+1),-1))*dx))\n",
    "        bin = binom_coeffs(degree)\n",
    "        bin[1::2] *= -1\n",
    "        diff = (bin @ f_ans) / (dx**degree)\n",
    "    elif degree == 3:\n",
    "        array = np.arange(np.ceil(degree/2),-(np.ceil(degree/2)+1),-1)\n",
    "        f_ans = f(x+((np.delete(array,len(array)//2))*dx))\n",
    "        bin = np.array([1,2,2,1])\n",
    "        bin[1::2] *= -1\n",
    "        diff = (bin @ f_ans) / (2*dx**degree)\n",
    "    else:\n",
    "        array = np.arange(np.ceil(degree/2),-(np.ceil(degree/2)+1),-1)\n",
    "        f_ans = f(x+((np.delete(array,len(array)//2))*dx))\n",
    "        bin = binom_coeffs(degree)\n",
    "        bin[1::2] *= -1\n",
    "        diff = (bin @ f_ans) / (2*dx**degree)\n",
    "    return diff"
   ]
  },
  {
   "cell_type": "code",
   "execution_count": null,
   "metadata": {
    "id": "RreUjUkCGtod"
   },
   "outputs": [],
   "source": [
    "def diff_bwd(f,x,dx,degree=1):\n",
    "    f_ans = f(x+((np.arange(0,-(degree+1),-1))*dx))\n",
    "    bin = binom_coeffs(degree)\n",
    "    bin[1::2] *= -1\n",
    "    diff = (bin @ f_ans) / (dx**degree)\n",
    "    return diff"
   ]
  },
  {
   "cell_type": "code",
   "execution_count": null,
   "metadata": {
    "id": "fHYyQMlyGuwu"
   },
   "outputs": [],
   "source": [
    "def diff_fwd(f,x,dx,degree=1):\n",
    "    f_ans = f(x+((np.arange(degree,-1,-1))*dx))\n",
    "    bin = binom_coeffs(degree)\n",
    "    bin[1::2] *= -1\n",
    "    diff = (bin @ f_ans) / (dx**degree)\n",
    "    return diff"
   ]
  },
  {
   "cell_type": "markdown",
   "metadata": {
    "id": "PT66DmkiGw22"
   },
   "source": [
    "## Y1"
   ]
  },
  {
   "cell_type": "code",
   "execution_count": null,
   "metadata": {
    "colab": {
     "base_uri": "https://localhost:8080/"
    },
    "id": "yL66i5VrHDOO",
    "outputId": "73cc75de-9cd5-4a05-92d9-d5c1df2d7c83"
   },
   "outputs": [
    {
     "name": "stdout",
     "output_type": "stream",
     "text": [
      "0.9396682312481898\n",
      "-0.49250950821845274\n",
      "2.129163586548355\n",
      "0.32210589673287154\n"
     ]
    }
   ],
   "source": [
    "degree = 3\n",
    "for n in range(0,degree+1):\n",
    "    print(diff_fwd(y1,x,dx,n))"
   ]
  },
  {
   "cell_type": "code",
   "execution_count": null,
   "metadata": {
    "colab": {
     "base_uri": "https://localhost:8080/"
    },
    "id": "WwQbKj6mHR5s",
    "outputId": "20233222-d22e-4ab0-bc90-b470b2de7b96"
   },
   "outputs": [
    {
     "name": "stdout",
     "output_type": "stream",
     "text": [
      "0.9396682312481898\n",
      "-0.5137063367627537\n",
      "2.103159425123069\n",
      "2.44101012469855\n"
     ]
    }
   ],
   "source": [
    "degree = 3\n",
    "for n in range(0,degree+1):\n",
    "    print(diff_bwd(y1,x,dx,n))"
   ]
  },
  {
   "cell_type": "code",
   "execution_count": null,
   "metadata": {
    "colab": {
     "base_uri": "https://localhost:8080/"
    },
    "id": "0dNPh1paHTYc",
    "outputId": "5433f67f-633a-4b41-ffe7-9d8f80777d37"
   },
   "outputs": [
    {
     "name": "stdout",
     "output_type": "stream",
     "text": [
      "0.9396682312481898\n",
      "-0.5031079224906032\n",
      "2.119682854430094\n",
      "1.300208071264297\n"
     ]
    }
   ],
   "source": [
    "degree = 3\n",
    "for n in range(0,degree+1):\n",
    "    print(diff_cen(y1,x,dx,n))"
   ]
  },
  {
   "cell_type": "markdown",
   "metadata": {
    "id": "VfqvDb7AUZR0"
   },
   "source": [
    "## Y2"
   ]
  },
  {
   "cell_type": "code",
   "execution_count": null,
   "metadata": {
    "colab": {
     "base_uri": "https://localhost:8080/"
    },
    "id": "vCmtmk9dHVq0",
    "outputId": "6a44c8a1-aa7a-4dcb-bd09-76ea27a79342"
   },
   "outputs": [
    {
     "name": "stdout",
     "output_type": "stream",
     "text": [
      "1.7992973309192233\n",
      "-2.0276083626139307\n",
      "-0.5932774836159282\n",
      "-4.532857641237341\n"
     ]
    }
   ],
   "source": [
    "degree = 3\n",
    "for n in range(0,degree+1):\n",
    "    print(diff_fwd(y2,x,dx,n))"
   ]
  },
  {
   "cell_type": "code",
   "execution_count": null,
   "metadata": {
    "colab": {
     "base_uri": "https://localhost:8080/"
    },
    "id": "1VQowO-5HW18",
    "outputId": "5a2a0e7e-073a-49db-f040-ea70bc42b623"
   },
   "outputs": [
    {
     "name": "stdout",
     "output_type": "stream",
     "text": [
      "1.7992973309192233\n",
      "-2.022157328017027\n",
      "-0.4940513772555555\n",
      "-5.396264885604295\n"
     ]
    }
   ],
   "source": [
    "degree = 3\n",
    "for n in range(0,degree+1):\n",
    "    print(diff_bwd(y2,x,dx,n))"
   ]
  },
  {
   "cell_type": "code",
   "execution_count": null,
   "metadata": {
    "colab": {
     "base_uri": "https://localhost:8080/"
    },
    "id": "6x9I1HPpHYD0",
    "outputId": "5b586afd-0404-4178-ef0c-a2c3fa5cd542"
   },
   "outputs": [
    {
     "name": "stdout",
     "output_type": "stream",
     "text": [
      "1.7992973309192233\n",
      "-2.024882845315479\n",
      "-0.5451034596903881\n",
      "-4.9613053180186375\n"
     ]
    }
   ],
   "source": [
    "degree = 3\n",
    "for n in range(0,degree+1):\n",
    "    print(diff_cen(y2,x,dx,n))"
   ]
  },
  {
   "cell_type": "markdown",
   "metadata": {
    "id": "6m_Wr5_iHZpr"
   },
   "source": [
    "## Checking Error"
   ]
  },
  {
   "cell_type": "markdown",
   "metadata": {
    "id": "0Ye3IR7DHcA7"
   },
   "source": [
    "### Y1 TABLE"
   ]
  },
  {
   "cell_type": "code",
   "execution_count": null,
   "metadata": {
    "colab": {
     "base_uri": "https://localhost:8080/",
     "height": 143
    },
    "id": "sr8Sd70XHduk",
    "outputId": "0e510177-b5ce-4753-dc6a-42ad586954e8"
   },
   "outputs": [
    {
     "data": {
      "text/html": [
       "<div>\n",
       "<style scoped>\n",
       "    .dataframe tbody tr th:only-of-type {\n",
       "        vertical-align: middle;\n",
       "    }\n",
       "\n",
       "    .dataframe tbody tr th {\n",
       "        vertical-align: top;\n",
       "    }\n",
       "\n",
       "    .dataframe thead th {\n",
       "        text-align: right;\n",
       "    }\n",
       "</style>\n",
       "<table border=\"1\" class=\"dataframe\">\n",
       "  <thead>\n",
       "    <tr style=\"text-align: right;\">\n",
       "      <th></th>\n",
       "      <th>Forward finite</th>\n",
       "      <th>Backward finite</th>\n",
       "      <th>Central finite</th>\n",
       "    </tr>\n",
       "  </thead>\n",
       "  <tbody>\n",
       "    <tr>\n",
       "      <th>1</th>\n",
       "      <td>-0.492510</td>\n",
       "      <td>-0.513706</td>\n",
       "      <td>-0.503108</td>\n",
       "    </tr>\n",
       "    <tr>\n",
       "      <th>2</th>\n",
       "      <td>2.129164</td>\n",
       "      <td>2.103159</td>\n",
       "      <td>2.119683</td>\n",
       "    </tr>\n",
       "    <tr>\n",
       "      <th>3</th>\n",
       "      <td>0.322106</td>\n",
       "      <td>2.441010</td>\n",
       "      <td>1.300208</td>\n",
       "    </tr>\n",
       "  </tbody>\n",
       "</table>\n",
       "</div>"
      ],
      "text/plain": [
       "   Forward finite  Backward finite  Central finite\n",
       "1       -0.492510        -0.513706       -0.503108\n",
       "2        2.129164         2.103159        2.119683\n",
       "3        0.322106         2.441010        1.300208"
      ]
     },
     "execution_count": 12,
     "metadata": {
      "tags": []
     },
     "output_type": "execute_result"
    }
   ],
   "source": [
    "\n",
    "def error_fwd(f,n):\n",
    "    return abs(derivative(y1,x,dx,n=n,order=5)-diff_fwd(y1,x,dx,n))\n",
    "def error_bwd(f,n):\n",
    "    return abs(derivative(y1,x,dx,n=n,order=5)-diff_bwd(y1,x,dx,n))\n",
    "def error_cen(f,n):\n",
    "    return abs(derivative(y1,x,dx,n=n,order=5)-diff_cen(y1,x,dx,n))\n",
    "\n",
    "dy1 = np.array([[diff_fwd(y1,x,dx,1),diff_bwd(y1,x,dx,1),diff_cen(y1,x,dx,1)],\n",
    "                [diff_fwd(y1,x,dx,2),diff_bwd(y1,x,dx,2),diff_cen(y1,x,dx,2)],\n",
    "                [diff_fwd(y1,x,dx,3),diff_bwd(y1,x,dx,3),diff_cen(y1,x,dx,3)]\n",
    "               ]) ## y1 differentiation result\n",
    "\n",
    "dy1_error = np.array([[error_fwd(y1,1),error_bwd(y1,1),error_cen(y1,1)],\n",
    "                      [error_fwd(y1,2),error_bwd(y1,2),error_cen(y1,2)],\n",
    "                      [error_fwd(y1,3),error_bwd(y1,3),error_cen(y1,3)]\n",
    "                    ]) ## y1 error\n",
    "\n",
    "dy2 = np.array([[diff_fwd(y2,x,dx,1),diff_bwd(y2,x,dx,1),diff_cen(y2,x,dx,1)],\n",
    "                [diff_fwd(y2,x,dx,2),diff_bwd(y2,x,dx,2),diff_cen(y2,x,dx,2)],\n",
    "                [diff_fwd(y2,x,dx,3),diff_bwd(y2,x,dx,3),diff_cen(y2,x,dx,3)]\n",
    "               ]) ## y2 differentiation result\n",
    "\n",
    "dy2_error = np.array([[error_fwd(y2,1),error_bwd(y2,1),error_cen(y2,1)],\n",
    "                      [error_fwd(y2,2),error_bwd(y2,2),error_cen(y2,2)],\n",
    "                      [error_fwd(y2,3),error_bwd(y2,3),error_cen(y2,3)]\n",
    "                      ]) ## y2 error\n",
    "\n",
    "dfy1 = DataFrame(data= dy1,columns= ['Forward finite','Backward finite', 'Central finite'],index=['1','2','3'])\n",
    "dfy1"
   ]
  },
  {
   "cell_type": "code",
   "execution_count": null,
   "metadata": {
    "colab": {
     "base_uri": "https://localhost:8080/",
     "height": 143
    },
    "id": "UX5Ef1gLHgbl",
    "outputId": "0992fc0e-8b2d-4b1f-b042-2812f0805764"
   },
   "outputs": [
    {
     "data": {
      "text/html": [
       "<div>\n",
       "<style scoped>\n",
       "    .dataframe tbody tr th:only-of-type {\n",
       "        vertical-align: middle;\n",
       "    }\n",
       "\n",
       "    .dataframe tbody tr th {\n",
       "        vertical-align: top;\n",
       "    }\n",
       "\n",
       "    .dataframe thead th {\n",
       "        text-align: right;\n",
       "    }\n",
       "</style>\n",
       "<table border=\"1\" class=\"dataframe\">\n",
       "  <thead>\n",
       "    <tr style=\"text-align: right;\">\n",
       "      <th></th>\n",
       "      <th>FWD Error</th>\n",
       "      <th>BWD Error</th>\n",
       "      <th>CEN Error</th>\n",
       "    </tr>\n",
       "  </thead>\n",
       "  <tbody>\n",
       "    <tr>\n",
       "      <th>1</th>\n",
       "      <td>0.010620</td>\n",
       "      <td>0.010577</td>\n",
       "      <td>0.000022</td>\n",
       "    </tr>\n",
       "    <tr>\n",
       "      <th>2</th>\n",
       "      <td>0.008894</td>\n",
       "      <td>0.017110</td>\n",
       "      <td>0.000587</td>\n",
       "    </tr>\n",
       "    <tr>\n",
       "      <th>3</th>\n",
       "      <td>0.978102</td>\n",
       "      <td>1.140802</td>\n",
       "      <td>0.000000</td>\n",
       "    </tr>\n",
       "  </tbody>\n",
       "</table>\n",
       "</div>"
      ],
      "text/plain": [
       "   FWD Error  BWD Error  CEN Error\n",
       "1   0.010620   0.010577   0.000022\n",
       "2   0.008894   0.017110   0.000587\n",
       "3   0.978102   1.140802   0.000000"
      ]
     },
     "execution_count": 13,
     "metadata": {
      "tags": []
     },
     "output_type": "execute_result"
    }
   ],
   "source": [
    "dfy1_error = DataFrame(data= dy1_error,columns= ['FWD Error','BWD Error', 'CEN Error'],index=['1','2','3'] )\n",
    "dfy1_error"
   ]
  },
  {
   "cell_type": "markdown",
   "metadata": {
    "id": "ekU8TjHKHit8"
   },
   "source": [
    "### Y2 TABLE"
   ]
  },
  {
   "cell_type": "code",
   "execution_count": null,
   "metadata": {
    "colab": {
     "base_uri": "https://localhost:8080/",
     "height": 136
    },
    "id": "UCjzeiJXHiPV",
    "outputId": "93c984c1-e532-48ee-ade1-75f8189f3c6b"
   },
   "outputs": [
    {
     "data": {
      "text/html": [
       "<div>\n",
       "<style scoped>\n",
       "    .dataframe tbody tr th:only-of-type {\n",
       "        vertical-align: middle;\n",
       "    }\n",
       "\n",
       "    .dataframe tbody tr th {\n",
       "        vertical-align: top;\n",
       "    }\n",
       "\n",
       "    .dataframe thead th {\n",
       "        text-align: right;\n",
       "    }\n",
       "</style>\n",
       "<table border=\"1\" class=\"dataframe\">\n",
       "  <thead>\n",
       "    <tr style=\"text-align: right;\">\n",
       "      <th></th>\n",
       "      <th>Forward finite</th>\n",
       "      <th>Backward finite</th>\n",
       "      <th>Central finite</th>\n",
       "    </tr>\n",
       "  </thead>\n",
       "  <tbody>\n",
       "    <tr>\n",
       "      <th>1</th>\n",
       "      <td>-2.027608</td>\n",
       "      <td>-2.022157</td>\n",
       "      <td>-2.024883</td>\n",
       "    </tr>\n",
       "    <tr>\n",
       "      <th>2</th>\n",
       "      <td>-0.593277</td>\n",
       "      <td>-0.494051</td>\n",
       "      <td>-0.545103</td>\n",
       "    </tr>\n",
       "    <tr>\n",
       "      <th>3</th>\n",
       "      <td>-4.532858</td>\n",
       "      <td>-5.396265</td>\n",
       "      <td>-4.961305</td>\n",
       "    </tr>\n",
       "  </tbody>\n",
       "</table>\n",
       "</div>"
      ],
      "text/plain": [
       "   Forward finite  Backward finite  Central finite\n",
       "1       -2.027608        -2.022157       -2.024883\n",
       "2       -0.593277        -0.494051       -0.545103\n",
       "3       -4.532858        -5.396265       -4.961305"
      ]
     },
     "execution_count": 30,
     "metadata": {
      "tags": []
     },
     "output_type": "execute_result"
    }
   ],
   "source": [
    "dfy2 = DataFrame(data= dy2,columns= ['Forward finite','Backward finite', 'Central finite'],index=['1','2','3'] )\n",
    "dfy2"
   ]
  },
  {
   "cell_type": "code",
   "execution_count": null,
   "metadata": {
    "colab": {
     "base_uri": "https://localhost:8080/",
     "height": 136
    },
    "id": "5s02_MVcHmhn",
    "outputId": "79e3fe7f-6be3-4a5d-fe18-689411d9653f"
   },
   "outputs": [
    {
     "data": {
      "text/html": [
       "<div>\n",
       "<style scoped>\n",
       "    .dataframe tbody tr th:only-of-type {\n",
       "        vertical-align: middle;\n",
       "    }\n",
       "\n",
       "    .dataframe tbody tr th {\n",
       "        vertical-align: top;\n",
       "    }\n",
       "\n",
       "    .dataframe thead th {\n",
       "        text-align: right;\n",
       "    }\n",
       "</style>\n",
       "<table border=\"1\" class=\"dataframe\">\n",
       "  <thead>\n",
       "    <tr style=\"text-align: right;\">\n",
       "      <th></th>\n",
       "      <th>FWD Error</th>\n",
       "      <th>BWD Error</th>\n",
       "      <th>CEN Error</th>\n",
       "    </tr>\n",
       "  </thead>\n",
       "  <tbody>\n",
       "    <tr>\n",
       "      <th>1</th>\n",
       "      <td>0.010620</td>\n",
       "      <td>0.010577</td>\n",
       "      <td>0.000022</td>\n",
       "    </tr>\n",
       "    <tr>\n",
       "      <th>2</th>\n",
       "      <td>0.008894</td>\n",
       "      <td>0.017110</td>\n",
       "      <td>0.000587</td>\n",
       "    </tr>\n",
       "    <tr>\n",
       "      <th>3</th>\n",
       "      <td>0.978102</td>\n",
       "      <td>1.140802</td>\n",
       "      <td>0.000000</td>\n",
       "    </tr>\n",
       "  </tbody>\n",
       "</table>\n",
       "</div>"
      ],
      "text/plain": [
       "   FWD Error  BWD Error  CEN Error\n",
       "1   0.010620   0.010577   0.000022\n",
       "2   0.008894   0.017110   0.000587\n",
       "3   0.978102   1.140802   0.000000"
      ]
     },
     "execution_count": 31,
     "metadata": {
      "tags": []
     },
     "output_type": "execute_result"
    }
   ],
   "source": [
    "dfy2_error = DataFrame(data= dy2_error,columns= ['FWD Error','BWD Error', 'CEN Error'],index=['1','2','3'] )\n",
    "dfy2_error"
   ]
  },
  {
   "cell_type": "markdown",
   "metadata": {
    "id": "SXnwFnvAHoTM"
   },
   "source": [
    "## Plotting"
   ]
  },
  {
   "cell_type": "code",
   "execution_count": null,
   "metadata": {
    "colab": {
     "base_uri": "https://localhost:8080/",
     "height": 425
    },
    "id": "SxAw-S7aHrkc",
    "outputId": "69e75963-be5d-467a-c889-53725d4abd47"
   },
   "outputs": [
    {
     "name": "stderr",
     "output_type": "stream",
     "text": [
      "/usr/local/lib/python3.7/dist-packages/ipykernel_launcher.py:5: RuntimeWarning: invalid value encountered in power\n",
      "  \"\"\"\n",
      "/usr/local/lib/python3.7/dist-packages/ipykernel_launcher.py:5: RuntimeWarning: invalid value encountered in power\n",
      "  \"\"\"\n",
      "/usr/local/lib/python3.7/dist-packages/ipykernel_launcher.py:5: RuntimeWarning: invalid value encountered in power\n",
      "  \"\"\"\n",
      "/usr/local/lib/python3.7/dist-packages/ipykernel_launcher.py:5: RuntimeWarning: invalid value encountered in power\n",
      "  \"\"\"\n"
     ]
    },
    {
     "data": {
      "image/png": "[encoded data removed]",
      "text/plain": [
       "<Figure size 432x288 with 1 Axes>"
      ]
     },
     "metadata": {
      "needs_background": "light",
      "tags": []
     },
     "output_type": "display_data"
    }
   ],
   "source": [
    "X = np.linspace(-12,12)\n",
    "plt.plot(X,y1(X), label='f(x)')\n",
    "plt.plot(X,derivative(y1,X,dx), label='f\\'(x)')\n",
    "plt.plot(X,derivative(y1,X,dx,n=2), label='f\\'\\'(x)')\n",
    "plt.plot(X,derivative(y1,X,dx,n=3,order=5), label='f\\'\\'\\'(x)')\n",
    "plt.legend()\n",
    "plt.grid()\n",
    "plt.show()"
   ]
  },
  {
   "cell_type": "markdown",
   "metadata": {
    "id": "Ewlro60AHuLd"
   },
   "source": [
    "## Taylor Series Expansion"
   ]
  },
  {
   "cell_type": "code",
   "execution_count": null,
   "metadata": {
    "id": "m0Fd1hRHHvck"
   },
   "outputs": [],
   "source": [
    "XX = np.linspace(5,7)\n",
    "a = 2*np.pi\n",
    "n = 7\n",
    "def taylor(f,a,n,x):\n",
    "    y=0\n",
    "    for i in range(n+1):\n",
    "        y += ( ( (derivative(f,a,dx,n=i,order=9)) * ((x-a)**i) ) / np.math.factorial(i)  )\n",
    "    return y"
   ]
  },
  {
   "cell_type": "markdown",
   "metadata": {
    "id": "hE4C_8lvHz7r"
   },
   "source": [
    "## Y1 using Taylor series Expansion"
   ]
  },
  {
   "cell_type": "code",
   "execution_count": null,
   "metadata": {
    "id": "lTtjiIWBHxHF"
   },
   "outputs": [],
   "source": [
    "# plt.axvline(x = 2*np.pi, c = \"k\")\n",
    "plt.plot(XX,taylor(y1,a,n,XX),label='taylor series')\n",
    "plt.plot(XX,y1(XX),label='Analytic',c=\"k\")\n",
    "plt.legend()\n",
    "plt.grid()\n",
    "plt.show()\n",
    "        "
   ]
  },
  {
   "cell_type": "markdown",
   "metadata": {
    "id": "WtlNWeFWH2tt"
   },
   "source": [
    "## Y2 using Taylor series Expansion"
   ]
  },
  {
   "cell_type": "code",
   "execution_count": null,
   "metadata": {
    "id": "kGNFNgvjoars"
   },
   "outputs": [],
   "source": [
    "# plt.axvline(x = 2*np.pi, c = \"k\")\n",
    "plt.plot(XX,taylor(y2,a,n,XX),label='taylor series')\n",
    "plt.plot(XX,y2(XX),label='Analytic',c=\"k\")\n",
    "plt.grid()\n",
    "plt.show()"
   ]
  }
 ],
 "metadata": {
  "colab": {
   "collapsed_sections": [],
   "include_colab_link": true,
   "name": "Numerical Differentiation",
   "provenance": []
  },
  "kernelspec": {
   "display_name": "Python 3",
   "language": "python",
   "name": "python3"
  },
  "language_info": {
   "codemirror_mode": {
    "name": "ipython",
    "version": 3
   },
   "file_extension": ".py",
   "mimetype": "text/x-python",
   "name": "python",
   "nbconvert_exporter": "python",
   "pygments_lexer": "ipython3",
   "version": "3.8.3"
  }
 },
 "nbformat": 4,
 "nbformat_minor": 4
}
